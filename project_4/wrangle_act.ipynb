{
 "cells": [
  {
   "cell_type": "markdown",
   "metadata": {},
   "source": [
    "# Data Analyst Nanodegree\n",
    "# Project 4 - Wrangling and Analyze Data\n",
    "## Part I: Data Wrangling"
   ]
  },
  {
   "cell_type": "code",
   "execution_count": 1,
   "metadata": {},
   "outputs": [],
   "source": [
    "# Import all necessary libraries\n",
    "import requests\n",
    "import os\n",
    "import tweepy\n",
    "import json\n",
    "import re\n",
    "import sqlite3\n",
    "import pandas as pd\n",
    "import numpy as np\n",
    "import matplotlib.pyplot as plt\n",
    "import seaborn as sns\n",
    "from scipy import stats\n",
    "import statsmodels.api as sm\n",
    "%matplotlib inline"
   ]
  },
  {
   "cell_type": "markdown",
   "metadata": {},
   "source": [
    "## Gather"
   ]
  },
  {
   "cell_type": "markdown",
   "metadata": {},
   "source": [
    "### Twitter archive\n",
    "#### Load local file"
   ]
  },
  {
   "cell_type": "code",
   "execution_count": 2,
   "metadata": {},
   "outputs": [
    {
     "name": "stdout",
     "output_type": "stream",
     "text": [
      "File found. Bytes: 915692\n"
     ]
    }
   ],
   "source": [
    "# Check if file exists in directory, read into dataframe\n",
    "fname = 'twitter-archive-enhanced.csv'\n",
    "if os.path.exists(fname) :\n",
    "    print('File found. Bytes:', os.stat(fname).st_size)\n",
    "    df1 = pd.read_csv(fname)\n",
    "else : print('File not found.')"
   ]
  },
  {
   "cell_type": "markdown",
   "metadata": {},
   "source": [
    "### Tweet image predictions\n",
    "#### Download a file"
   ]
  },
  {
   "cell_type": "code",
   "execution_count": 3,
   "metadata": {},
   "outputs": [],
   "source": [
    "# Request a file and write to disk\n",
    "url = 'https://d17h27t6h515a5.cloudfront.net/topher/2017/August/599fd2ad_image-predictions/'\n",
    "fname = 'image-predictions.tsv'\n",
    "r = requests.get(url+fname)\n",
    "\n",
    "with open(fname, 'wb') as f :\n",
    "    f.write(r.content)"
   ]
  },
  {
   "cell_type": "code",
   "execution_count": 4,
   "metadata": {},
   "outputs": [
    {
     "name": "stdout",
     "output_type": "stream",
     "text": [
      "Bytes on the server: 335079 \tBytes on disk: 335079\n",
      "Same length?\t True\n"
     ]
    }
   ],
   "source": [
    "# Test the file\n",
    "print('Bytes on the server:', r.headers['Content-length'], '\\tBytes on disk:', os.stat(fname).st_size)\n",
    "print('Same length?\\t', int(r.headers['Content-length']) == os.stat(fname).st_size)"
   ]
  },
  {
   "cell_type": "markdown",
   "metadata": {},
   "source": [
    "### Tweet retweets, favorites, etc.\n",
    "#### Query Twitter API"
   ]
  },
  {
   "cell_type": "code",
   "execution_count": 5,
   "metadata": {
    "scrolled": true
   },
   "outputs": [
    {
     "data": {
      "text/html": [
       "<div>\n",
       "<style scoped>\n",
       "    .dataframe tbody tr th:only-of-type {\n",
       "        vertical-align: middle;\n",
       "    }\n",
       "\n",
       "    .dataframe tbody tr th {\n",
       "        vertical-align: top;\n",
       "    }\n",
       "\n",
       "    .dataframe thead th {\n",
       "        text-align: right;\n",
       "    }\n",
       "</style>\n",
       "<table border=\"1\" class=\"dataframe\">\n",
       "  <thead>\n",
       "    <tr style=\"text-align: right;\">\n",
       "      <th></th>\n",
       "      <th>tweet_id</th>\n",
       "      <th>in_reply_to_status_id</th>\n",
       "      <th>in_reply_to_user_id</th>\n",
       "      <th>timestamp</th>\n",
       "      <th>source</th>\n",
       "      <th>text</th>\n",
       "      <th>retweeted_status_id</th>\n",
       "      <th>retweeted_status_user_id</th>\n",
       "      <th>retweeted_status_timestamp</th>\n",
       "      <th>expanded_urls</th>\n",
       "      <th>rating_numerator</th>\n",
       "      <th>rating_denominator</th>\n",
       "      <th>name</th>\n",
       "      <th>doggo</th>\n",
       "      <th>floofer</th>\n",
       "      <th>pupper</th>\n",
       "      <th>puppo</th>\n",
       "    </tr>\n",
       "  </thead>\n",
       "  <tbody>\n",
       "    <tr>\n",
       "      <th>0</th>\n",
       "      <td>892420643555336193</td>\n",
       "      <td>NaN</td>\n",
       "      <td>NaN</td>\n",
       "      <td>2017-08-01 16:23:56 +0000</td>\n",
       "      <td>&lt;a href=\"http://twitter.com/download/iphone\" r...</td>\n",
       "      <td>This is Phineas. He's a mystical boy. Only eve...</td>\n",
       "      <td>NaN</td>\n",
       "      <td>NaN</td>\n",
       "      <td>NaN</td>\n",
       "      <td>https://twitter.com/dog_rates/status/892420643...</td>\n",
       "      <td>13</td>\n",
       "      <td>10</td>\n",
       "      <td>Phineas</td>\n",
       "      <td>None</td>\n",
       "      <td>None</td>\n",
       "      <td>None</td>\n",
       "      <td>None</td>\n",
       "    </tr>\n",
       "  </tbody>\n",
       "</table>\n",
       "</div>"
      ],
      "text/plain": [
       "             tweet_id  in_reply_to_status_id  in_reply_to_user_id  \\\n",
       "0  892420643555336193                    NaN                  NaN   \n",
       "\n",
       "                   timestamp  \\\n",
       "0  2017-08-01 16:23:56 +0000   \n",
       "\n",
       "                                              source  \\\n",
       "0  <a href=\"http://twitter.com/download/iphone\" r...   \n",
       "\n",
       "                                                text  retweeted_status_id  \\\n",
       "0  This is Phineas. He's a mystical boy. Only eve...                  NaN   \n",
       "\n",
       "   retweeted_status_user_id retweeted_status_timestamp  \\\n",
       "0                       NaN                        NaN   \n",
       "\n",
       "                                       expanded_urls  rating_numerator  \\\n",
       "0  https://twitter.com/dog_rates/status/892420643...                13   \n",
       "\n",
       "   rating_denominator     name doggo floofer pupper puppo  \n",
       "0                  10  Phineas  None    None   None  None  "
      ]
     },
     "execution_count": 5,
     "metadata": {},
     "output_type": "execute_result"
    }
   ],
   "source": [
    "# Assess tweet ID's format\n",
    "df1.head(1)"
   ]
  },
  {
   "cell_type": "code",
   "execution_count": 6,
   "metadata": {},
   "outputs": [
    {
     "data": {
      "text/plain": [
       "dtype('int64')"
      ]
     },
     "execution_count": 6,
     "metadata": {},
     "output_type": "execute_result"
    }
   ],
   "source": [
    "df1.tweet_id.dtype"
   ]
  },
  {
   "cell_type": "code",
   "execution_count": 7,
   "metadata": {},
   "outputs": [
    {
     "name": "stdout",
     "output_type": "stream",
     "text": [
      "(C)onnect to Twitter API or (S)kip?\n",
      "Connect only if valid API keys are provided below.\n",
      "c\n",
      "Connecting to Twitter API\n"
     ]
    }
   ],
   "source": [
    "while True :\n",
    "    skipq = input(('(C)onnect to Twitter API or (S)kip?\\nConnect only if valid API keys are provided below.\\n'))\n",
    "    if skipq.lower() == 's' :\n",
    "        skip = True\n",
    "        print('Skipping.')\n",
    "        break\n",
    "    elif skipq.lower() == 'c' :\n",
    "        skip = False\n",
    "        print('Connecting to Twitter API')\n",
    "        break\n",
    "    else :\n",
    "        print('Wrong input, try again.')\n",
    "        continue"
   ]
  },
  {
   "cell_type": "code",
   "execution_count": 8,
   "metadata": {},
   "outputs": [],
   "source": [
    "# API authorisation - use own keys\n",
    "while True :\n",
    "    if skip : break\n",
    "    consumer_key = ''\n",
    "    consumer_secret = ''\n",
    "    access_token = ''\n",
    "    access_secret = ''\n",
    "\n",
    "    auth = tweepy.OAuthHandler(consumer_key, consumer_secret)\n",
    "    auth.set_access_token(access_token, access_secret)\n",
    "\n",
    "    api = tweepy.API(auth, wait_on_rate_limit=True, wait_on_rate_limit_notify=True)\n",
    "    break"
   ]
  },
  {
   "cell_type": "code",
   "execution_count": 9,
   "metadata": {},
   "outputs": [
    {
     "name": "stdout",
     "output_type": "stream",
     "text": [
      "This is Phineas. He's a mystical boy. Only ever appears in the hole of a donut. 13/10 https://t.co/MgUWQ76dJU\n"
     ]
    }
   ],
   "source": [
    "# Test connection\n",
    "while True :\n",
    "    if skip : break\n",
    "    tweet = api.get_status(df1.tweet_id[0], tweet_mode='extended')\n",
    "    print(tweet.full_text)\n",
    "    break"
   ]
  },
  {
   "cell_type": "code",
   "execution_count": 10,
   "metadata": {
    "scrolled": false
   },
   "outputs": [
    {
     "name": "stdout",
     "output_type": "stream",
     "text": [
      "{\n",
      "    \"created_at\": \"Tue Aug 01 16:23:56 +0000 2017\",\n",
      "    \"id\": 892420643555336193,\n",
      "    \"id_str\": \"892420643555336193\",\n",
      "    \"full_text\": \"This is Phineas. He's a mystical boy. Only ever appears in the hole of a donut. 13/10 https://t.co/MgUWQ76dJU\",\n",
      "    \"truncated\": false,\n",
      "    \"display_text_range\": [\n",
      "        0,\n",
      "        85\n",
      "    ],\n",
      "    \"entities\": {\n",
      "        \"hashtags\": [],\n",
      "        \"symbols\": [],\n",
      "        \"user_mentions\": [],\n",
      "        \"urls\": [],\n",
      "        \"media\": [\n",
      "            {\n",
      "                \"id\": 892420639486877696,\n",
      "                \"id_str\": \"892420639486877696\",\n",
      "                \"indices\": [\n",
      "                    86,\n",
      "                    109\n",
      "                ],\n",
      "                \"media_url\": \"http://pbs.twimg.com/media/DGKD1-bXoAAIAUK.jpg\",\n",
      "                \"media_url_https\": \"https://pbs.twimg.com/media/DGKD1-bXoAAIAUK.jpg\",\n",
      "                \"url\": \"https://t.co/MgUWQ76dJU\",\n",
      "                \"display_url\": \"pic.twitter.com/MgUWQ76dJU\",\n",
      "                \"expanded_url\": \"https://twitter.com/dog_rates/status/892420643555336193/photo/1\",\n",
      "                \"type\": \"photo\",\n",
      "                \"sizes\": {\n",
      "                    \"thumb\": {\n",
      "                        \"w\": 150,\n",
      "                        \"h\": 150,\n",
      "                        \"resize\": \"crop\"\n",
      "                    },\n",
      "                    \"medium\": {\n",
      "                        \"w\": 540,\n",
      "                        \"h\": 528,\n",
      "                        \"resize\": \"fit\"\n",
      "                    },\n",
      "                    \"small\": {\n",
      "                        \"w\": 540,\n",
      "                        \"h\": 528,\n",
      "                        \"resize\": \"fit\"\n",
      "                    },\n",
      "                    \"large\": {\n",
      "                        \"w\": 540,\n",
      "                        \"h\": 528,\n",
      "                        \"resize\": \"fit\"\n",
      "                    }\n",
      "                }\n",
      "            }\n",
      "        ]\n",
      "    },\n",
      "    \"extended_entities\": {\n",
      "        \"media\": [\n",
      "            {\n",
      "                \"id\": 892420639486877696,\n",
      "                \"id_str\": \"892420639486877696\",\n",
      "                \"indices\": [\n",
      "                    86,\n",
      "                    109\n",
      "                ],\n",
      "                \"media_url\": \"http://pbs.twimg.com/media/DGKD1-bXoAAIAUK.jpg\",\n",
      "                \"media_url_https\": \"https://pbs.twimg.com/media/DGKD1-bXoAAIAUK.jpg\",\n",
      "                \"url\": \"https://t.co/MgUWQ76dJU\",\n",
      "                \"display_url\": \"pic.twitter.com/MgUWQ76dJU\",\n",
      "                \"expanded_url\": \"https://twitter.com/dog_rates/status/892420643555336193/photo/1\",\n",
      "                \"type\": \"photo\",\n",
      "                \"sizes\": {\n",
      "                    \"thumb\": {\n",
      "                        \"w\": 150,\n",
      "                        \"h\": 150,\n",
      "                        \"resize\": \"crop\"\n",
      "                    },\n",
      "                    \"medium\": {\n",
      "                        \"w\": 540,\n",
      "                        \"h\": 528,\n",
      "                        \"resize\": \"fit\"\n",
      "                    },\n",
      "                    \"small\": {\n",
      "                        \"w\": 540,\n",
      "                        \"h\": 528,\n",
      "                        \"resize\": \"fit\"\n",
      "                    },\n",
      "                    \"large\": {\n",
      "                        \"w\": 540,\n",
      "                        \"h\": 528,\n",
      "                        \"resize\": \"fit\"\n",
      "                    }\n",
      "                }\n",
      "            }\n",
      "        ]\n",
      "    },\n",
      "    \"source\": \"<a href=\\\"http://twitter.com/download/iphone\\\" rel=\\\"nofollow\\\">Twitter for iPhone</a>\",\n",
      "    \"in_reply_to_status_id\": null,\n",
      "    \"in_reply_to_status_id_str\": null,\n",
      "    \"in_reply_to_user_id\": null,\n",
      "    \"in_reply_to_user_id_str\": null,\n",
      "    \"in_reply_to_screen_name\": null,\n",
      "    \"user\": {\n",
      "        \"id\": 4196983835,\n",
      "        \"id_str\": \"4196983835\",\n",
      "        \"name\": \"WeRateDogs\\u00ae\",\n",
      "        \"screen_name\": \"dog_rates\",\n",
      "        \"location\": \"links and things \\u279c\",\n",
      "        \"description\": \"Your Only Source For Professional Dog Ratings Instagram and Facebook \\u279c WeRateDogs partnerships@weratedogs.com \\u2800\\u2800\\u2800\\u2800\\u2800\\u2800\\u2800\\u2800\\u2800\\u2800\\u2800\\u2800\",\n",
      "        \"url\": \"https://t.co/6ytGi24QCk\",\n",
      "        \"entities\": {\n",
      "            \"url\": {\n",
      "                \"urls\": [\n",
      "                    {\n",
      "                        \"url\": \"https://t.co/6ytGi24QCk\",\n",
      "                        \"expanded_url\": \"http://campsite.bio/weratedogs\",\n",
      "                        \"display_url\": \"campsite.bio/weratedogs\",\n",
      "                        \"indices\": [\n",
      "                            0,\n",
      "                            23\n",
      "                        ]\n",
      "                    }\n",
      "                ]\n",
      "            },\n",
      "            \"description\": {\n",
      "                \"urls\": []\n",
      "            }\n",
      "        },\n",
      "        \"protected\": false,\n",
      "        \"followers_count\": 8994603,\n",
      "        \"friends_count\": 16,\n",
      "        \"listed_count\": 6505,\n",
      "        \"created_at\": \"Sun Nov 15 21:41:29 +0000 2015\",\n",
      "        \"favourites_count\": 145876,\n",
      "        \"utc_offset\": null,\n",
      "        \"time_zone\": null,\n",
      "        \"geo_enabled\": true,\n",
      "        \"verified\": true,\n",
      "        \"statuses_count\": 13617,\n",
      "        \"lang\": null,\n",
      "        \"contributors_enabled\": false,\n",
      "        \"is_translator\": false,\n",
      "        \"is_translation_enabled\": false,\n",
      "        \"profile_background_color\": \"000000\",\n",
      "        \"profile_background_image_url\": \"http://abs.twimg.com/images/themes/theme1/bg.png\",\n",
      "        \"profile_background_image_url_https\": \"https://abs.twimg.com/images/themes/theme1/bg.png\",\n",
      "        \"profile_background_tile\": false,\n",
      "        \"profile_image_url\": \"http://pbs.twimg.com/profile_images/1351720980972933122/I3MnYUdm_normal.jpg\",\n",
      "        \"profile_image_url_https\": \"https://pbs.twimg.com/profile_images/1351720980972933122/I3MnYUdm_normal.jpg\",\n",
      "        \"profile_banner_url\": \"https://pbs.twimg.com/profile_banners/4196983835/1611883974\",\n",
      "        \"profile_link_color\": \"F5ABB5\",\n",
      "        \"profile_sidebar_border_color\": \"000000\",\n",
      "        \"profile_sidebar_fill_color\": \"000000\",\n",
      "        \"profile_text_color\": \"000000\",\n",
      "        \"profile_use_background_image\": false,\n",
      "        \"has_extended_profile\": false,\n",
      "        \"default_profile\": false,\n",
      "        \"default_profile_image\": false,\n",
      "        \"following\": false,\n",
      "        \"follow_request_sent\": false,\n",
      "        \"notifications\": false,\n",
      "        \"translator_type\": \"none\"\n",
      "    },\n",
      "    \"geo\": null,\n",
      "    \"coordinates\": null,\n",
      "    \"place\": null,\n",
      "    \"contributors\": null,\n",
      "    \"is_quote_status\": false,\n",
      "    \"retweet_count\": 7331,\n",
      "    \"favorite_count\": 34943,\n",
      "    \"favorited\": false,\n",
      "    \"retweeted\": false,\n",
      "    \"possibly_sensitive\": false,\n",
      "    \"possibly_sensitive_appealable\": false,\n",
      "    \"lang\": \"en\"\n",
      "}\n"
     ]
    }
   ],
   "source": [
    "# Parse tweet's JSON to preview structure\n",
    "while True :\n",
    "    if skip : break\n",
    "    json_str = json.dumps(tweet._json, ensure_ascii=False)\n",
    "    json_parsed = json.loads(json_str)\n",
    "\n",
    "    print(json.dumps(json_parsed, indent=4))\n",
    "    break"
   ]
  },
  {
   "cell_type": "code",
   "execution_count": 11,
   "metadata": {},
   "outputs": [
    {
     "name": "stdout",
     "output_type": "stream",
     "text": [
      "Previous file found. Bytes: 852786\n",
      "Delete and generate (N)ew from API\n",
      "(A)ppend lines to existing\n",
      "(S)kip API part\n",
      "n\n",
      "File deleted. Will write to blank file.\n",
      "Processing tweet no. 100\n",
      "Processing tweet no. 200\n",
      "Processing tweet no. 300\n",
      "Processing tweet no. 400\n",
      "Processing tweet no. 500\n",
      "Processing tweet no. 600\n",
      "Processing tweet no. 700\n"
     ]
    },
    {
     "name": "stderr",
     "output_type": "stream",
     "text": [
      "Rate limit reached. Sleeping for: 118\n"
     ]
    },
    {
     "name": "stdout",
     "output_type": "stream",
     "text": [
      "Processing tweet no. 800\n",
      "Processing tweet no. 900\n",
      "Processing tweet no. 1000\n",
      "Processing tweet no. 1100\n",
      "Processing tweet no. 1200\n",
      "Processing tweet no. 1300\n",
      "Processing tweet no. 1400\n",
      "Processing tweet no. 1500\n",
      "Processing tweet no. 1600\n"
     ]
    },
    {
     "name": "stderr",
     "output_type": "stream",
     "text": [
      "Rate limit reached. Sleeping for: 529\n"
     ]
    },
    {
     "name": "stdout",
     "output_type": "stream",
     "text": [
      "Processing tweet no. 1700\n",
      "Processing tweet no. 1800\n",
      "Processing tweet no. 1900\n",
      "Processing tweet no. 2000\n",
      "Processing tweet no. 2100\n",
      "Processing tweet no. 2200\n",
      "Processing tweet no. 2300\n",
      "Work finished. \n",
      "Tweets checked: 2356 \tTweets written: 2331 \tTweets not found: 25\n",
      "Not found tweet id's written to file: tweets_not_found.txt\n"
     ]
    }
   ],
   "source": [
    "# Checking if file exists, deleting as per user decision or skipping API part altogether.\n",
    "fname = 'tweet_json.txt'\n",
    "\n",
    "while True :\n",
    "    if skip : break\n",
    "    if os.path.exists(fname) :\n",
    "        print('Previous file found. Bytes:', os.stat(fname).st_size)\n",
    "        delq = input(('Delete and generate (N)ew from API\\n(A)ppend lines to existing\\n(S)kip API part\\n'))\n",
    "        if delq.lower() == 'n' :\n",
    "            os.remove(fname)\n",
    "            print('File deleted. Will write to blank file.')\n",
    "        elif delq.lower() == 'a' : print('File kept. Writing lines to existing file.')\n",
    "        elif delq.lower() == 's' :\n",
    "            print('Skipping API querying. Will use existing file.')\n",
    "            skip = True\n",
    "        else : print('Unrecognized input')\n",
    "    else : print('File not found. Will write to blank file.')\n",
    "    \n",
    "    # Break from the loop, skipping API querying\n",
    "    if skip : break\n",
    "\n",
    "    # Looping through tweets, writing JSON to file.\n",
    "    count = 0\n",
    "    nf_count = 0\n",
    "    if os.path.exists('tweets_not_found.txt') : os.remove('tweets_not_found.txt')\n",
    "    for twid in df1.tweet_id :\n",
    "        count += 1\n",
    "        if count % 100 == 0 : print('Processing tweet no.', count)\n",
    "        try :\n",
    "            tweet = api.get_status(twid, tweet_mode='extended')\n",
    "            json_str = json.dumps(tweet._json, ensure_ascii=False)\n",
    "            with open(fname, 'ab') as f :\n",
    "                f.write((json_str+'\\n').encode())\n",
    "        except :\n",
    "            nf_count += 1\n",
    "            # turning this off - too many alerts.\n",
    "            # print('Tweet', twid, 'not found. Skipping to next.')\n",
    "            with open('tweets_not_found.txt', 'a') as f :\n",
    "                f.write(str(twid)+'\\n')\n",
    "            continue\n",
    "\n",
    "    print('Work finished. \\nTweets checked:', count, '\\tTweets written:', count-nf_count, '\\tTweets not found:', nf_count)\n",
    "    print('Not found tweet id\\'s written to file: tweets_not_found.txt')\n",
    "    break"
   ]
  },
  {
   "cell_type": "markdown",
   "metadata": {},
   "source": [
    "### Read into dataframes"
   ]
  },
  {
   "cell_type": "code",
   "execution_count": 12,
   "metadata": {},
   "outputs": [],
   "source": [
    "# Twitter archive-enhanced.csv is already loaded as df1\n",
    "# Reading image predictions into a second df\n",
    "df_img = pd.read_csv('image-predictions.tsv', sep='\\s', engine='python')"
   ]
  },
  {
   "cell_type": "code",
   "execution_count": 13,
   "metadata": {},
   "outputs": [],
   "source": [
    "# Twitter API data - building a list of dicts\n",
    "data = list()\n",
    "with open(fname, encoding='utf-8') as f :\n",
    "    for line in f :\n",
    "        json_str = json.loads(line)\n",
    "        data.append({'tweet_id':json_str['id'], 'likes':json_str['favorite_count'], 'retweets':json_str['retweet_count']})\n",
    "\n",
    "# Commenting out below - not essential, notworking if skipped using API\n",
    "# if len(data) == count - nf_count : print('List of dicts successfully created.')\n",
    "# else : print('Something went wrong.', len(data), 'dicts created. Should be', count - nf_count)"
   ]
  },
  {
   "cell_type": "code",
   "execution_count": 14,
   "metadata": {},
   "outputs": [],
   "source": [
    "# Twitter API data - building a df\n",
    "df_api = pd.DataFrame(data)"
   ]
  },
  {
   "cell_type": "markdown",
   "metadata": {},
   "source": [
    "## Assess"
   ]
  },
  {
   "cell_type": "code",
   "execution_count": 15,
   "metadata": {},
   "outputs": [
    {
     "data": {
      "text/html": [
       "<div>\n",
       "<style scoped>\n",
       "    .dataframe tbody tr th:only-of-type {\n",
       "        vertical-align: middle;\n",
       "    }\n",
       "\n",
       "    .dataframe tbody tr th {\n",
       "        vertical-align: top;\n",
       "    }\n",
       "\n",
       "    .dataframe thead th {\n",
       "        text-align: right;\n",
       "    }\n",
       "</style>\n",
       "<table border=\"1\" class=\"dataframe\">\n",
       "  <thead>\n",
       "    <tr style=\"text-align: right;\">\n",
       "      <th></th>\n",
       "      <th>tweet_id</th>\n",
       "      <th>in_reply_to_status_id</th>\n",
       "      <th>in_reply_to_user_id</th>\n",
       "      <th>timestamp</th>\n",
       "      <th>source</th>\n",
       "      <th>text</th>\n",
       "      <th>retweeted_status_id</th>\n",
       "      <th>retweeted_status_user_id</th>\n",
       "      <th>retweeted_status_timestamp</th>\n",
       "      <th>expanded_urls</th>\n",
       "      <th>rating_numerator</th>\n",
       "      <th>rating_denominator</th>\n",
       "      <th>name</th>\n",
       "      <th>doggo</th>\n",
       "      <th>floofer</th>\n",
       "      <th>pupper</th>\n",
       "      <th>puppo</th>\n",
       "    </tr>\n",
       "  </thead>\n",
       "  <tbody>\n",
       "    <tr>\n",
       "      <th>0</th>\n",
       "      <td>892420643555336193</td>\n",
       "      <td>NaN</td>\n",
       "      <td>NaN</td>\n",
       "      <td>2017-08-01 16:23:56 +0000</td>\n",
       "      <td>&lt;a href=\"http://twitter.com/download/iphone\" r...</td>\n",
       "      <td>This is Phineas. He's a mystical boy. Only eve...</td>\n",
       "      <td>NaN</td>\n",
       "      <td>NaN</td>\n",
       "      <td>NaN</td>\n",
       "      <td>https://twitter.com/dog_rates/status/892420643...</td>\n",
       "      <td>13</td>\n",
       "      <td>10</td>\n",
       "      <td>Phineas</td>\n",
       "      <td>None</td>\n",
       "      <td>None</td>\n",
       "      <td>None</td>\n",
       "      <td>None</td>\n",
       "    </tr>\n",
       "    <tr>\n",
       "      <th>1</th>\n",
       "      <td>892177421306343426</td>\n",
       "      <td>NaN</td>\n",
       "      <td>NaN</td>\n",
       "      <td>2017-08-01 00:17:27 +0000</td>\n",
       "      <td>&lt;a href=\"http://twitter.com/download/iphone\" r...</td>\n",
       "      <td>This is Tilly. She's just checking pup on you....</td>\n",
       "      <td>NaN</td>\n",
       "      <td>NaN</td>\n",
       "      <td>NaN</td>\n",
       "      <td>https://twitter.com/dog_rates/status/892177421...</td>\n",
       "      <td>13</td>\n",
       "      <td>10</td>\n",
       "      <td>Tilly</td>\n",
       "      <td>None</td>\n",
       "      <td>None</td>\n",
       "      <td>None</td>\n",
       "      <td>None</td>\n",
       "    </tr>\n",
       "    <tr>\n",
       "      <th>2</th>\n",
       "      <td>891815181378084864</td>\n",
       "      <td>NaN</td>\n",
       "      <td>NaN</td>\n",
       "      <td>2017-07-31 00:18:03 +0000</td>\n",
       "      <td>&lt;a href=\"http://twitter.com/download/iphone\" r...</td>\n",
       "      <td>This is Archie. He is a rare Norwegian Pouncin...</td>\n",
       "      <td>NaN</td>\n",
       "      <td>NaN</td>\n",
       "      <td>NaN</td>\n",
       "      <td>https://twitter.com/dog_rates/status/891815181...</td>\n",
       "      <td>12</td>\n",
       "      <td>10</td>\n",
       "      <td>Archie</td>\n",
       "      <td>None</td>\n",
       "      <td>None</td>\n",
       "      <td>None</td>\n",
       "      <td>None</td>\n",
       "    </tr>\n",
       "    <tr>\n",
       "      <th>3</th>\n",
       "      <td>891689557279858688</td>\n",
       "      <td>NaN</td>\n",
       "      <td>NaN</td>\n",
       "      <td>2017-07-30 15:58:51 +0000</td>\n",
       "      <td>&lt;a href=\"http://twitter.com/download/iphone\" r...</td>\n",
       "      <td>This is Darla. She commenced a snooze mid meal...</td>\n",
       "      <td>NaN</td>\n",
       "      <td>NaN</td>\n",
       "      <td>NaN</td>\n",
       "      <td>https://twitter.com/dog_rates/status/891689557...</td>\n",
       "      <td>13</td>\n",
       "      <td>10</td>\n",
       "      <td>Darla</td>\n",
       "      <td>None</td>\n",
       "      <td>None</td>\n",
       "      <td>None</td>\n",
       "      <td>None</td>\n",
       "    </tr>\n",
       "    <tr>\n",
       "      <th>4</th>\n",
       "      <td>891327558926688256</td>\n",
       "      <td>NaN</td>\n",
       "      <td>NaN</td>\n",
       "      <td>2017-07-29 16:00:24 +0000</td>\n",
       "      <td>&lt;a href=\"http://twitter.com/download/iphone\" r...</td>\n",
       "      <td>This is Franklin. He would like you to stop ca...</td>\n",
       "      <td>NaN</td>\n",
       "      <td>NaN</td>\n",
       "      <td>NaN</td>\n",
       "      <td>https://twitter.com/dog_rates/status/891327558...</td>\n",
       "      <td>12</td>\n",
       "      <td>10</td>\n",
       "      <td>Franklin</td>\n",
       "      <td>None</td>\n",
       "      <td>None</td>\n",
       "      <td>None</td>\n",
       "      <td>None</td>\n",
       "    </tr>\n",
       "  </tbody>\n",
       "</table>\n",
       "</div>"
      ],
      "text/plain": [
       "             tweet_id  in_reply_to_status_id  in_reply_to_user_id  \\\n",
       "0  892420643555336193                    NaN                  NaN   \n",
       "1  892177421306343426                    NaN                  NaN   \n",
       "2  891815181378084864                    NaN                  NaN   \n",
       "3  891689557279858688                    NaN                  NaN   \n",
       "4  891327558926688256                    NaN                  NaN   \n",
       "\n",
       "                   timestamp  \\\n",
       "0  2017-08-01 16:23:56 +0000   \n",
       "1  2017-08-01 00:17:27 +0000   \n",
       "2  2017-07-31 00:18:03 +0000   \n",
       "3  2017-07-30 15:58:51 +0000   \n",
       "4  2017-07-29 16:00:24 +0000   \n",
       "\n",
       "                                              source  \\\n",
       "0  <a href=\"http://twitter.com/download/iphone\" r...   \n",
       "1  <a href=\"http://twitter.com/download/iphone\" r...   \n",
       "2  <a href=\"http://twitter.com/download/iphone\" r...   \n",
       "3  <a href=\"http://twitter.com/download/iphone\" r...   \n",
       "4  <a href=\"http://twitter.com/download/iphone\" r...   \n",
       "\n",
       "                                                text  retweeted_status_id  \\\n",
       "0  This is Phineas. He's a mystical boy. Only eve...                  NaN   \n",
       "1  This is Tilly. She's just checking pup on you....                  NaN   \n",
       "2  This is Archie. He is a rare Norwegian Pouncin...                  NaN   \n",
       "3  This is Darla. She commenced a snooze mid meal...                  NaN   \n",
       "4  This is Franklin. He would like you to stop ca...                  NaN   \n",
       "\n",
       "   retweeted_status_user_id retweeted_status_timestamp  \\\n",
       "0                       NaN                        NaN   \n",
       "1                       NaN                        NaN   \n",
       "2                       NaN                        NaN   \n",
       "3                       NaN                        NaN   \n",
       "4                       NaN                        NaN   \n",
       "\n",
       "                                       expanded_urls  rating_numerator  \\\n",
       "0  https://twitter.com/dog_rates/status/892420643...                13   \n",
       "1  https://twitter.com/dog_rates/status/892177421...                13   \n",
       "2  https://twitter.com/dog_rates/status/891815181...                12   \n",
       "3  https://twitter.com/dog_rates/status/891689557...                13   \n",
       "4  https://twitter.com/dog_rates/status/891327558...                12   \n",
       "\n",
       "   rating_denominator      name doggo floofer pupper puppo  \n",
       "0                  10   Phineas  None    None   None  None  \n",
       "1                  10     Tilly  None    None   None  None  \n",
       "2                  10    Archie  None    None   None  None  \n",
       "3                  10     Darla  None    None   None  None  \n",
       "4                  10  Franklin  None    None   None  None  "
      ]
     },
     "execution_count": 15,
     "metadata": {},
     "output_type": "execute_result"
    }
   ],
   "source": [
    "df1.head()"
   ]
  },
  {
   "cell_type": "code",
   "execution_count": 16,
   "metadata": {},
   "outputs": [
    {
     "name": "stdout",
     "output_type": "stream",
     "text": [
      "<class 'pandas.core.frame.DataFrame'>\n",
      "RangeIndex: 2356 entries, 0 to 2355\n",
      "Data columns (total 17 columns):\n",
      " #   Column                      Non-Null Count  Dtype  \n",
      "---  ------                      --------------  -----  \n",
      " 0   tweet_id                    2356 non-null   int64  \n",
      " 1   in_reply_to_status_id       78 non-null     float64\n",
      " 2   in_reply_to_user_id         78 non-null     float64\n",
      " 3   timestamp                   2356 non-null   object \n",
      " 4   source                      2356 non-null   object \n",
      " 5   text                        2356 non-null   object \n",
      " 6   retweeted_status_id         181 non-null    float64\n",
      " 7   retweeted_status_user_id    181 non-null    float64\n",
      " 8   retweeted_status_timestamp  181 non-null    object \n",
      " 9   expanded_urls               2297 non-null   object \n",
      " 10  rating_numerator            2356 non-null   int64  \n",
      " 11  rating_denominator          2356 non-null   int64  \n",
      " 12  name                        2356 non-null   object \n",
      " 13  doggo                       2356 non-null   object \n",
      " 14  floofer                     2356 non-null   object \n",
      " 15  pupper                      2356 non-null   object \n",
      " 16  puppo                       2356 non-null   object \n",
      "dtypes: float64(4), int64(3), object(10)\n",
      "memory usage: 313.0+ KB\n"
     ]
    }
   ],
   "source": [
    "df1.info()"
   ]
  },
  {
   "cell_type": "code",
   "execution_count": 17,
   "metadata": {},
   "outputs": [
    {
     "data": {
      "text/plain": [
       "0"
      ]
     },
     "execution_count": 17,
     "metadata": {},
     "output_type": "execute_result"
    }
   ],
   "source": [
    "df1.tweet_id.duplicated().sum()"
   ]
  },
  {
   "cell_type": "code",
   "execution_count": 18,
   "metadata": {},
   "outputs": [
    {
     "data": {
      "text/plain": [
       "in_reply_to_status_id          77\n",
       "in_reply_to_user_id            31\n",
       "retweeted_status_id           181\n",
       "retweeted_status_user_id       25\n",
       "retweeted_status_timestamp    181\n",
       "doggo                           2\n",
       "floofer                         2\n",
       "pupper                          2\n",
       "puppo                           2\n",
       "dtype: int64"
      ]
     },
     "execution_count": 18,
     "metadata": {},
     "output_type": "execute_result"
    }
   ],
   "source": [
    "# Investigate questionable columns\n",
    "cols_check = ['in_reply_to_status_id', 'in_reply_to_user_id', 'retweeted_status_id', 'retweeted_status_user_id',\n",
    "                 'retweeted_status_timestamp', 'doggo', 'floofer', 'pupper', 'puppo']\n",
    "\n",
    "df1[cols_check].nunique()"
   ]
  },
  {
   "cell_type": "code",
   "execution_count": 19,
   "metadata": {},
   "outputs": [
    {
     "data": {
      "text/plain": [
       "array([           nan, 8.86266357e+17, 8.81607037e+17, 8.79553827e+17,\n",
       "       8.70726203e+17, 8.63425646e+17, 6.67152164e+17, 8.57156678e+17,\n",
       "       8.55818117e+17, 8.56286004e+17])"
      ]
     },
     "execution_count": 19,
     "metadata": {},
     "output_type": "execute_result"
    }
   ],
   "source": [
    "# Check values in float64 columns\n",
    "df1[cols_check[0]].unique()[:10]"
   ]
  },
  {
   "cell_type": "code",
   "execution_count": 20,
   "metadata": {},
   "outputs": [
    {
     "data": {
      "text/plain": [
       "array([           nan, 2.28118160e+09, 4.73844300e+07, 3.10544075e+09,\n",
       "       1.64877600e+07, 7.75962000e+07, 4.19698384e+09, 1.80670967e+08,\n",
       "       2.79280991e+08, 1.94351775e+08])"
      ]
     },
     "execution_count": 20,
     "metadata": {},
     "output_type": "execute_result"
    }
   ],
   "source": [
    "df1[cols_check[1]].unique()[:10]"
   ]
  },
  {
   "cell_type": "code",
   "execution_count": 21,
   "metadata": {},
   "outputs": [
    {
     "data": {
      "text/plain": [
       "array([           nan, 8.87473957e+17, 8.86053734e+17, 8.30583321e+17,\n",
       "       8.78057613e+17, 8.78281511e+17, 6.69000397e+17, 8.76850772e+17,\n",
       "       8.66334965e+17, 8.68880398e+17])"
      ]
     },
     "execution_count": 21,
     "metadata": {},
     "output_type": "execute_result"
    }
   ],
   "source": [
    "df1[cols_check[2]].unique()[:10]"
   ]
  },
  {
   "cell_type": "code",
   "execution_count": 22,
   "metadata": {
    "scrolled": true
   },
   "outputs": [
    {
     "data": {
      "text/plain": [
       "array([           nan, 4.19698384e+09, 1.96074000e+07, 5.12804507e+08,\n",
       "       1.54767397e+08, 7.87461778e+17, 3.63890752e+08, 5.87097230e+07,\n",
       "       6.66990130e+07, 7.47554344e+17])"
      ]
     },
     "execution_count": 22,
     "metadata": {},
     "output_type": "execute_result"
    }
   ],
   "source": [
    "df1[cols_check[3]].unique()[:10]"
   ]
  },
  {
   "cell_type": "code",
   "execution_count": 23,
   "metadata": {},
   "outputs": [
    {
     "data": {
      "text/plain": [
       "array([nan, '2017-07-19 00:47:34 +0000', '2017-07-15 02:44:07 +0000',\n",
       "       '2017-02-12 01:04:29 +0000', '2017-06-23 01:10:23 +0000',\n",
       "       '2017-06-23 16:00:04 +0000', '2015-11-24 03:51:38 +0000',\n",
       "       '2017-06-19 17:14:49 +0000', '2017-05-21 16:48:45 +0000',\n",
       "       '2017-05-28 17:23:24 +0000'], dtype=object)"
      ]
     },
     "execution_count": 23,
     "metadata": {},
     "output_type": "execute_result"
    }
   ],
   "source": [
    "df1[cols_check[4]].unique()[:10]"
   ]
  },
  {
   "cell_type": "code",
   "execution_count": 24,
   "metadata": {},
   "outputs": [
    {
     "data": {
      "text/plain": [
       "<a href=\"http://twitter.com/download/iphone\" rel=\"nofollow\">Twitter for iPhone</a>     2221\n",
       "<a href=\"http://vine.co\" rel=\"nofollow\">Vine - Make a Scene</a>                          91\n",
       "<a href=\"http://twitter.com\" rel=\"nofollow\">Twitter Web Client</a>                       33\n",
       "<a href=\"https://about.twitter.com/products/tweetdeck\" rel=\"nofollow\">TweetDeck</a>      11\n",
       "Name: source, dtype: int64"
      ]
     },
     "execution_count": 24,
     "metadata": {},
     "output_type": "execute_result"
    }
   ],
   "source": [
    "df1['source'].value_counts()"
   ]
  },
  {
   "cell_type": "code",
   "execution_count": 25,
   "metadata": {},
   "outputs": [
    {
     "name": "stdout",
     "output_type": "stream",
     "text": [
      "None     2259\n",
      "doggo      97\n",
      "Name: doggo, dtype: int64\n",
      "None       2346\n",
      "floofer      10\n",
      "Name: floofer, dtype: int64\n",
      "None      2099\n",
      "pupper     257\n",
      "Name: pupper, dtype: int64\n",
      "None     2326\n",
      "puppo      30\n",
      "Name: puppo, dtype: int64\n"
     ]
    }
   ],
   "source": [
    "stage = ['doggo', 'floofer', 'pupper', 'puppo']\n",
    "for s in stage :\n",
    "    print(df1[s].value_counts())"
   ]
  },
  {
   "cell_type": "code",
   "execution_count": 26,
   "metadata": {
    "scrolled": true
   },
   "outputs": [
    {
     "data": {
      "text/plain": [
       "None       745\n",
       "a           55\n",
       "Charlie     12\n",
       "Lucy        11\n",
       "Cooper      11\n",
       "          ... \n",
       "Harnold      1\n",
       "Kulet        1\n",
       "Goliath      1\n",
       "Chloe        1\n",
       "Champ        1\n",
       "Name: name, Length: 957, dtype: int64"
      ]
     },
     "execution_count": 26,
     "metadata": {},
     "output_type": "execute_result"
    }
   ],
   "source": [
    "df1['name'].value_counts()"
   ]
  },
  {
   "cell_type": "code",
   "execution_count": 27,
   "metadata": {},
   "outputs": [
    {
     "data": {
      "text/plain": [
       "12      558\n",
       "11      464\n",
       "10      461\n",
       "13      351\n",
       "9       158\n",
       "8       102\n",
       "7        55\n",
       "14       54\n",
       "5        37\n",
       "6        32\n",
       "3        19\n",
       "4        17\n",
       "1         9\n",
       "2         9\n",
       "0         2\n",
       "15        2\n",
       "75        2\n",
       "420       2\n",
       "182       1\n",
       "204       1\n",
       "143       1\n",
       "121       1\n",
       "99        1\n",
       "20        1\n",
       "45        1\n",
       "27        1\n",
       "17        1\n",
       "24        1\n",
       "26        1\n",
       "44        1\n",
       "50        1\n",
       "60        1\n",
       "80        1\n",
       "84        1\n",
       "88        1\n",
       "1776      1\n",
       "960       1\n",
       "666       1\n",
       "144       1\n",
       "165       1\n",
       "Name: rating_numerator, dtype: int64"
      ]
     },
     "execution_count": 27,
     "metadata": {},
     "output_type": "execute_result"
    }
   ],
   "source": [
    "df1['rating_numerator'].value_counts()"
   ]
  },
  {
   "cell_type": "code",
   "execution_count": 28,
   "metadata": {},
   "outputs": [
    {
     "data": {
      "text/plain": [
       "10     2333\n",
       "11        3\n",
       "50        3\n",
       "20        2\n",
       "80        2\n",
       "0         1\n",
       "120       1\n",
       "7         1\n",
       "170       1\n",
       "150       1\n",
       "130       1\n",
       "90        1\n",
       "110       1\n",
       "2         1\n",
       "70        1\n",
       "40        1\n",
       "16        1\n",
       "15        1\n",
       "Name: rating_denominator, dtype: int64"
      ]
     },
     "execution_count": 28,
     "metadata": {},
     "output_type": "execute_result"
    }
   ],
   "source": [
    "df1['rating_denominator'].value_counts()"
   ]
  },
  {
   "cell_type": "code",
   "execution_count": 29,
   "metadata": {
    "scrolled": true
   },
   "outputs": [
    {
     "data": {
      "text/html": [
       "<div>\n",
       "<style scoped>\n",
       "    .dataframe tbody tr th:only-of-type {\n",
       "        vertical-align: middle;\n",
       "    }\n",
       "\n",
       "    .dataframe tbody tr th {\n",
       "        vertical-align: top;\n",
       "    }\n",
       "\n",
       "    .dataframe thead th {\n",
       "        text-align: right;\n",
       "    }\n",
       "</style>\n",
       "<table border=\"1\" class=\"dataframe\">\n",
       "  <thead>\n",
       "    <tr style=\"text-align: right;\">\n",
       "      <th></th>\n",
       "      <th>tweet_id</th>\n",
       "      <th>jpg_url</th>\n",
       "      <th>img_num</th>\n",
       "      <th>p1</th>\n",
       "      <th>p1_conf</th>\n",
       "      <th>p1_dog</th>\n",
       "      <th>p2</th>\n",
       "      <th>p2_conf</th>\n",
       "      <th>p2_dog</th>\n",
       "      <th>p3</th>\n",
       "      <th>p3_conf</th>\n",
       "      <th>p3_dog</th>\n",
       "    </tr>\n",
       "  </thead>\n",
       "  <tbody>\n",
       "    <tr>\n",
       "      <th>0</th>\n",
       "      <td>666020888022790149</td>\n",
       "      <td>https://pbs.twimg.com/media/CT4udn0WwAA0aMy.jpg</td>\n",
       "      <td>1</td>\n",
       "      <td>Welsh_springer_spaniel</td>\n",
       "      <td>0.465074</td>\n",
       "      <td>True</td>\n",
       "      <td>collie</td>\n",
       "      <td>0.156665</td>\n",
       "      <td>True</td>\n",
       "      <td>Shetland_sheepdog</td>\n",
       "      <td>0.061428</td>\n",
       "      <td>True</td>\n",
       "    </tr>\n",
       "    <tr>\n",
       "      <th>1</th>\n",
       "      <td>666029285002620928</td>\n",
       "      <td>https://pbs.twimg.com/media/CT42GRgUYAA5iDo.jpg</td>\n",
       "      <td>1</td>\n",
       "      <td>redbone</td>\n",
       "      <td>0.506826</td>\n",
       "      <td>True</td>\n",
       "      <td>miniature_pinscher</td>\n",
       "      <td>0.074192</td>\n",
       "      <td>True</td>\n",
       "      <td>Rhodesian_ridgeback</td>\n",
       "      <td>0.072010</td>\n",
       "      <td>True</td>\n",
       "    </tr>\n",
       "    <tr>\n",
       "      <th>2</th>\n",
       "      <td>666033412701032449</td>\n",
       "      <td>https://pbs.twimg.com/media/CT4521TWwAEvMyu.jpg</td>\n",
       "      <td>1</td>\n",
       "      <td>German_shepherd</td>\n",
       "      <td>0.596461</td>\n",
       "      <td>True</td>\n",
       "      <td>malinois</td>\n",
       "      <td>0.138584</td>\n",
       "      <td>True</td>\n",
       "      <td>bloodhound</td>\n",
       "      <td>0.116197</td>\n",
       "      <td>True</td>\n",
       "    </tr>\n",
       "    <tr>\n",
       "      <th>3</th>\n",
       "      <td>666044226329800704</td>\n",
       "      <td>https://pbs.twimg.com/media/CT5Dr8HUEAA-lEu.jpg</td>\n",
       "      <td>1</td>\n",
       "      <td>Rhodesian_ridgeback</td>\n",
       "      <td>0.408143</td>\n",
       "      <td>True</td>\n",
       "      <td>redbone</td>\n",
       "      <td>0.360687</td>\n",
       "      <td>True</td>\n",
       "      <td>miniature_pinscher</td>\n",
       "      <td>0.222752</td>\n",
       "      <td>True</td>\n",
       "    </tr>\n",
       "    <tr>\n",
       "      <th>4</th>\n",
       "      <td>666049248165822465</td>\n",
       "      <td>https://pbs.twimg.com/media/CT5IQmsXIAAKY4A.jpg</td>\n",
       "      <td>1</td>\n",
       "      <td>miniature_pinscher</td>\n",
       "      <td>0.560311</td>\n",
       "      <td>True</td>\n",
       "      <td>Rottweiler</td>\n",
       "      <td>0.243682</td>\n",
       "      <td>True</td>\n",
       "      <td>Doberman</td>\n",
       "      <td>0.154629</td>\n",
       "      <td>True</td>\n",
       "    </tr>\n",
       "  </tbody>\n",
       "</table>\n",
       "</div>"
      ],
      "text/plain": [
       "             tweet_id                                          jpg_url  \\\n",
       "0  666020888022790149  https://pbs.twimg.com/media/CT4udn0WwAA0aMy.jpg   \n",
       "1  666029285002620928  https://pbs.twimg.com/media/CT42GRgUYAA5iDo.jpg   \n",
       "2  666033412701032449  https://pbs.twimg.com/media/CT4521TWwAEvMyu.jpg   \n",
       "3  666044226329800704  https://pbs.twimg.com/media/CT5Dr8HUEAA-lEu.jpg   \n",
       "4  666049248165822465  https://pbs.twimg.com/media/CT5IQmsXIAAKY4A.jpg   \n",
       "\n",
       "   img_num                      p1   p1_conf  p1_dog                  p2  \\\n",
       "0        1  Welsh_springer_spaniel  0.465074    True              collie   \n",
       "1        1                 redbone  0.506826    True  miniature_pinscher   \n",
       "2        1         German_shepherd  0.596461    True            malinois   \n",
       "3        1     Rhodesian_ridgeback  0.408143    True             redbone   \n",
       "4        1      miniature_pinscher  0.560311    True          Rottweiler   \n",
       "\n",
       "    p2_conf  p2_dog                   p3   p3_conf  p3_dog  \n",
       "0  0.156665    True    Shetland_sheepdog  0.061428    True  \n",
       "1  0.074192    True  Rhodesian_ridgeback  0.072010    True  \n",
       "2  0.138584    True           bloodhound  0.116197    True  \n",
       "3  0.360687    True   miniature_pinscher  0.222752    True  \n",
       "4  0.243682    True             Doberman  0.154629    True  "
      ]
     },
     "execution_count": 29,
     "metadata": {},
     "output_type": "execute_result"
    }
   ],
   "source": [
    "df_img.head()"
   ]
  },
  {
   "cell_type": "code",
   "execution_count": 30,
   "metadata": {},
   "outputs": [
    {
     "name": "stdout",
     "output_type": "stream",
     "text": [
      "<class 'pandas.core.frame.DataFrame'>\n",
      "RangeIndex: 2075 entries, 0 to 2074\n",
      "Data columns (total 12 columns):\n",
      " #   Column    Non-Null Count  Dtype  \n",
      "---  ------    --------------  -----  \n",
      " 0   tweet_id  2075 non-null   int64  \n",
      " 1   jpg_url   2075 non-null   object \n",
      " 2   img_num   2075 non-null   int64  \n",
      " 3   p1        2075 non-null   object \n",
      " 4   p1_conf   2075 non-null   float64\n",
      " 5   p1_dog    2075 non-null   bool   \n",
      " 6   p2        2075 non-null   object \n",
      " 7   p2_conf   2075 non-null   float64\n",
      " 8   p2_dog    2075 non-null   bool   \n",
      " 9   p3        2075 non-null   object \n",
      " 10  p3_conf   2075 non-null   float64\n",
      " 11  p3_dog    2075 non-null   bool   \n",
      "dtypes: bool(3), float64(3), int64(2), object(4)\n",
      "memory usage: 152.1+ KB\n"
     ]
    }
   ],
   "source": [
    "df_img.info()"
   ]
  },
  {
   "cell_type": "code",
   "execution_count": 31,
   "metadata": {},
   "outputs": [
    {
     "data": {
      "text/plain": [
       "0"
      ]
     },
     "execution_count": 31,
     "metadata": {},
     "output_type": "execute_result"
    }
   ],
   "source": [
    "df_img.tweet_id.duplicated().sum()"
   ]
  },
  {
   "cell_type": "code",
   "execution_count": 32,
   "metadata": {},
   "outputs": [
    {
     "data": {
      "text/plain": [
       "golden_retriever      150\n",
       "Labrador_retriever    100\n",
       "Pembroke               89\n",
       "Chihuahua              83\n",
       "pug                    57\n",
       "                     ... \n",
       "lynx                    1\n",
       "ocarina                 1\n",
       "traffic_light           1\n",
       "swab                    1\n",
       "ping-pong_ball          1\n",
       "Name: p1, Length: 378, dtype: int64"
      ]
     },
     "execution_count": 32,
     "metadata": {},
     "output_type": "execute_result"
    }
   ],
   "source": [
    "df_img.p1.value_counts()"
   ]
  },
  {
   "cell_type": "code",
   "execution_count": 33,
   "metadata": {},
   "outputs": [
    {
     "data": {
      "text/plain": [
       "array(['Welsh_springer_spaniel', 'redbone', 'German_shepherd',\n",
       "       'Rhodesian_ridgeback', 'miniature_pinscher',\n",
       "       'Bernese_mountain_dog', 'box_turtle', 'chow', 'shopping_cart',\n",
       "       'miniature_poodle', 'golden_retriever', 'Gordon_setter',\n",
       "       'Walker_hound', 'pug', 'bloodhound', 'Lhasa', 'English_setter',\n",
       "       'hen', 'desktop_computer', 'Italian_greyhound', 'Maltese_dog',\n",
       "       'three-toed_sloth', 'ox', 'malamute', 'guinea_pig',\n",
       "       'soft-coated_wheaten_terrier', 'Chihuahua',\n",
       "       'black-and-tan_coonhound', 'coho', 'toy_terrier'], dtype=object)"
      ]
     },
     "execution_count": 33,
     "metadata": {},
     "output_type": "execute_result"
    }
   ],
   "source": [
    "# Holy cow! Quite a soup.\n",
    "df_img.p1.unique()[:30]"
   ]
  },
  {
   "cell_type": "code",
   "execution_count": 34,
   "metadata": {},
   "outputs": [
    {
     "data": {
      "text/plain": [
       "Labrador_retriever    104\n",
       "golden_retriever       92\n",
       "Cardigan               73\n",
       "Chihuahua              44\n",
       "Pomeranian             42\n",
       "                     ... \n",
       "dumbbell                1\n",
       "bucket                  1\n",
       "red_fox                 1\n",
       "bagel                   1\n",
       "tiger                   1\n",
       "Name: p2, Length: 405, dtype: int64"
      ]
     },
     "execution_count": 34,
     "metadata": {},
     "output_type": "execute_result"
    }
   ],
   "source": [
    "df_img.p2.value_counts()"
   ]
  },
  {
   "cell_type": "code",
   "execution_count": 35,
   "metadata": {
    "scrolled": true
   },
   "outputs": [
    {
     "data": {
      "text/plain": [
       "array(['collie', 'miniature_pinscher', 'malinois', 'redbone',\n",
       "       'Rottweiler', 'English_springer', 'mud_turtle', 'Tibetan_mastiff',\n",
       "       'shopping_basket', 'komondor', 'Yorkshire_terrier',\n",
       "       'English_foxhound', 'bull_mastiff', 'German_shepherd', 'Shih-Tzu',\n",
       "       'Newfoundland', 'cock', 'desk', 'toy_terrier', 'toy_poodle',\n",
       "       'otter', 'Chesapeake_Bay_retriever', 'Siberian_husky', 'skunk',\n",
       "       'Afghan_hound', 'bloodhound', 'barracouta', 'papillon',\n",
       "       'cocker_spaniel', 'chow'], dtype=object)"
      ]
     },
     "execution_count": 35,
     "metadata": {},
     "output_type": "execute_result"
    }
   ],
   "source": [
    "df_img.p2.unique()[:30]"
   ]
  },
  {
   "cell_type": "code",
   "execution_count": 36,
   "metadata": {},
   "outputs": [
    {
     "data": {
      "text/plain": [
       "Labrador_retriever    79\n",
       "Chihuahua             58\n",
       "golden_retriever      48\n",
       "Eskimo_dog            38\n",
       "kelpie                35\n",
       "                      ..\n",
       "hare                   1\n",
       "can_opener             1\n",
       "partridge              1\n",
       "park_bench             1\n",
       "cliff                  1\n",
       "Name: p3, Length: 408, dtype: int64"
      ]
     },
     "execution_count": 36,
     "metadata": {},
     "output_type": "execute_result"
    }
   ],
   "source": [
    "df_img.p3.value_counts()"
   ]
  },
  {
   "cell_type": "code",
   "execution_count": 37,
   "metadata": {},
   "outputs": [
    {
     "data": {
      "text/plain": [
       "array(['Shetland_sheepdog', 'Rhodesian_ridgeback', 'bloodhound',\n",
       "       'miniature_pinscher', 'Doberman', 'Greater_Swiss_Mountain_dog',\n",
       "       'terrapin', 'fur_coat', 'golden_retriever',\n",
       "       'soft-coated_wheaten_terrier', 'Labrador_retriever', 'Pekinese',\n",
       "       'Ibizan_hound', 'French_bulldog', 'malinois', 'Dandie_Dinmont',\n",
       "       'borzoi', 'partridge', 'bookcase', 'basenji', 'miniature_poodle',\n",
       "       'great_grey_owl', 'groenendael', 'Eskimo_dog', 'hamster', 'briard',\n",
       "       'papillon', 'flat-coated_retriever', 'gar', 'Chihuahua'],\n",
       "      dtype=object)"
      ]
     },
     "execution_count": 37,
     "metadata": {},
     "output_type": "execute_result"
    }
   ],
   "source": [
    "df_img.p3.unique()[:30]"
   ]
  },
  {
   "cell_type": "code",
   "execution_count": 38,
   "metadata": {},
   "outputs": [
    {
     "name": "stdout",
     "output_type": "stream",
     "text": [
      "jpg_url 66\n",
      "img_num 2071\n",
      "p1 1697\n",
      "p1_conf 69\n",
      "p1_dog 2073\n",
      "p2 1670\n",
      "p2_conf 71\n",
      "p2_dog 2073\n",
      "p3 1667\n",
      "p3_conf 69\n",
      "p3_dog 2073\n"
     ]
    }
   ],
   "source": [
    "# Check for duplicates across columns\n",
    "for col in df_img :\n",
    "    if df_img[col].duplicated().sum() > 0 :\n",
    "        print(col, df_img[col].duplicated().sum())"
   ]
  },
  {
   "cell_type": "code",
   "execution_count": 39,
   "metadata": {},
   "outputs": [
    {
     "data": {
      "text/html": [
       "<div>\n",
       "<style scoped>\n",
       "    .dataframe tbody tr th:only-of-type {\n",
       "        vertical-align: middle;\n",
       "    }\n",
       "\n",
       "    .dataframe tbody tr th {\n",
       "        vertical-align: top;\n",
       "    }\n",
       "\n",
       "    .dataframe thead th {\n",
       "        text-align: right;\n",
       "    }\n",
       "</style>\n",
       "<table border=\"1\" class=\"dataframe\">\n",
       "  <thead>\n",
       "    <tr style=\"text-align: right;\">\n",
       "      <th></th>\n",
       "      <th>tweet_id</th>\n",
       "      <th>likes</th>\n",
       "      <th>retweets</th>\n",
       "    </tr>\n",
       "  </thead>\n",
       "  <tbody>\n",
       "    <tr>\n",
       "      <th>0</th>\n",
       "      <td>892420643555336193</td>\n",
       "      <td>34943</td>\n",
       "      <td>7331</td>\n",
       "    </tr>\n",
       "    <tr>\n",
       "      <th>1</th>\n",
       "      <td>892177421306343426</td>\n",
       "      <td>30258</td>\n",
       "      <td>5473</td>\n",
       "    </tr>\n",
       "    <tr>\n",
       "      <th>2</th>\n",
       "      <td>891815181378084864</td>\n",
       "      <td>22766</td>\n",
       "      <td>3620</td>\n",
       "    </tr>\n",
       "    <tr>\n",
       "      <th>3</th>\n",
       "      <td>891689557279858688</td>\n",
       "      <td>38207</td>\n",
       "      <td>7521</td>\n",
       "    </tr>\n",
       "    <tr>\n",
       "      <th>4</th>\n",
       "      <td>891327558926688256</td>\n",
       "      <td>36476</td>\n",
       "      <td>8091</td>\n",
       "    </tr>\n",
       "  </tbody>\n",
       "</table>\n",
       "</div>"
      ],
      "text/plain": [
       "             tweet_id  likes  retweets\n",
       "0  892420643555336193  34943      7331\n",
       "1  892177421306343426  30258      5473\n",
       "2  891815181378084864  22766      3620\n",
       "3  891689557279858688  38207      7521\n",
       "4  891327558926688256  36476      8091"
      ]
     },
     "execution_count": 39,
     "metadata": {},
     "output_type": "execute_result"
    }
   ],
   "source": [
    "df_api.head()"
   ]
  },
  {
   "cell_type": "code",
   "execution_count": 40,
   "metadata": {},
   "outputs": [
    {
     "name": "stdout",
     "output_type": "stream",
     "text": [
      "<class 'pandas.core.frame.DataFrame'>\n",
      "RangeIndex: 2331 entries, 0 to 2330\n",
      "Data columns (total 3 columns):\n",
      " #   Column    Non-Null Count  Dtype\n",
      "---  ------    --------------  -----\n",
      " 0   tweet_id  2331 non-null   int64\n",
      " 1   likes     2331 non-null   int64\n",
      " 2   retweets  2331 non-null   int64\n",
      "dtypes: int64(3)\n",
      "memory usage: 54.8 KB\n"
     ]
    }
   ],
   "source": [
    "df_api.info()"
   ]
  },
  {
   "cell_type": "code",
   "execution_count": 41,
   "metadata": {},
   "outputs": [
    {
     "data": {
      "text/plain": [
       "0"
      ]
     },
     "execution_count": 41,
     "metadata": {},
     "output_type": "execute_result"
    }
   ],
   "source": [
    "df_api.tweet_id.duplicated().sum()"
   ]
  },
  {
   "cell_type": "code",
   "execution_count": 42,
   "metadata": {},
   "outputs": [],
   "source": [
    "# Check if full data is available for tweets with photos\n",
    "assert df_img.tweet_id.isin(df1.tweet_id).sum() == df_img.shape[0]"
   ]
  },
  {
   "cell_type": "markdown",
   "metadata": {},
   "source": [
    "### Issues\n",
    "#### Tidiness\n",
    "- Would be clearer to have separate tables for **tweets**, **dogs** and **images**.\n",
    "- Four variables of 'dog stage' in one column: `doggo`, `floofer`, `pupper`, `puppo`.\n",
    "\n",
    "#### Quality\n",
    "**`df1` - twitter-archive-enhanced.csv**\n",
    "- Image predictions data not available for all tweets from this initial dataset.\n",
    "- Some tweets ~~may be~~ are retweets.\n",
    "- Four ID columns are of float64 type, not integer: `in_reply_to_status_id`, `in_reply_to_user_id`, `retweeted_status_id`, `retweeted_status_user_id`.\n",
    "- Two timestamp columns are of object / string type, not date/time: `timestamp`, `retweeted_status_timestamp`.\n",
    "- `source` column contains irrelevant urls within HTML tags. (Possibly) more useful urls are in the `expanded_urls` column.\n",
    "- 'Dog stage' is of type string instead of category.\n",
    "- Not all dogs have 'dog stage' data.\n",
    "- Some records have more than one 'dog stage' assigned.\n",
    "- Not all dogs have `name` value.\n",
    "- Part of `rating_numerator` values are out of convention, ie. not the typical 10 to 14.\n",
    "- Part of `rating_denominator` values are out of convention, ie. not 10.\n",
    "\n",
    "**`df_img` - image-predictions.tsv**\n",
    "- Duplicated `jpg_url` values\n",
    "- `p1`, `p2` and `p3` have inconsistent letter case formatting.\n",
    "\n",
    "**`df_api` - tweet_json.txt**\n",
    "- Data not available for all tweets from initial data set. -- tweets were deleted, unable to recover data, will not touch this"
   ]
  },
  {
   "cell_type": "markdown",
   "metadata": {},
   "source": [
    "## Clean"
   ]
  },
  {
   "cell_type": "code",
   "execution_count": 43,
   "metadata": {},
   "outputs": [],
   "source": [
    "# Make copies of df's\n",
    "df1_c = df1.copy()\n",
    "df_img_c = df_img.copy()\n",
    "df_api_c = df_api.copy()"
   ]
  },
  {
   "cell_type": "markdown",
   "metadata": {},
   "source": [
    "### Possible retweets\n",
    "#### Prerequisite: Four ID columns are of float64 type, not integer: `in_reply_to_status_id`, `in_reply_to_user_id`, `retweeted_status_id`, `retweeted_status_user_id`."
   ]
  },
  {
   "cell_type": "markdown",
   "metadata": {},
   "source": [
    "#### Define\n",
    "Convert ID columns' data type to (nullable) integer."
   ]
  },
  {
   "cell_type": "markdown",
   "metadata": {},
   "source": [
    "#### Code"
   ]
  },
  {
   "cell_type": "code",
   "execution_count": 44,
   "metadata": {},
   "outputs": [],
   "source": [
    "df1_c = df1_c.astype({'in_reply_to_status_id':'Int64', 'in_reply_to_user_id':'Int64',\n",
    "                      'retweeted_status_id':'Int64', 'retweeted_status_user_id':'Int64'});"
   ]
  },
  {
   "cell_type": "markdown",
   "metadata": {},
   "source": [
    "#### Test"
   ]
  },
  {
   "cell_type": "code",
   "execution_count": 45,
   "metadata": {},
   "outputs": [
    {
     "name": "stdout",
     "output_type": "stream",
     "text": [
      "<class 'pandas.core.frame.DataFrame'>\n",
      "RangeIndex: 2356 entries, 0 to 2355\n",
      "Data columns (total 17 columns):\n",
      " #   Column                      Non-Null Count  Dtype \n",
      "---  ------                      --------------  ----- \n",
      " 0   tweet_id                    2356 non-null   int64 \n",
      " 1   in_reply_to_status_id       78 non-null     Int64 \n",
      " 2   in_reply_to_user_id         78 non-null     Int64 \n",
      " 3   timestamp                   2356 non-null   object\n",
      " 4   source                      2356 non-null   object\n",
      " 5   text                        2356 non-null   object\n",
      " 6   retweeted_status_id         181 non-null    Int64 \n",
      " 7   retweeted_status_user_id    181 non-null    Int64 \n",
      " 8   retweeted_status_timestamp  181 non-null    object\n",
      " 9   expanded_urls               2297 non-null   object\n",
      " 10  rating_numerator            2356 non-null   int64 \n",
      " 11  rating_denominator          2356 non-null   int64 \n",
      " 12  name                        2356 non-null   object\n",
      " 13  doggo                       2356 non-null   object\n",
      " 14  floofer                     2356 non-null   object\n",
      " 15  pupper                      2356 non-null   object\n",
      " 16  puppo                       2356 non-null   object\n",
      "dtypes: Int64(4), int64(3), object(10)\n",
      "memory usage: 322.2+ KB\n"
     ]
    }
   ],
   "source": [
    "df1_c.info()"
   ]
  },
  {
   "cell_type": "markdown",
   "metadata": {},
   "source": [
    "#### Check if any tweets in the initial dataset are retweets."
   ]
  },
  {
   "cell_type": "markdown",
   "metadata": {},
   "source": [
    "#### Assess"
   ]
  },
  {
   "cell_type": "code",
   "execution_count": 46,
   "metadata": {},
   "outputs": [
    {
     "data": {
      "text/plain": [
       "33"
      ]
     },
     "execution_count": 46,
     "metadata": {},
     "output_type": "execute_result"
    }
   ],
   "source": [
    "df1_c['in_reply_to_status_id'].isin(df1_c.tweet_id).sum()"
   ]
  },
  {
   "cell_type": "code",
   "execution_count": 47,
   "metadata": {},
   "outputs": [
    {
     "data": {
      "text/plain": [
       "112"
      ]
     },
     "execution_count": 47,
     "metadata": {},
     "output_type": "execute_result"
    }
   ],
   "source": [
    "df1_c['retweeted_status_id'].isin(df1_c.tweet_id).sum()"
   ]
  },
  {
   "cell_type": "markdown",
   "metadata": {},
   "source": [
    "145 tweets in the initial data set are either replies or retweets."
   ]
  },
  {
   "cell_type": "code",
   "execution_count": 48,
   "metadata": {},
   "outputs": [
    {
     "data": {
      "text/html": [
       "<div>\n",
       "<style scoped>\n",
       "    .dataframe tbody tr th:only-of-type {\n",
       "        vertical-align: middle;\n",
       "    }\n",
       "\n",
       "    .dataframe tbody tr th {\n",
       "        vertical-align: top;\n",
       "    }\n",
       "\n",
       "    .dataframe thead th {\n",
       "        text-align: right;\n",
       "    }\n",
       "</style>\n",
       "<table border=\"1\" class=\"dataframe\">\n",
       "  <thead>\n",
       "    <tr style=\"text-align: right;\">\n",
       "      <th></th>\n",
       "      <th>tweet_id</th>\n",
       "      <th>in_reply_to_status_id</th>\n",
       "      <th>in_reply_to_user_id</th>\n",
       "      <th>timestamp</th>\n",
       "      <th>source</th>\n",
       "      <th>text</th>\n",
       "      <th>retweeted_status_id</th>\n",
       "      <th>retweeted_status_user_id</th>\n",
       "      <th>retweeted_status_timestamp</th>\n",
       "      <th>expanded_urls</th>\n",
       "      <th>rating_numerator</th>\n",
       "      <th>rating_denominator</th>\n",
       "      <th>name</th>\n",
       "      <th>doggo</th>\n",
       "      <th>floofer</th>\n",
       "      <th>pupper</th>\n",
       "      <th>puppo</th>\n",
       "    </tr>\n",
       "  </thead>\n",
       "  <tbody>\n",
       "    <tr>\n",
       "      <th>192</th>\n",
       "      <td>855818117272018944</td>\n",
       "      <td>&lt;NA&gt;</td>\n",
       "      <td>&lt;NA&gt;</td>\n",
       "      <td>2017-04-22 16:18:34 +0000</td>\n",
       "      <td>&lt;a href=\"http://twitter.com/download/iphone\" r...</td>\n",
       "      <td>I HEARD HE TIED HIS OWN BOWTIE MARK AND HE JUS...</td>\n",
       "      <td>&lt;NA&gt;</td>\n",
       "      <td>&lt;NA&gt;</td>\n",
       "      <td>NaN</td>\n",
       "      <td>https://twitter.com/markhalperin/status/855656...</td>\n",
       "      <td>13</td>\n",
       "      <td>10</td>\n",
       "      <td>None</td>\n",
       "      <td>None</td>\n",
       "      <td>None</td>\n",
       "      <td>None</td>\n",
       "      <td>None</td>\n",
       "    </tr>\n",
       "    <tr>\n",
       "      <th>229</th>\n",
       "      <td>848212111729840128</td>\n",
       "      <td>&lt;NA&gt;</td>\n",
       "      <td>&lt;NA&gt;</td>\n",
       "      <td>2017-04-01 16:35:01 +0000</td>\n",
       "      <td>&lt;a href=\"http://twitter.com/download/iphone\" r...</td>\n",
       "      <td>This is Jerry. He's doing a distinguished tong...</td>\n",
       "      <td>&lt;NA&gt;</td>\n",
       "      <td>&lt;NA&gt;</td>\n",
       "      <td>NaN</td>\n",
       "      <td>https://twitter.com/dog_rates/status/848212111...</td>\n",
       "      <td>6</td>\n",
       "      <td>10</td>\n",
       "      <td>Jerry</td>\n",
       "      <td>None</td>\n",
       "      <td>None</td>\n",
       "      <td>None</td>\n",
       "      <td>None</td>\n",
       "    </tr>\n",
       "    <tr>\n",
       "      <th>499</th>\n",
       "      <td>813127251579564032</td>\n",
       "      <td>&lt;NA&gt;</td>\n",
       "      <td>&lt;NA&gt;</td>\n",
       "      <td>2016-12-25 21:00:18 +0000</td>\n",
       "      <td>&lt;a href=\"http://twitter.com/download/iphone\" r...</td>\n",
       "      <td>Here's an anonymous doggo that appears to be v...</td>\n",
       "      <td>&lt;NA&gt;</td>\n",
       "      <td>&lt;NA&gt;</td>\n",
       "      <td>NaN</td>\n",
       "      <td>https://twitter.com/dog_rates/status/813127251...</td>\n",
       "      <td>11</td>\n",
       "      <td>10</td>\n",
       "      <td>None</td>\n",
       "      <td>doggo</td>\n",
       "      <td>None</td>\n",
       "      <td>None</td>\n",
       "      <td>None</td>\n",
       "    </tr>\n",
       "  </tbody>\n",
       "</table>\n",
       "</div>"
      ],
      "text/plain": [
       "               tweet_id  in_reply_to_status_id  in_reply_to_user_id  \\\n",
       "192  855818117272018944                   <NA>                 <NA>   \n",
       "229  848212111729840128                   <NA>                 <NA>   \n",
       "499  813127251579564032                   <NA>                 <NA>   \n",
       "\n",
       "                     timestamp  \\\n",
       "192  2017-04-22 16:18:34 +0000   \n",
       "229  2017-04-01 16:35:01 +0000   \n",
       "499  2016-12-25 21:00:18 +0000   \n",
       "\n",
       "                                                source  \\\n",
       "192  <a href=\"http://twitter.com/download/iphone\" r...   \n",
       "229  <a href=\"http://twitter.com/download/iphone\" r...   \n",
       "499  <a href=\"http://twitter.com/download/iphone\" r...   \n",
       "\n",
       "                                                  text  retweeted_status_id  \\\n",
       "192  I HEARD HE TIED HIS OWN BOWTIE MARK AND HE JUS...                 <NA>   \n",
       "229  This is Jerry. He's doing a distinguished tong...                 <NA>   \n",
       "499  Here's an anonymous doggo that appears to be v...                 <NA>   \n",
       "\n",
       "     retweeted_status_user_id retweeted_status_timestamp  \\\n",
       "192                      <NA>                        NaN   \n",
       "229                      <NA>                        NaN   \n",
       "499                      <NA>                        NaN   \n",
       "\n",
       "                                         expanded_urls  rating_numerator  \\\n",
       "192  https://twitter.com/markhalperin/status/855656...                13   \n",
       "229  https://twitter.com/dog_rates/status/848212111...                 6   \n",
       "499  https://twitter.com/dog_rates/status/813127251...                11   \n",
       "\n",
       "     rating_denominator   name  doggo floofer pupper puppo  \n",
       "192                  10   None   None    None   None  None  \n",
       "229                  10  Jerry   None    None   None  None  \n",
       "499                  10   None  doggo    None   None  None  "
      ]
     },
     "execution_count": 48,
     "metadata": {},
     "output_type": "execute_result"
    }
   ],
   "source": [
    "# Preview original tweets\n",
    "df1_c.query('tweet_id in in_reply_to_status_id').head(3)"
   ]
  },
  {
   "cell_type": "code",
   "execution_count": 49,
   "metadata": {},
   "outputs": [
    {
     "data": {
      "text/html": [
       "<div>\n",
       "<style scoped>\n",
       "    .dataframe tbody tr th:only-of-type {\n",
       "        vertical-align: middle;\n",
       "    }\n",
       "\n",
       "    .dataframe tbody tr th {\n",
       "        vertical-align: top;\n",
       "    }\n",
       "\n",
       "    .dataframe thead th {\n",
       "        text-align: right;\n",
       "    }\n",
       "</style>\n",
       "<table border=\"1\" class=\"dataframe\">\n",
       "  <thead>\n",
       "    <tr style=\"text-align: right;\">\n",
       "      <th></th>\n",
       "      <th>tweet_id</th>\n",
       "      <th>in_reply_to_status_id</th>\n",
       "      <th>in_reply_to_user_id</th>\n",
       "      <th>timestamp</th>\n",
       "      <th>source</th>\n",
       "      <th>text</th>\n",
       "      <th>retweeted_status_id</th>\n",
       "      <th>retweeted_status_user_id</th>\n",
       "      <th>retweeted_status_timestamp</th>\n",
       "      <th>expanded_urls</th>\n",
       "      <th>rating_numerator</th>\n",
       "      <th>rating_denominator</th>\n",
       "      <th>name</th>\n",
       "      <th>doggo</th>\n",
       "      <th>floofer</th>\n",
       "      <th>pupper</th>\n",
       "      <th>puppo</th>\n",
       "    </tr>\n",
       "  </thead>\n",
       "  <tbody>\n",
       "    <tr>\n",
       "      <th>184</th>\n",
       "      <td>856526610513747968</td>\n",
       "      <td>855818117272018944</td>\n",
       "      <td>4196983835</td>\n",
       "      <td>2017-04-24 15:13:52 +0000</td>\n",
       "      <td>&lt;a href=\"http://twitter.com/download/iphone\" r...</td>\n",
       "      <td>THIS IS CHARLIE, MARK. HE DID JUST WANT TO SAY...</td>\n",
       "      <td>&lt;NA&gt;</td>\n",
       "      <td>&lt;NA&gt;</td>\n",
       "      <td>NaN</td>\n",
       "      <td>https://twitter.com/dog_rates/status/856526610...</td>\n",
       "      <td>14</td>\n",
       "      <td>10</td>\n",
       "      <td>None</td>\n",
       "      <td>None</td>\n",
       "      <td>None</td>\n",
       "      <td>None</td>\n",
       "      <td>None</td>\n",
       "    </tr>\n",
       "    <tr>\n",
       "      <th>228</th>\n",
       "      <td>848213670039564288</td>\n",
       "      <td>848212111729840128</td>\n",
       "      <td>4196983835</td>\n",
       "      <td>2017-04-01 16:41:12 +0000</td>\n",
       "      <td>&lt;a href=\"http://twitter.com/download/iphone\" r...</td>\n",
       "      <td>Jerry just apuppologized to me. He said there ...</td>\n",
       "      <td>&lt;NA&gt;</td>\n",
       "      <td>&lt;NA&gt;</td>\n",
       "      <td>NaN</td>\n",
       "      <td>NaN</td>\n",
       "      <td>11</td>\n",
       "      <td>10</td>\n",
       "      <td>None</td>\n",
       "      <td>None</td>\n",
       "      <td>None</td>\n",
       "      <td>None</td>\n",
       "      <td>None</td>\n",
       "    </tr>\n",
       "    <tr>\n",
       "      <th>251</th>\n",
       "      <td>844979544864018432</td>\n",
       "      <td>759099523532779520</td>\n",
       "      <td>4196983835</td>\n",
       "      <td>2017-03-23 18:29:57 +0000</td>\n",
       "      <td>&lt;a href=\"http://twitter.com/download/iphone\" r...</td>\n",
       "      <td>PUPDATE: I'm proud to announce that Toby is 23...</td>\n",
       "      <td>&lt;NA&gt;</td>\n",
       "      <td>&lt;NA&gt;</td>\n",
       "      <td>NaN</td>\n",
       "      <td>https://twitter.com/dog_rates/status/844979544...</td>\n",
       "      <td>13</td>\n",
       "      <td>10</td>\n",
       "      <td>None</td>\n",
       "      <td>None</td>\n",
       "      <td>None</td>\n",
       "      <td>None</td>\n",
       "      <td>None</td>\n",
       "    </tr>\n",
       "  </tbody>\n",
       "</table>\n",
       "</div>"
      ],
      "text/plain": [
       "               tweet_id  in_reply_to_status_id  in_reply_to_user_id  \\\n",
       "184  856526610513747968     855818117272018944           4196983835   \n",
       "228  848213670039564288     848212111729840128           4196983835   \n",
       "251  844979544864018432     759099523532779520           4196983835   \n",
       "\n",
       "                     timestamp  \\\n",
       "184  2017-04-24 15:13:52 +0000   \n",
       "228  2017-04-01 16:41:12 +0000   \n",
       "251  2017-03-23 18:29:57 +0000   \n",
       "\n",
       "                                                source  \\\n",
       "184  <a href=\"http://twitter.com/download/iphone\" r...   \n",
       "228  <a href=\"http://twitter.com/download/iphone\" r...   \n",
       "251  <a href=\"http://twitter.com/download/iphone\" r...   \n",
       "\n",
       "                                                  text  retweeted_status_id  \\\n",
       "184  THIS IS CHARLIE, MARK. HE DID JUST WANT TO SAY...                 <NA>   \n",
       "228  Jerry just apuppologized to me. He said there ...                 <NA>   \n",
       "251  PUPDATE: I'm proud to announce that Toby is 23...                 <NA>   \n",
       "\n",
       "     retweeted_status_user_id retweeted_status_timestamp  \\\n",
       "184                      <NA>                        NaN   \n",
       "228                      <NA>                        NaN   \n",
       "251                      <NA>                        NaN   \n",
       "\n",
       "                                         expanded_urls  rating_numerator  \\\n",
       "184  https://twitter.com/dog_rates/status/856526610...                14   \n",
       "228                                                NaN                11   \n",
       "251  https://twitter.com/dog_rates/status/844979544...                13   \n",
       "\n",
       "     rating_denominator  name doggo floofer pupper puppo  \n",
       "184                  10  None  None    None   None  None  \n",
       "228                  10  None  None    None   None  None  \n",
       "251                  10  None  None    None   None  None  "
      ]
     },
     "execution_count": 49,
     "metadata": {},
     "output_type": "execute_result"
    }
   ],
   "source": [
    "# Preview replies\n",
    "df1_c.query('in_reply_to_status_id in tweet_id').head(3)"
   ]
  },
  {
   "cell_type": "code",
   "execution_count": 50,
   "metadata": {},
   "outputs": [
    {
     "data": {
      "text/html": [
       "<div>\n",
       "<style scoped>\n",
       "    .dataframe tbody tr th:only-of-type {\n",
       "        vertical-align: middle;\n",
       "    }\n",
       "\n",
       "    .dataframe tbody tr th {\n",
       "        vertical-align: top;\n",
       "    }\n",
       "\n",
       "    .dataframe thead th {\n",
       "        text-align: right;\n",
       "    }\n",
       "</style>\n",
       "<table border=\"1\" class=\"dataframe\">\n",
       "  <thead>\n",
       "    <tr style=\"text-align: right;\">\n",
       "      <th></th>\n",
       "      <th>tweet_id</th>\n",
       "      <th>in_reply_to_status_id</th>\n",
       "      <th>in_reply_to_user_id</th>\n",
       "      <th>timestamp</th>\n",
       "      <th>source</th>\n",
       "      <th>text</th>\n",
       "      <th>retweeted_status_id</th>\n",
       "      <th>retweeted_status_user_id</th>\n",
       "      <th>retweeted_status_timestamp</th>\n",
       "      <th>expanded_urls</th>\n",
       "      <th>rating_numerator</th>\n",
       "      <th>rating_denominator</th>\n",
       "      <th>name</th>\n",
       "      <th>doggo</th>\n",
       "      <th>floofer</th>\n",
       "      <th>pupper</th>\n",
       "      <th>puppo</th>\n",
       "    </tr>\n",
       "  </thead>\n",
       "  <tbody>\n",
       "    <tr>\n",
       "      <th>75</th>\n",
       "      <td>878281511006478336</td>\n",
       "      <td>&lt;NA&gt;</td>\n",
       "      <td>&lt;NA&gt;</td>\n",
       "      <td>2017-06-23 16:00:04 +0000</td>\n",
       "      <td>&lt;a href=\"http://twitter.com/download/iphone\" r...</td>\n",
       "      <td>Meet Shadow. In an attempt to reach maximum zo...</td>\n",
       "      <td>&lt;NA&gt;</td>\n",
       "      <td>&lt;NA&gt;</td>\n",
       "      <td>NaN</td>\n",
       "      <td>https://www.gofundme.com/3yd6y1c,https://twitt...</td>\n",
       "      <td>13</td>\n",
       "      <td>10</td>\n",
       "      <td>Shadow</td>\n",
       "      <td>None</td>\n",
       "      <td>None</td>\n",
       "      <td>None</td>\n",
       "      <td>None</td>\n",
       "    </tr>\n",
       "    <tr>\n",
       "      <th>76</th>\n",
       "      <td>878057613040115712</td>\n",
       "      <td>&lt;NA&gt;</td>\n",
       "      <td>&lt;NA&gt;</td>\n",
       "      <td>2017-06-23 01:10:23 +0000</td>\n",
       "      <td>&lt;a href=\"http://twitter.com/download/iphone\" r...</td>\n",
       "      <td>This is Emmy. She was adopted today. Massive r...</td>\n",
       "      <td>&lt;NA&gt;</td>\n",
       "      <td>&lt;NA&gt;</td>\n",
       "      <td>NaN</td>\n",
       "      <td>https://twitter.com/dog_rates/status/878057613...</td>\n",
       "      <td>14</td>\n",
       "      <td>10</td>\n",
       "      <td>Emmy</td>\n",
       "      <td>None</td>\n",
       "      <td>None</td>\n",
       "      <td>None</td>\n",
       "      <td>None</td>\n",
       "    </tr>\n",
       "    <tr>\n",
       "      <th>98</th>\n",
       "      <td>873213775632977920</td>\n",
       "      <td>&lt;NA&gt;</td>\n",
       "      <td>&lt;NA&gt;</td>\n",
       "      <td>2017-06-09 16:22:42 +0000</td>\n",
       "      <td>&lt;a href=\"http://twitter.com/download/iphone\" r...</td>\n",
       "      <td>This is Sierra. She's one precious pupper. Abs...</td>\n",
       "      <td>&lt;NA&gt;</td>\n",
       "      <td>&lt;NA&gt;</td>\n",
       "      <td>NaN</td>\n",
       "      <td>https://www.gofundme.com/help-my-baby-sierra-g...</td>\n",
       "      <td>12</td>\n",
       "      <td>10</td>\n",
       "      <td>Sierra</td>\n",
       "      <td>None</td>\n",
       "      <td>None</td>\n",
       "      <td>pupper</td>\n",
       "      <td>None</td>\n",
       "    </tr>\n",
       "  </tbody>\n",
       "</table>\n",
       "</div>"
      ],
      "text/plain": [
       "              tweet_id  in_reply_to_status_id  in_reply_to_user_id  \\\n",
       "75  878281511006478336                   <NA>                 <NA>   \n",
       "76  878057613040115712                   <NA>                 <NA>   \n",
       "98  873213775632977920                   <NA>                 <NA>   \n",
       "\n",
       "                    timestamp  \\\n",
       "75  2017-06-23 16:00:04 +0000   \n",
       "76  2017-06-23 01:10:23 +0000   \n",
       "98  2017-06-09 16:22:42 +0000   \n",
       "\n",
       "                                               source  \\\n",
       "75  <a href=\"http://twitter.com/download/iphone\" r...   \n",
       "76  <a href=\"http://twitter.com/download/iphone\" r...   \n",
       "98  <a href=\"http://twitter.com/download/iphone\" r...   \n",
       "\n",
       "                                                 text  retweeted_status_id  \\\n",
       "75  Meet Shadow. In an attempt to reach maximum zo...                 <NA>   \n",
       "76  This is Emmy. She was adopted today. Massive r...                 <NA>   \n",
       "98  This is Sierra. She's one precious pupper. Abs...                 <NA>   \n",
       "\n",
       "    retweeted_status_user_id retweeted_status_timestamp  \\\n",
       "75                      <NA>                        NaN   \n",
       "76                      <NA>                        NaN   \n",
       "98                      <NA>                        NaN   \n",
       "\n",
       "                                        expanded_urls  rating_numerator  \\\n",
       "75  https://www.gofundme.com/3yd6y1c,https://twitt...                13   \n",
       "76  https://twitter.com/dog_rates/status/878057613...                14   \n",
       "98  https://www.gofundme.com/help-my-baby-sierra-g...                12   \n",
       "\n",
       "    rating_denominator    name doggo floofer  pupper puppo  \n",
       "75                  10  Shadow  None    None    None  None  \n",
       "76                  10    Emmy  None    None    None  None  \n",
       "98                  10  Sierra  None    None  pupper  None  "
      ]
     },
     "execution_count": 50,
     "metadata": {},
     "output_type": "execute_result"
    }
   ],
   "source": [
    "# Preview original tweets\n",
    "df1_c.query('tweet_id in retweeted_status_id').head(3)"
   ]
  },
  {
   "cell_type": "code",
   "execution_count": 51,
   "metadata": {},
   "outputs": [
    {
     "data": {
      "text/html": [
       "<div>\n",
       "<style scoped>\n",
       "    .dataframe tbody tr th:only-of-type {\n",
       "        vertical-align: middle;\n",
       "    }\n",
       "\n",
       "    .dataframe tbody tr th {\n",
       "        vertical-align: top;\n",
       "    }\n",
       "\n",
       "    .dataframe thead th {\n",
       "        text-align: right;\n",
       "    }\n",
       "</style>\n",
       "<table border=\"1\" class=\"dataframe\">\n",
       "  <thead>\n",
       "    <tr style=\"text-align: right;\">\n",
       "      <th></th>\n",
       "      <th>tweet_id</th>\n",
       "      <th>in_reply_to_status_id</th>\n",
       "      <th>in_reply_to_user_id</th>\n",
       "      <th>timestamp</th>\n",
       "      <th>source</th>\n",
       "      <th>text</th>\n",
       "      <th>retweeted_status_id</th>\n",
       "      <th>retweeted_status_user_id</th>\n",
       "      <th>retweeted_status_timestamp</th>\n",
       "      <th>expanded_urls</th>\n",
       "      <th>rating_numerator</th>\n",
       "      <th>rating_denominator</th>\n",
       "      <th>name</th>\n",
       "      <th>doggo</th>\n",
       "      <th>floofer</th>\n",
       "      <th>pupper</th>\n",
       "      <th>puppo</th>\n",
       "    </tr>\n",
       "  </thead>\n",
       "  <tbody>\n",
       "    <tr>\n",
       "      <th>36</th>\n",
       "      <td>885311592912609280</td>\n",
       "      <td>&lt;NA&gt;</td>\n",
       "      <td>&lt;NA&gt;</td>\n",
       "      <td>2017-07-13 01:35:06 +0000</td>\n",
       "      <td>&lt;a href=\"http://twitter.com/download/iphone\" r...</td>\n",
       "      <td>RT @dog_rates: This is Lilly. She just paralle...</td>\n",
       "      <td>830583320585068544</td>\n",
       "      <td>4196983835</td>\n",
       "      <td>2017-02-12 01:04:29 +0000</td>\n",
       "      <td>https://twitter.com/dog_rates/status/830583320...</td>\n",
       "      <td>13</td>\n",
       "      <td>10</td>\n",
       "      <td>Lilly</td>\n",
       "      <td>None</td>\n",
       "      <td>None</td>\n",
       "      <td>None</td>\n",
       "      <td>None</td>\n",
       "    </tr>\n",
       "    <tr>\n",
       "      <th>68</th>\n",
       "      <td>879130579576475649</td>\n",
       "      <td>&lt;NA&gt;</td>\n",
       "      <td>&lt;NA&gt;</td>\n",
       "      <td>2017-06-26 00:13:58 +0000</td>\n",
       "      <td>&lt;a href=\"http://twitter.com/download/iphone\" r...</td>\n",
       "      <td>RT @dog_rates: This is Emmy. She was adopted t...</td>\n",
       "      <td>878057613040115712</td>\n",
       "      <td>4196983835</td>\n",
       "      <td>2017-06-23 01:10:23 +0000</td>\n",
       "      <td>https://twitter.com/dog_rates/status/878057613...</td>\n",
       "      <td>14</td>\n",
       "      <td>10</td>\n",
       "      <td>Emmy</td>\n",
       "      <td>None</td>\n",
       "      <td>None</td>\n",
       "      <td>None</td>\n",
       "      <td>None</td>\n",
       "    </tr>\n",
       "    <tr>\n",
       "      <th>73</th>\n",
       "      <td>878404777348136964</td>\n",
       "      <td>&lt;NA&gt;</td>\n",
       "      <td>&lt;NA&gt;</td>\n",
       "      <td>2017-06-24 00:09:53 +0000</td>\n",
       "      <td>&lt;a href=\"http://twitter.com/download/iphone\" r...</td>\n",
       "      <td>RT @dog_rates: Meet Shadow. In an attempt to r...</td>\n",
       "      <td>878281511006478336</td>\n",
       "      <td>4196983835</td>\n",
       "      <td>2017-06-23 16:00:04 +0000</td>\n",
       "      <td>https://www.gofundme.com/3yd6y1c,https://twitt...</td>\n",
       "      <td>13</td>\n",
       "      <td>10</td>\n",
       "      <td>Shadow</td>\n",
       "      <td>None</td>\n",
       "      <td>None</td>\n",
       "      <td>None</td>\n",
       "      <td>None</td>\n",
       "    </tr>\n",
       "  </tbody>\n",
       "</table>\n",
       "</div>"
      ],
      "text/plain": [
       "              tweet_id  in_reply_to_status_id  in_reply_to_user_id  \\\n",
       "36  885311592912609280                   <NA>                 <NA>   \n",
       "68  879130579576475649                   <NA>                 <NA>   \n",
       "73  878404777348136964                   <NA>                 <NA>   \n",
       "\n",
       "                    timestamp  \\\n",
       "36  2017-07-13 01:35:06 +0000   \n",
       "68  2017-06-26 00:13:58 +0000   \n",
       "73  2017-06-24 00:09:53 +0000   \n",
       "\n",
       "                                               source  \\\n",
       "36  <a href=\"http://twitter.com/download/iphone\" r...   \n",
       "68  <a href=\"http://twitter.com/download/iphone\" r...   \n",
       "73  <a href=\"http://twitter.com/download/iphone\" r...   \n",
       "\n",
       "                                                 text  retweeted_status_id  \\\n",
       "36  RT @dog_rates: This is Lilly. She just paralle...   830583320585068544   \n",
       "68  RT @dog_rates: This is Emmy. She was adopted t...   878057613040115712   \n",
       "73  RT @dog_rates: Meet Shadow. In an attempt to r...   878281511006478336   \n",
       "\n",
       "    retweeted_status_user_id retweeted_status_timestamp  \\\n",
       "36                4196983835  2017-02-12 01:04:29 +0000   \n",
       "68                4196983835  2017-06-23 01:10:23 +0000   \n",
       "73                4196983835  2017-06-23 16:00:04 +0000   \n",
       "\n",
       "                                        expanded_urls  rating_numerator  \\\n",
       "36  https://twitter.com/dog_rates/status/830583320...                13   \n",
       "68  https://twitter.com/dog_rates/status/878057613...                14   \n",
       "73  https://www.gofundme.com/3yd6y1c,https://twitt...                13   \n",
       "\n",
       "    rating_denominator    name doggo floofer pupper puppo  \n",
       "36                  10   Lilly  None    None   None  None  \n",
       "68                  10    Emmy  None    None   None  None  \n",
       "73                  10  Shadow  None    None   None  None  "
      ]
     },
     "execution_count": 51,
     "metadata": {},
     "output_type": "execute_result"
    }
   ],
   "source": [
    "# Preview retweets\n",
    "df1_c.query('retweeted_status_id in tweet_id').head(3)"
   ]
  },
  {
   "cell_type": "markdown",
   "metadata": {},
   "source": [
    "#### Define\n",
    "Remove retweets and replies that are responses to original tweets, since _\"You only want original ratings (no retweets) that have images.\"_"
   ]
  },
  {
   "cell_type": "markdown",
   "metadata": {},
   "source": [
    "#### Code"
   ]
  },
  {
   "cell_type": "code",
   "execution_count": 52,
   "metadata": {},
   "outputs": [],
   "source": [
    "df1_c = df1_c.query('(in_reply_to_status_id not in tweet_id) & (retweeted_status_id not in tweet_id)')"
   ]
  },
  {
   "cell_type": "markdown",
   "metadata": {},
   "source": [
    "#### Test"
   ]
  },
  {
   "cell_type": "code",
   "execution_count": 53,
   "metadata": {},
   "outputs": [],
   "source": [
    "assert df1_c['in_reply_to_status_id'].isin(df1_c.tweet_id).sum() + df1_c['retweeted_status_id'].isin(df1_c.tweet_id).sum() == 0"
   ]
  },
  {
   "cell_type": "code",
   "execution_count": 54,
   "metadata": {},
   "outputs": [
    {
     "data": {
      "text/plain": [
       "2211"
      ]
     },
     "execution_count": 54,
     "metadata": {},
     "output_type": "execute_result"
    }
   ],
   "source": [
    "df1_c.shape[0]"
   ]
  },
  {
   "cell_type": "markdown",
   "metadata": {},
   "source": [
    "### Records with no image data"
   ]
  },
  {
   "cell_type": "markdown",
   "metadata": {},
   "source": [
    "#### Image predictions data not available for all tweets from this initial dataset.\n",
    "#### Define"
   ]
  },
  {
   "cell_type": "markdown",
   "metadata": {},
   "source": [
    "Drop records where there is no image prediction data AND drop image prediction data where there is no corresponding tweet data."
   ]
  },
  {
   "cell_type": "markdown",
   "metadata": {},
   "source": [
    "#### Code"
   ]
  },
  {
   "cell_type": "code",
   "execution_count": 55,
   "metadata": {},
   "outputs": [],
   "source": [
    "df1_c = df1_c.query('tweet_id in @df_img_c.tweet_id')\n",
    "df_img_c = df_img_c.query('tweet_id in @df1_c.tweet_id')"
   ]
  },
  {
   "cell_type": "markdown",
   "metadata": {},
   "source": [
    "#### Test"
   ]
  },
  {
   "cell_type": "code",
   "execution_count": 56,
   "metadata": {},
   "outputs": [],
   "source": [
    "assert df1_c['tweet_id'].count() == df_img_c['tweet_id'].count() == df_img_c['tweet_id'].isin(df1_c['tweet_id']).sum()"
   ]
  },
  {
   "cell_type": "code",
   "execution_count": 57,
   "metadata": {},
   "outputs": [
    {
     "name": "stdout",
     "output_type": "stream",
     "text": [
      "jpg_url 19\n",
      "img_num 2008\n",
      "p1 1634\n",
      "p1_conf 22\n",
      "p1_dog 2010\n",
      "p2 1611\n",
      "p2_conf 24\n",
      "p2_dog 2010\n",
      "p3 1604\n",
      "p3_conf 22\n",
      "p3_dog 2010\n"
     ]
    }
   ],
   "source": [
    "# There are now fewer jpg_url duplicates in image data frame, but some still remain\n",
    "for col in df_img_c :\n",
    "    if df_img_c[col].duplicated().sum() > 0 :\n",
    "        print(col, df_img_c[col].duplicated().sum())"
   ]
  },
  {
   "cell_type": "markdown",
   "metadata": {},
   "source": [
    "### Tidiness - part 1\n",
    "#### Four variables of 'dog stage' in one column: `doggo`, `floofer`, `pupper`, `puppo`. \n",
    "**Additional issue: some records have more than one 'dog stage' assigned.**\n",
    "#### Description"
   ]
  },
  {
   "cell_type": "markdown",
   "metadata": {},
   "source": [
    "Replace four columns with 'dog stages' with one categorical column `stage`"
   ]
  },
  {
   "cell_type": "markdown",
   "metadata": {},
   "source": [
    "#### Code"
   ]
  },
  {
   "cell_type": "code",
   "execution_count": 58,
   "metadata": {},
   "outputs": [
    {
     "name": "stdout",
     "output_type": "stream",
     "text": [
      "<class 'pandas.core.frame.DataFrame'>\n",
      "Int64Index: 2012 entries, 0 to 2355\n",
      "Data columns (total 18 columns):\n",
      " #   Column                      Non-Null Count  Dtype \n",
      "---  ------                      --------------  ----- \n",
      " 0   tweet_id                    2012 non-null   int64 \n",
      " 1   in_reply_to_status_id       7 non-null      Int64 \n",
      " 2   in_reply_to_user_id         7 non-null      Int64 \n",
      " 3   timestamp                   2012 non-null   object\n",
      " 4   source                      2012 non-null   object\n",
      " 5   text                        2012 non-null   object\n",
      " 6   retweeted_status_id         34 non-null     Int64 \n",
      " 7   retweeted_status_user_id    34 non-null     Int64 \n",
      " 8   retweeted_status_timestamp  34 non-null     object\n",
      " 9   expanded_urls               2012 non-null   object\n",
      " 10  rating_numerator            2012 non-null   int64 \n",
      " 11  rating_denominator          2012 non-null   int64 \n",
      " 12  name                        2012 non-null   object\n",
      " 13  doggo                       82 non-null     object\n",
      " 14  floofer                     8 non-null      object\n",
      " 15  pupper                      238 non-null    object\n",
      " 16  puppo                       29 non-null     object\n",
      " 17  unknown                     1666 non-null   object\n",
      "dtypes: Int64(4), int64(3), object(11)\n",
      "memory usage: 306.5+ KB\n"
     ]
    }
   ],
   "source": [
    "cols_stages = list(df1_c.columns[-4:])\n",
    "\n",
    "# Extracting more dog stage data from 'text' column\n",
    "for col in cols_stages :\n",
    "    df1_c.loc[df1_c['text'].str.contains(col), col] = col\n",
    "\n",
    "# Creating temporary column 'unknown' to avoid problems with NaN's when melting later\n",
    "df1_c.loc[\n",
    "    (df1_c['doggo'] == df1_c['floofer'])\n",
    "    & (df1_c['pupper'] == df1_c['puppo'])\n",
    "    & (df1_c['puppo'] == 'None'), 'unknown'] = 'unknown'\n",
    "\n",
    "# Replacing 'None' strings with NaN\n",
    "for col in cols_stages :\n",
    "    df1_c.loc[df1_c[col] == 'None', col] = np.nan\n",
    "\n",
    "df1_c.info()"
   ]
  },
  {
   "cell_type": "code",
   "execution_count": 59,
   "metadata": {},
   "outputs": [
    {
     "data": {
      "text/plain": [
       "11"
      ]
     },
     "execution_count": 59,
     "metadata": {},
     "output_type": "execute_result"
    }
   ],
   "source": [
    "# Test if there are records with 2 or more stages assigned\n",
    "df1_c[df1_c.iloc[:, 13:17].isna().sum(axis=1) < 3].shape[0]"
   ]
  },
  {
   "cell_type": "code",
   "execution_count": 60,
   "metadata": {},
   "outputs": [
    {
     "data": {
      "text/plain": [
       "array([[858843525470990336,\n",
       "        \"I have stumbled puppon a doggo painting party. They're looking to be the next Pupcasso or Puppollock. All 13/10 would put it on the fridge https://t.co/cUeDMlHJbq\"],\n",
       "       [855851453814013952,\n",
       "        \"Here's a puppo participating in the #ScienceMarch. Cleverly disguising her own doggo agenda. 13/10 would keep the planet habitable for https://t.co/cMhq16isel\"],\n",
       "       [854010172552949760,\n",
       "        \"At first I thought this was a shy doggo, but it's actually a Rare Canadian Floofer Owl. Amateurs would confuse the two. 11/10 only send dogs https://t.co/TXdT3tmuYk\"],\n",
       "       [817777686764523521,\n",
       "        'This is Dido. She\\'s playing the lead role in \"Pupper Stops to Catch Snow Before Resuming Shadow Box with Dried Apple.\" 13/10 (IG: didodoggo) https://t.co/m7isZrOBX7'],\n",
       "       [808106460588765185,\n",
       "        'Here we have Burke (pupper) and Dexter (doggo). Pupper wants to be exactly like doggo. Both 12/10 would pet at same time https://t.co/ANBpEYHaho'],\n",
       "       [801115127852503040,\n",
       "        \"This is Bones. He's being haunted by another doggo of roughly the same size. 12/10 deep breaths pupper everything's fine https://t.co/55Dqe0SJNj\"],\n",
       "       [785639753186217984,\n",
       "        \"This is Pinot. He's a sophisticated doggo. You can tell by the hat. Also pointier than your average pupper. Still 10/10 would pet cautiously https://t.co/f2wmLZTPHd\"],\n",
       "       [759793422261743616,\n",
       "        'Meet Maggie &amp; Lila. Maggie is the doggo, Lila is the pupper. They are sisters. Both 12/10 would pet at the same time https://t.co/MYwR4DQKll'],\n",
       "       [751583847268179968,\n",
       "        \"Please stop sending it pictures that don't even have a doggo or pupper in them. Churlish af. 5/10 neat couch tho https://t.co/u2c9c7qSg8\"],\n",
       "       [741067306818797568,\n",
       "        'This is just downright precious af. 12/10 for both pupper and doggo https://t.co/o5J479bZUC'],\n",
       "       [733109485275860992,\n",
       "        'Like father (doggo), like son (pupper). Both 12/10 https://t.co/pG2inLaOda']],\n",
       "      dtype=object)"
      ]
     },
     "execution_count": 60,
     "metadata": {},
     "output_type": "execute_result"
    }
   ],
   "source": [
    "# 11 records - therefore assess visually and make changes manually\n",
    "df1_c[df1_c.iloc[:, 13:17].isna().sum(axis=1) < 3][['tweet_id', 'text']].values"
   ]
  },
  {
   "cell_type": "code",
   "execution_count": 61,
   "metadata": {},
   "outputs": [],
   "source": [
    "# Changes\n",
    "df1_c.loc[df1_c['tweet_id'] == 858843525470990336, 'puppo'] = np.nan #doggo\n",
    "df1_c.loc[df1_c['tweet_id'] == 855851453814013952, 'doggo'] = np.nan #puppo\n",
    "df1_c.loc[df1_c['tweet_id'] == 854010172552949760, 'doggo'] = np.nan #floofer\n",
    "df1_c.loc[df1_c['tweet_id'] == 817777686764523521, 'doggo'] = np.nan #pupper\n",
    "# 808106460588765185 is correct - two dogs in tweet\n",
    "df1_c.loc[df1_c['tweet_id'] == 801115127852503040, 'doggo'] = np.nan #pupper\n",
    "df1_c.loc[df1_c['tweet_id'] == 785639753186217984, 'pupper'] = np.nan #doggo (kinda)\n",
    "# 759793422261743616 is correct - two dawgz in tweet\n",
    "df1_c.loc[df1_c['tweet_id'] == 751583847268179968, 'pupper'] = np.nan #doggo\n",
    "# 741067306818797568 is correct - two dogs in tweet\n",
    "# 733109485275860992 is correct - two dogs in tweet"
   ]
  },
  {
   "cell_type": "code",
   "execution_count": 62,
   "metadata": {},
   "outputs": [
    {
     "data": {
      "text/plain": [
       "4"
      ]
     },
     "execution_count": 62,
     "metadata": {},
     "output_type": "execute_result"
    }
   ],
   "source": [
    "# Should be 4 rows with 2 or more dog stages. These are indeed tweets/photos of 2+ dogs of different stage.\n",
    "# They will cause additional rows to be created at melting.\n",
    "df1_c[df1_c.iloc[:, 13:17].isna().sum(axis=1) < 3].shape[0]"
   ]
  },
  {
   "cell_type": "code",
   "execution_count": 63,
   "metadata": {},
   "outputs": [],
   "source": [
    "# Melt dog stage columns into one and clean up\n",
    "cols = list(df1_c.columns[:-5])\n",
    "df1_c = df1_c.melt(id_vars=cols, value_name='stage').dropna(axis=0, subset=['stage']).drop('variable', axis=1).reset_index(drop=True)\n",
    "df1_c.loc[df1_c['stage'] == 'unknown', 'stage'] = np.nan"
   ]
  },
  {
   "cell_type": "code",
   "execution_count": 64,
   "metadata": {
    "scrolled": false
   },
   "outputs": [
    {
     "data": {
      "text/html": [
       "<div>\n",
       "<style scoped>\n",
       "    .dataframe tbody tr th:only-of-type {\n",
       "        vertical-align: middle;\n",
       "    }\n",
       "\n",
       "    .dataframe tbody tr th {\n",
       "        vertical-align: top;\n",
       "    }\n",
       "\n",
       "    .dataframe thead th {\n",
       "        text-align: right;\n",
       "    }\n",
       "</style>\n",
       "<table border=\"1\" class=\"dataframe\">\n",
       "  <thead>\n",
       "    <tr style=\"text-align: right;\">\n",
       "      <th></th>\n",
       "      <th>tweet_id</th>\n",
       "      <th>in_reply_to_status_id</th>\n",
       "      <th>in_reply_to_user_id</th>\n",
       "      <th>timestamp</th>\n",
       "      <th>source</th>\n",
       "      <th>text</th>\n",
       "      <th>retweeted_status_id</th>\n",
       "      <th>retweeted_status_user_id</th>\n",
       "      <th>retweeted_status_timestamp</th>\n",
       "      <th>expanded_urls</th>\n",
       "      <th>rating_numerator</th>\n",
       "      <th>rating_denominator</th>\n",
       "      <th>name</th>\n",
       "      <th>stage</th>\n",
       "    </tr>\n",
       "  </thead>\n",
       "  <tbody>\n",
       "    <tr>\n",
       "      <th>37</th>\n",
       "      <td>808106460588765185</td>\n",
       "      <td>&lt;NA&gt;</td>\n",
       "      <td>&lt;NA&gt;</td>\n",
       "      <td>2016-12-12 00:29:28 +0000</td>\n",
       "      <td>&lt;a href=\"http://twitter.com/download/iphone\" r...</td>\n",
       "      <td>Here we have Burke (pupper) and Dexter (doggo)...</td>\n",
       "      <td>&lt;NA&gt;</td>\n",
       "      <td>&lt;NA&gt;</td>\n",
       "      <td>NaN</td>\n",
       "      <td>https://twitter.com/dog_rates/status/808106460...</td>\n",
       "      <td>12</td>\n",
       "      <td>10</td>\n",
       "      <td>None</td>\n",
       "      <td>doggo</td>\n",
       "    </tr>\n",
       "    <tr>\n",
       "      <th>52</th>\n",
       "      <td>759793422261743616</td>\n",
       "      <td>&lt;NA&gt;</td>\n",
       "      <td>&lt;NA&gt;</td>\n",
       "      <td>2016-07-31 16:50:42 +0000</td>\n",
       "      <td>&lt;a href=\"http://twitter.com/download/iphone\" r...</td>\n",
       "      <td>Meet Maggie &amp;amp; Lila. Maggie is the doggo, L...</td>\n",
       "      <td>&lt;NA&gt;</td>\n",
       "      <td>&lt;NA&gt;</td>\n",
       "      <td>NaN</td>\n",
       "      <td>https://twitter.com/dog_rates/status/759793422...</td>\n",
       "      <td>12</td>\n",
       "      <td>10</td>\n",
       "      <td>Maggie</td>\n",
       "      <td>doggo</td>\n",
       "    </tr>\n",
       "    <tr>\n",
       "      <th>68</th>\n",
       "      <td>741067306818797568</td>\n",
       "      <td>&lt;NA&gt;</td>\n",
       "      <td>&lt;NA&gt;</td>\n",
       "      <td>2016-06-10 00:39:48 +0000</td>\n",
       "      <td>&lt;a href=\"http://twitter.com/download/iphone\" r...</td>\n",
       "      <td>This is just downright precious af. 12/10 for ...</td>\n",
       "      <td>&lt;NA&gt;</td>\n",
       "      <td>&lt;NA&gt;</td>\n",
       "      <td>NaN</td>\n",
       "      <td>https://twitter.com/dog_rates/status/741067306...</td>\n",
       "      <td>12</td>\n",
       "      <td>10</td>\n",
       "      <td>just</td>\n",
       "      <td>doggo</td>\n",
       "    </tr>\n",
       "    <tr>\n",
       "      <th>71</th>\n",
       "      <td>733109485275860992</td>\n",
       "      <td>&lt;NA&gt;</td>\n",
       "      <td>&lt;NA&gt;</td>\n",
       "      <td>2016-05-19 01:38:16 +0000</td>\n",
       "      <td>&lt;a href=\"http://twitter.com/download/iphone\" r...</td>\n",
       "      <td>Like father (doggo), like son (pupper). Both 1...</td>\n",
       "      <td>&lt;NA&gt;</td>\n",
       "      <td>&lt;NA&gt;</td>\n",
       "      <td>NaN</td>\n",
       "      <td>https://twitter.com/dog_rates/status/733109485...</td>\n",
       "      <td>12</td>\n",
       "      <td>10</td>\n",
       "      <td>None</td>\n",
       "      <td>doggo</td>\n",
       "    </tr>\n",
       "    <tr>\n",
       "      <th>113</th>\n",
       "      <td>808106460588765185</td>\n",
       "      <td>&lt;NA&gt;</td>\n",
       "      <td>&lt;NA&gt;</td>\n",
       "      <td>2016-12-12 00:29:28 +0000</td>\n",
       "      <td>&lt;a href=\"http://twitter.com/download/iphone\" r...</td>\n",
       "      <td>Here we have Burke (pupper) and Dexter (doggo)...</td>\n",
       "      <td>&lt;NA&gt;</td>\n",
       "      <td>&lt;NA&gt;</td>\n",
       "      <td>NaN</td>\n",
       "      <td>https://twitter.com/dog_rates/status/808106460...</td>\n",
       "      <td>12</td>\n",
       "      <td>10</td>\n",
       "      <td>None</td>\n",
       "      <td>pupper</td>\n",
       "    </tr>\n",
       "    <tr>\n",
       "      <th>130</th>\n",
       "      <td>759793422261743616</td>\n",
       "      <td>&lt;NA&gt;</td>\n",
       "      <td>&lt;NA&gt;</td>\n",
       "      <td>2016-07-31 16:50:42 +0000</td>\n",
       "      <td>&lt;a href=\"http://twitter.com/download/iphone\" r...</td>\n",
       "      <td>Meet Maggie &amp;amp; Lila. Maggie is the doggo, L...</td>\n",
       "      <td>&lt;NA&gt;</td>\n",
       "      <td>&lt;NA&gt;</td>\n",
       "      <td>NaN</td>\n",
       "      <td>https://twitter.com/dog_rates/status/759793422...</td>\n",
       "      <td>12</td>\n",
       "      <td>10</td>\n",
       "      <td>Maggie</td>\n",
       "      <td>pupper</td>\n",
       "    </tr>\n",
       "    <tr>\n",
       "      <th>147</th>\n",
       "      <td>741067306818797568</td>\n",
       "      <td>&lt;NA&gt;</td>\n",
       "      <td>&lt;NA&gt;</td>\n",
       "      <td>2016-06-10 00:39:48 +0000</td>\n",
       "      <td>&lt;a href=\"http://twitter.com/download/iphone\" r...</td>\n",
       "      <td>This is just downright precious af. 12/10 for ...</td>\n",
       "      <td>&lt;NA&gt;</td>\n",
       "      <td>&lt;NA&gt;</td>\n",
       "      <td>NaN</td>\n",
       "      <td>https://twitter.com/dog_rates/status/741067306...</td>\n",
       "      <td>12</td>\n",
       "      <td>10</td>\n",
       "      <td>just</td>\n",
       "      <td>pupper</td>\n",
       "    </tr>\n",
       "    <tr>\n",
       "      <th>154</th>\n",
       "      <td>733109485275860992</td>\n",
       "      <td>&lt;NA&gt;</td>\n",
       "      <td>&lt;NA&gt;</td>\n",
       "      <td>2016-05-19 01:38:16 +0000</td>\n",
       "      <td>&lt;a href=\"http://twitter.com/download/iphone\" r...</td>\n",
       "      <td>Like father (doggo), like son (pupper). Both 1...</td>\n",
       "      <td>&lt;NA&gt;</td>\n",
       "      <td>&lt;NA&gt;</td>\n",
       "      <td>NaN</td>\n",
       "      <td>https://twitter.com/dog_rates/status/733109485...</td>\n",
       "      <td>12</td>\n",
       "      <td>10</td>\n",
       "      <td>None</td>\n",
       "      <td>pupper</td>\n",
       "    </tr>\n",
       "  </tbody>\n",
       "</table>\n",
       "</div>"
      ],
      "text/plain": [
       "               tweet_id  in_reply_to_status_id  in_reply_to_user_id  \\\n",
       "37   808106460588765185                   <NA>                 <NA>   \n",
       "52   759793422261743616                   <NA>                 <NA>   \n",
       "68   741067306818797568                   <NA>                 <NA>   \n",
       "71   733109485275860992                   <NA>                 <NA>   \n",
       "113  808106460588765185                   <NA>                 <NA>   \n",
       "130  759793422261743616                   <NA>                 <NA>   \n",
       "147  741067306818797568                   <NA>                 <NA>   \n",
       "154  733109485275860992                   <NA>                 <NA>   \n",
       "\n",
       "                     timestamp  \\\n",
       "37   2016-12-12 00:29:28 +0000   \n",
       "52   2016-07-31 16:50:42 +0000   \n",
       "68   2016-06-10 00:39:48 +0000   \n",
       "71   2016-05-19 01:38:16 +0000   \n",
       "113  2016-12-12 00:29:28 +0000   \n",
       "130  2016-07-31 16:50:42 +0000   \n",
       "147  2016-06-10 00:39:48 +0000   \n",
       "154  2016-05-19 01:38:16 +0000   \n",
       "\n",
       "                                                source  \\\n",
       "37   <a href=\"http://twitter.com/download/iphone\" r...   \n",
       "52   <a href=\"http://twitter.com/download/iphone\" r...   \n",
       "68   <a href=\"http://twitter.com/download/iphone\" r...   \n",
       "71   <a href=\"http://twitter.com/download/iphone\" r...   \n",
       "113  <a href=\"http://twitter.com/download/iphone\" r...   \n",
       "130  <a href=\"http://twitter.com/download/iphone\" r...   \n",
       "147  <a href=\"http://twitter.com/download/iphone\" r...   \n",
       "154  <a href=\"http://twitter.com/download/iphone\" r...   \n",
       "\n",
       "                                                  text  retweeted_status_id  \\\n",
       "37   Here we have Burke (pupper) and Dexter (doggo)...                 <NA>   \n",
       "52   Meet Maggie &amp; Lila. Maggie is the doggo, L...                 <NA>   \n",
       "68   This is just downright precious af. 12/10 for ...                 <NA>   \n",
       "71   Like father (doggo), like son (pupper). Both 1...                 <NA>   \n",
       "113  Here we have Burke (pupper) and Dexter (doggo)...                 <NA>   \n",
       "130  Meet Maggie &amp; Lila. Maggie is the doggo, L...                 <NA>   \n",
       "147  This is just downright precious af. 12/10 for ...                 <NA>   \n",
       "154  Like father (doggo), like son (pupper). Both 1...                 <NA>   \n",
       "\n",
       "     retweeted_status_user_id retweeted_status_timestamp  \\\n",
       "37                       <NA>                        NaN   \n",
       "52                       <NA>                        NaN   \n",
       "68                       <NA>                        NaN   \n",
       "71                       <NA>                        NaN   \n",
       "113                      <NA>                        NaN   \n",
       "130                      <NA>                        NaN   \n",
       "147                      <NA>                        NaN   \n",
       "154                      <NA>                        NaN   \n",
       "\n",
       "                                         expanded_urls  rating_numerator  \\\n",
       "37   https://twitter.com/dog_rates/status/808106460...                12   \n",
       "52   https://twitter.com/dog_rates/status/759793422...                12   \n",
       "68   https://twitter.com/dog_rates/status/741067306...                12   \n",
       "71   https://twitter.com/dog_rates/status/733109485...                12   \n",
       "113  https://twitter.com/dog_rates/status/808106460...                12   \n",
       "130  https://twitter.com/dog_rates/status/759793422...                12   \n",
       "147  https://twitter.com/dog_rates/status/741067306...                12   \n",
       "154  https://twitter.com/dog_rates/status/733109485...                12   \n",
       "\n",
       "     rating_denominator    name   stage  \n",
       "37                   10    None   doggo  \n",
       "52                   10  Maggie   doggo  \n",
       "68                   10    just   doggo  \n",
       "71                   10    None   doggo  \n",
       "113                  10    None  pupper  \n",
       "130                  10  Maggie  pupper  \n",
       "147                  10    just  pupper  \n",
       "154                  10    None  pupper  "
      ]
     },
     "execution_count": 64,
     "metadata": {},
     "output_type": "execute_result"
    }
   ],
   "source": [
    "# Display rows where there were 2 dogs / stages per tweet\n",
    "df1_c[df1_c['tweet_id'].isin(df1_c[df1_c['tweet_id'].duplicated()]['tweet_id'])]"
   ]
  },
  {
   "cell_type": "code",
   "execution_count": 65,
   "metadata": {},
   "outputs": [],
   "source": [
    "# Manually fix additional rows - assign names where possible\n",
    "df1_c.loc[130, 'name'] = 'Lila'\n",
    "df1_c.loc[37, 'name'] = 'Dexter'\n",
    "df1_c.loc[113, 'name'] = 'Burke'"
   ]
  },
  {
   "cell_type": "markdown",
   "metadata": {},
   "source": [
    "#### Test"
   ]
  },
  {
   "cell_type": "code",
   "execution_count": 66,
   "metadata": {},
   "outputs": [
    {
     "name": "stdout",
     "output_type": "stream",
     "text": [
      "<class 'pandas.core.frame.DataFrame'>\n",
      "RangeIndex: 2016 entries, 0 to 2015\n",
      "Data columns (total 14 columns):\n",
      " #   Column                      Non-Null Count  Dtype \n",
      "---  ------                      --------------  ----- \n",
      " 0   tweet_id                    2016 non-null   int64 \n",
      " 1   in_reply_to_status_id       7 non-null      Int64 \n",
      " 2   in_reply_to_user_id         7 non-null      Int64 \n",
      " 3   timestamp                   2016 non-null   object\n",
      " 4   source                      2016 non-null   object\n",
      " 5   text                        2016 non-null   object\n",
      " 6   retweeted_status_id         34 non-null     Int64 \n",
      " 7   retweeted_status_user_id    34 non-null     Int64 \n",
      " 8   retweeted_status_timestamp  34 non-null     object\n",
      " 9   expanded_urls               2016 non-null   object\n",
      " 10  rating_numerator            2016 non-null   int64 \n",
      " 11  rating_denominator          2016 non-null   int64 \n",
      " 12  name                        2016 non-null   object\n",
      " 13  stage                       350 non-null    object\n",
      "dtypes: Int64(4), int64(3), object(7)\n",
      "memory usage: 228.5+ KB\n"
     ]
    }
   ],
   "source": [
    "df1_c.info()"
   ]
  },
  {
   "cell_type": "code",
   "execution_count": 67,
   "metadata": {},
   "outputs": [
    {
     "data": {
      "text/plain": [
       "None      2\n",
       "just      2\n",
       "Burke     1\n",
       "Lila      1\n",
       "Maggie    1\n",
       "Dexter    1\n",
       "Name: name, dtype: int64"
      ]
     },
     "execution_count": 67,
     "metadata": {},
     "output_type": "execute_result"
    }
   ],
   "source": [
    "# Only names that are wrong anyway should have count of more than 1.\n",
    "df1_c[df1_c['tweet_id'].isin(df1_c[df1_c['tweet_id'].duplicated()]['tweet_id'])]['name'].value_counts()"
   ]
  },
  {
   "cell_type": "markdown",
   "metadata": {},
   "source": [
    "### Cleaning dog data extractable from tweets\n",
    "This is easier done now, before splitting to separate data for dogs and tweets.\n",
    "#### Not all dogs have `name` value.\n",
    "#### Define\n",
    "Replace evident non-name values and 'None' strings with NaN.  \n",
    "Extract names from tweet text using regular expressions.  "
   ]
  },
  {
   "cell_type": "markdown",
   "metadata": {},
   "source": [
    "#### Code"
   ]
  },
  {
   "cell_type": "code",
   "execution_count": 68,
   "metadata": {},
   "outputs": [
    {
     "data": {
      "text/plain": [
       "array(['Bo', 'one', 'his', 'just', 'this', 'Doc', 'Blu', 'Gus', 'a',\n",
       "       'Jed', 'Ava', 'Jax', 'Zoe', 'all', 'the', 'Eve', 'Ted', 'Jim',\n",
       "       'such', 'Rey', 'Aja', 'quite', 'Leo', 'Ken', 'Max', 'Eli', 'Ash',\n",
       "       'Mia', 'Ike', 'Mo', 'Tom', 'Alf', 'Sky', 'Tyr', 'Moe', 'Sam',\n",
       "       'Ito', 'incredibly', 'Jay', 'Mya', 'O', 'very', 'Al', 'Lou', 'my',\n",
       "       'Dex', 'Ace', 'not', 'an', 'getting', 'unacceptable', 'Sid',\n",
       "       'infuriating', 'Ole', 'Bob', 'Obi', 'actually', 'by', 'Evy',\n",
       "       'officially', 'Tug', 'Jeb', 'Dot', 'Mac', 'Ed', 'Taz', 'light',\n",
       "       'Cal', 'space', 'JD', 'Pip', 'Amy', 'Gin', 'Edd', 'Ben', 'Dug',\n",
       "       'Jo', 'Ron', 'Stu'], dtype=object)"
      ]
     },
     "execution_count": 68,
     "metadata": {},
     "output_type": "execute_result"
    }
   ],
   "source": [
    "# Preview unlikely names\n",
    "df1_c[(df1_c['name'].str.len() <= 3) | (df1_c['name'].str.islower())]['name'].unique()"
   ]
  },
  {
   "cell_type": "code",
   "execution_count": 69,
   "metadata": {},
   "outputs": [],
   "source": [
    "# Create a list of non-names\n",
    "names_del = ['one', 'his', 'just', 'this', 'a', 'all', 'the', 'such', 'quite', 'incredibly', 'O', 'very', 'my', 'not',\n",
    "             'an', 'getting', 'unacceptable', 'infuriating', 'actually', 'by', 'officially', 'light', 'space', 'none', 'None']"
   ]
  },
  {
   "cell_type": "code",
   "execution_count": 70,
   "metadata": {
    "scrolled": true
   },
   "outputs": [],
   "source": [
    "# Replacing non-names with NaN\n",
    "df1_c.loc[df1_c['name'].isin(names_del), 'name'] = np.nan"
   ]
  },
  {
   "cell_type": "code",
   "execution_count": 71,
   "metadata": {},
   "outputs": [
    {
     "data": {
      "text/plain": [
       "array([nan, 'Zoey', 'Blue', 'Bretagne', 'Thea', 'Sabertooth', 'Wylie',\n",
       "       'Kip', 'Jacob', 'Rufus', 'Spork', 'Cherokee', 'Hemry', 'Alphred',\n",
       "       'Alfredo', 'Zeus', 'Leroi', 'Berta', 'Chuk', 'Guss', 'Alfonso',\n",
       "       'Cheryl', 'Jessiga', 'Klint', 'Big', 'Tickles', 'Kohl', 'Daryl',\n",
       "       'Pepe', 'Octaviath', 'Johm'], dtype=object)"
      ]
     },
     "execution_count": 71,
     "metadata": {},
     "output_type": "execute_result"
    }
   ],
   "source": [
    "# Extracting more names with regex\n",
    "name_expr = '(?: Meet|meet|This is|this is|named|name is|name|called)\\s([A-Z]+[a-z]+)'\n",
    "\n",
    "# Check if legitimate results are produced\n",
    "df1_c[df1_c['name'].isna()]['text'].str.extract(name_expr)[0].unique()"
   ]
  },
  {
   "cell_type": "code",
   "execution_count": 72,
   "metadata": {},
   "outputs": [],
   "source": [
    "# Extracted names look legit - assign them into the data frame\n",
    "df1_c.loc[df1_c['name'].isna(), 'name'] = df1_c['text'].str.extract(name_expr)"
   ]
  },
  {
   "cell_type": "markdown",
   "metadata": {},
   "source": [
    "#### Test"
   ]
  },
  {
   "cell_type": "code",
   "execution_count": 73,
   "metadata": {},
   "outputs": [
    {
     "data": {
      "text/plain": [
       "Charlie         11\n",
       "Oliver          10\n",
       "Lucy            10\n",
       "Cooper          10\n",
       "Penny            9\n",
       "                ..\n",
       "Asher            1\n",
       "Lorelei          1\n",
       "Cleopatricia     1\n",
       "Hermione         1\n",
       "Timber           1\n",
       "Name: name, Length: 913, dtype: int64"
      ]
     },
     "execution_count": 73,
     "metadata": {},
     "output_type": "execute_result"
    }
   ],
   "source": [
    "df1_c['name'].value_counts()"
   ]
  },
  {
   "cell_type": "code",
   "execution_count": 74,
   "metadata": {},
   "outputs": [
    {
     "data": {
      "text/plain": [
       "array(['Cassie', 'Yogi', nan, 'Napolean', 'Scout', 'Astrid', 'Barney',\n",
       "       'Mimosa', 'Meera', 'Rhino', 'Smiley', 'Miguel', 'Emanuel', 'Pete',\n",
       "       'Loki', 'Doobert', 'Cupid', 'Pilot', 'Duchess', 'Sundance',\n",
       "       'Sunny', 'Bo', 'Jack', 'Chubbs', 'Rocky', 'Dexter', 'Sobe',\n",
       "       'Rizzo', 'Pinot', 'Deacon', 'Sampson', 'Anakin', 'Finley',\n",
       "       'Gerald', 'Wishes', 'Maggie', 'Piper', 'Dietrich', 'Divine',\n",
       "       'Lenox', 'Kellogg', 'Kyle', 'Grizzwald', 'Doc', 'Blu', 'Moose',\n",
       "       'Petrick', 'Roscoe', 'Gus', 'Gary'], dtype=object)"
      ]
     },
     "execution_count": 74,
     "metadata": {},
     "output_type": "execute_result"
    }
   ],
   "source": [
    "df1_c['name'].unique()[:50]"
   ]
  },
  {
   "cell_type": "code",
   "execution_count": 75,
   "metadata": {
    "scrolled": true
   },
   "outputs": [
    {
     "name": "stdout",
     "output_type": "stream",
     "text": [
      "<class 'pandas.core.frame.DataFrame'>\n",
      "RangeIndex: 2016 entries, 0 to 2015\n",
      "Data columns (total 14 columns):\n",
      " #   Column                      Non-Null Count  Dtype \n",
      "---  ------                      --------------  ----- \n",
      " 0   tweet_id                    2016 non-null   int64 \n",
      " 1   in_reply_to_status_id       7 non-null      Int64 \n",
      " 2   in_reply_to_user_id         7 non-null      Int64 \n",
      " 3   timestamp                   2016 non-null   object\n",
      " 4   source                      2016 non-null   object\n",
      " 5   text                        2016 non-null   object\n",
      " 6   retweeted_status_id         34 non-null     Int64 \n",
      " 7   retweeted_status_user_id    34 non-null     Int64 \n",
      " 8   retweeted_status_timestamp  34 non-null     object\n",
      " 9   expanded_urls               2016 non-null   object\n",
      " 10  rating_numerator            2016 non-null   int64 \n",
      " 11  rating_denominator          2016 non-null   int64 \n",
      " 12  name                        1367 non-null   object\n",
      " 13  stage                       350 non-null    object\n",
      "dtypes: Int64(4), int64(3), object(7)\n",
      "memory usage: 228.5+ KB\n"
     ]
    }
   ],
   "source": [
    "df1_c.info()"
   ]
  },
  {
   "cell_type": "markdown",
   "metadata": {},
   "source": [
    "#### Part of `rating_numerator` values are out of convention, ie. not the typical 10 to 14.\n",
    "#### Part of `rating_denominator` values are out of convention, ie. not 10.\n",
    "#### Definition\n",
    "Consult tweet text to uncover the mystery behind unusual numerators and denominators.  \n",
    "Correct the values as needed.  \n",
    "Create a new column with normalized scores for easier analysis later."
   ]
  },
  {
   "cell_type": "markdown",
   "metadata": {},
   "source": [
    "#### Code"
   ]
  },
  {
   "cell_type": "code",
   "execution_count": 76,
   "metadata": {},
   "outputs": [],
   "source": [
    "# Check if text extraction via regex produces any different results\n",
    "ratings = df1_c['text'].str.extract('([0-9]+)/([0-9]+)')\n",
    "ratings = ratings.astype({0:'int64', 1:'int64'})\n",
    "ratings.rename(columns={0:'rating_numerator', 1:'rating_denominator'}, inplace=True)\n",
    "assert (ratings['rating_numerator'] == df1_c['rating_numerator']).sum() == df1_c.shape[0]\n",
    "assert (ratings['rating_denominator'] == df1_c['rating_denominator']).sum() == df1_c.shape[0]"
   ]
  },
  {
   "cell_type": "code",
   "execution_count": 77,
   "metadata": {},
   "outputs": [
    {
     "data": {
      "text/plain": [
       "array([[731156023742988288,\n",
       "        'Say hello to this unbelievably well behaved squad of doggos. 204/170 would try to pet all at once https://t.co/yGQI3He3xv'],\n",
       "       [778027034220126208,\n",
       "        \"This is Sophie. She's a Jubilant Bush Pupper. Super h*ckin rare. Appears at random just to smile at the locals. 11.27/10 would smile back https://t.co/QFaUiIHxHq\"],\n",
       "       [713900603437621249,\n",
       "        \"Happy Saturday here's 9 puppers on a bench. 99/90 good work everybody https://t.co/mpvaVxKmc1\"],\n",
       "       [710658690886586372,\n",
       "        \"Here's a brigade of puppers. All look very prepared for whatever happens next. 80/80 https://t.co/0eb7R1Om12\"],\n",
       "       [704054845121142784,\n",
       "        \"Here is a whole flock of puppers.  60/50 I'll take the lot https://t.co/9dpcw6MdWa\"],\n",
       "       [684225744407494656,\n",
       "        'Two sneaky puppers were not initially seen, moving the rating to 143/130. Please forgive us. Thank you https://t.co/kRK51Y5ac3'],\n",
       "       [684222868335505415,\n",
       "        'Someone help the girl is being mugged. Several are distracting her while two steal her shoes. Clever puppers 121/110 https://t.co/1zfnTJLt55'],\n",
       "       [680494726643068929,\n",
       "        'Here we have uncovered an entire battalion of holiday puppers. Average of 11.26/10 https://t.co/eNm2S6p9BD'],\n",
       "       [675853064436391936,\n",
       "        'Here we have an entire platoon of puppers. Total score: 88/80 would pet all at once https://t.co/y93p6FLvVw'],\n",
       "       [835152434251116546,\n",
       "        \"When you're so blinded by your systematic plagiarism that you forget what day it is. 0/10 https://t.co/YbEJPkg4Ag\"],\n",
       "       [820690176645140481,\n",
       "        'The floofs have been released I repeat the floofs have been released. 84/70 https://t.co/NIYC820tmd'],\n",
       "       [810984652412424192,\n",
       "        'Meet Sam. She smiles 24/7 &amp; secretly aspires to be a reindeer. \\nKeep Sam smiling by clicking and sharing this link:\\nhttps://t.co/98tB8y7y7t https://t.co/LouL5vdvxx'],\n",
       "       [786709082849828864,\n",
       "        \"This is Logan, the Chow who lived. He solemnly swears he's up to lots of good. H*ckin magical af 9.75/10 https://t.co/yBO5wuqaPS\"],\n",
       "       [758467244762497024,\n",
       "        'Why does this never happen at my front door... 165/150 https://t.co/HmwrdfEfUE'],\n",
       "       [749981277374128128,\n",
       "        \"This is Atticus. He's quite simply America af. 1776/10 https://t.co/GRXwMxLBkh\"],\n",
       "       [746906459439529985,\n",
       "        \"PUPDATE: can't see any. Even if I could, I couldn't reach them to pet. 0/10 much disappointment https://t.co/c7WXaB2nqX\"],\n",
       "       [716439118184652801,\n",
       "        'This is Bluebert. He just saw that both #FinalFur match ups are split 50/50. Amazed af. 11/10 https://t.co/Kky1DPG4iq'],\n",
       "       [709198395643068416,\n",
       "        'From left to right:\\nCletus, Jerome, Alejandro, Burp, &amp; Titson\\nNone know where camera is. 45/50 would hug all at once https://t.co/sedre1ivTK'],\n",
       "       [697463031882764288,\n",
       "        \"Happy Wednesday here's a bucket of pups. 44/40 would pet all at once https://t.co/HppvrYuamZ\"],\n",
       "       [678675843183484930,\n",
       "        'Exotic pup here. Tail long af. Throat looks swollen. Might breathe fire. Exceptionally unfluffy 2/10 would still pet https://t.co/a8SqCaSo2r'],\n",
       "       [678424312106393600,\n",
       "        \"This is Crystal. She's a shitty fireman. No sense of urgency. People could be dying Crystal. 2/10 just irresponsible https://t.co/rtMtjSl9pz\"],\n",
       "       [677716515794329600,\n",
       "        \"IT'S PUPPERGEDDON. Total of 144/120 ...I think https://t.co/ZanVtAtvIq\"],\n",
       "       [675153376133427200,\n",
       "        \"What kind of person sends in a picture without a dog in it? 1/10 just because that's a nice table https://t.co/RDXCfk8hK0\"],\n",
       "       [674265582246694913,\n",
       "        \"This is Henry. He's a shit dog. Short pointy ears. Leaves trail of pee. Not fluffy. Doesn't come when called. 2/10 https://t.co/Pu9RhfHDEQ\"],\n",
       "       [670842764863651840,\n",
       "        'After so many requests... here you go.\\n\\nGood dogg. 420/10 https://t.co/yfAAo1gdeY'],\n",
       "       [670826280409919488,\n",
       "        \"Scary dog here. Too many legs. Extra tail. Not soft, let alone fluffy. Won't bark. Moves sideways. Has weapon. 2/10 https://t.co/XOPXCSXiUT\"],\n",
       "       [670783437142401025,\n",
       "        \"Flamboyant pup here. Probably poisonous. Won't eat kibble. Doesn't bark. Slow af. Petting doesn't look fun. 1/10 https://t.co/jxukeh2BeO\"],\n",
       "       [668142349051129856,\n",
       "        \"This lil pup is Oliver. Hops around. Has wings but doesn't fly (lame). Annoying chirp. Won't catch tennis balls 2/10 https://t.co/DnhUw0aBM2\"],\n",
       "       [667878741721415682,\n",
       "        \"This is Tedrick. He lives on the edge. Needs someone to hit the gas tho. Other than that he's a baller. 10&amp;2/10 https://t.co/LvP1TTYSCN\"],\n",
       "       [667549055577362432,\n",
       "        'Never seen dog like this. Breathes heavy. Tilts head in a pattern. No bark. Shitty at fetch. Not even cordless. 1/10 https://t.co/i9iSGNn3fx'],\n",
       "       [666786068205871104,\n",
       "        \"Unfamiliar with this breed. Ears pointy af. Won't let go of seashell. Won't eat kibble. Not very fast. Bad dog 2/10 https://t.co/EIn5kElY1S\"],\n",
       "       [666411507551481857,\n",
       "        \"This is quite the dog. Gets really excited when not in water. Not very soft tho. Bad at fetch. Can't do tricks. 2/10 https://t.co/aMCTNWO94t\"],\n",
       "       [666287406224695296,\n",
       "        'This is an Albanian 3 1/2 legged  Episcopalian. Loves well-polished hardwood flooring. Penis on the collar. 9/10 https://t.co/d9NcXFKwLv'],\n",
       "       [666104133288665088,\n",
       "        \"Not familiar with this breed. No tail (weird). Only 2 legs. Doesn't bark. Surprisingly quick. Shits eggs. 1/10 https://t.co/Asgdc6kuLX\"],\n",
       "       [666051853826850816,\n",
       "        \"This is an odd dog. Hard on the outside but loving on the inside. Petting still fun. Doesn't play catch well. 2/10 https://t.co/v5A4vzSDdc\"]],\n",
       "      dtype=object)"
      ]
     },
     "execution_count": 77,
     "metadata": {},
     "output_type": "execute_result"
    }
   ],
   "source": [
    "# Visually assess what's going on with unusual numerators\n",
    "common_num = list(range(3, 21))\n",
    "df1_c[~df1_c['rating_numerator'].isin(common_num)][['tweet_id', 'text']].values"
   ]
  },
  {
   "cell_type": "code",
   "execution_count": 78,
   "metadata": {},
   "outputs": [],
   "source": [
    "# Correcting a few floats that were incorrectly pulled out as integers\n",
    "df1_c.loc[df1_c['tweet_id'] == 778027034220126208, 'rating_numerator'] = 11.27\n",
    "df1_c.loc[df1_c['tweet_id'] == 680494726643068929, 'rating_numerator'] = 11.26\n",
    "df1_c.loc[df1_c['tweet_id'] == 786709082849828864, 'rating_numerator'] = 9.75"
   ]
  },
  {
   "cell_type": "code",
   "execution_count": 79,
   "metadata": {},
   "outputs": [
    {
     "data": {
      "text/plain": [
       "array([[731156023742988288,\n",
       "        'Say hello to this unbelievably well behaved squad of doggos. 204/170 would try to pet all at once https://t.co/yGQI3He3xv'],\n",
       "       [713900603437621249,\n",
       "        \"Happy Saturday here's 9 puppers on a bench. 99/90 good work everybody https://t.co/mpvaVxKmc1\"],\n",
       "       [710658690886586372,\n",
       "        \"Here's a brigade of puppers. All look very prepared for whatever happens next. 80/80 https://t.co/0eb7R1Om12\"],\n",
       "       [704054845121142784,\n",
       "        \"Here is a whole flock of puppers.  60/50 I'll take the lot https://t.co/9dpcw6MdWa\"],\n",
       "       [684225744407494656,\n",
       "        'Two sneaky puppers were not initially seen, moving the rating to 143/130. Please forgive us. Thank you https://t.co/kRK51Y5ac3'],\n",
       "       [684222868335505415,\n",
       "        'Someone help the girl is being mugged. Several are distracting her while two steal her shoes. Clever puppers 121/110 https://t.co/1zfnTJLt55'],\n",
       "       [675853064436391936,\n",
       "        'Here we have an entire platoon of puppers. Total score: 88/80 would pet all at once https://t.co/y93p6FLvVw'],\n",
       "       [820690176645140481,\n",
       "        'The floofs have been released I repeat the floofs have been released. 84/70 https://t.co/NIYC820tmd'],\n",
       "       [810984652412424192,\n",
       "        'Meet Sam. She smiles 24/7 &amp; secretly aspires to be a reindeer. \\nKeep Sam smiling by clicking and sharing this link:\\nhttps://t.co/98tB8y7y7t https://t.co/LouL5vdvxx'],\n",
       "       [758467244762497024,\n",
       "        'Why does this never happen at my front door... 165/150 https://t.co/HmwrdfEfUE'],\n",
       "       [740373189193256964,\n",
       "        'After so many requests, this is Bretagne. She was the last surviving 9/11 search dog, and our second ever 14/10. RIP https://t.co/XAVDNDaVgQ'],\n",
       "       [722974582966214656,\n",
       "        'Happy 4/20 from the squad! 13/10 for all https://t.co/eV1diwds8a'],\n",
       "       [716439118184652801,\n",
       "        'This is Bluebert. He just saw that both #FinalFur match ups are split 50/50. Amazed af. 11/10 https://t.co/Kky1DPG4iq'],\n",
       "       [709198395643068416,\n",
       "        'From left to right:\\nCletus, Jerome, Alejandro, Burp, &amp; Titson\\nNone know where camera is. 45/50 would hug all at once https://t.co/sedre1ivTK'],\n",
       "       [697463031882764288,\n",
       "        \"Happy Wednesday here's a bucket of pups. 44/40 would pet all at once https://t.co/HppvrYuamZ\"],\n",
       "       [682962037429899265,\n",
       "        'This is Darrel. He just robbed a 7/11 and is in a high speed police chase. Was just spotted by the helicopter 10/10 https://t.co/7EsP8LmSp5'],\n",
       "       [677716515794329600,\n",
       "        \"IT'S PUPPERGEDDON. Total of 144/120 ...I think https://t.co/ZanVtAtvIq\"],\n",
       "       [666287406224695296,\n",
       "        'This is an Albanian 3 1/2 legged  Episcopalian. Loves well-polished hardwood flooring. Penis on the collar. 9/10 https://t.co/d9NcXFKwLv']],\n",
       "      dtype=object)"
      ]
     },
     "execution_count": 79,
     "metadata": {},
     "output_type": "execute_result"
    }
   ],
   "source": [
    "# Visually assess what's going on with unusual denominators\n",
    "df1_c[df1_c['rating_denominator'] != 10][['tweet_id', 'text']].values"
   ]
  },
  {
   "cell_type": "code",
   "execution_count": 80,
   "metadata": {},
   "outputs": [],
   "source": [
    "# Correcting numbers that were misinterpreted as ratings\n",
    "df1_c.loc[df1_c['tweet_id'] == 810984652412424192, ('rating_numerator', 'rating_denominator')] = (11, 10) #provided in subsequent tweet, assuming it's valid\n",
    "df1_c.loc[df1_c['tweet_id'] == 740373189193256964, ('rating_numerator', 'rating_denominator')] = (14, 10)\n",
    "df1_c.loc[df1_c['tweet_id'] == 722974582966214656, ('rating_numerator', 'rating_denominator')] = (13, 10)\n",
    "df1_c.loc[df1_c['tweet_id'] == 716439118184652801, ('rating_numerator', 'rating_denominator')] = (11, 10)\n",
    "df1_c.loc[df1_c['tweet_id'] == 682962037429899265, ('rating_numerator', 'rating_denominator')] = (10, 10)\n",
    "df1_c.loc[df1_c['tweet_id'] == 666287406224695296, ('rating_numerator', 'rating_denominator')] = (9, 10)"
   ]
  },
  {
   "cell_type": "code",
   "execution_count": 81,
   "metadata": {
    "scrolled": true
   },
   "outputs": [],
   "source": [
    "# Creating normalized ratings column\n",
    "df1_c['rating_normal'] = round((df1_c['rating_numerator'] / df1_c['rating_denominator']), 2)"
   ]
  },
  {
   "cell_type": "markdown",
   "metadata": {},
   "source": [
    "#### Test"
   ]
  },
  {
   "cell_type": "code",
   "execution_count": 82,
   "metadata": {},
   "outputs": [
    {
     "name": "stdout",
     "output_type": "stream",
     "text": [
      "<class 'pandas.core.frame.DataFrame'>\n",
      "RangeIndex: 2016 entries, 0 to 2015\n",
      "Data columns (total 15 columns):\n",
      " #   Column                      Non-Null Count  Dtype  \n",
      "---  ------                      --------------  -----  \n",
      " 0   tweet_id                    2016 non-null   int64  \n",
      " 1   in_reply_to_status_id       7 non-null      Int64  \n",
      " 2   in_reply_to_user_id         7 non-null      Int64  \n",
      " 3   timestamp                   2016 non-null   object \n",
      " 4   source                      2016 non-null   object \n",
      " 5   text                        2016 non-null   object \n",
      " 6   retweeted_status_id         34 non-null     Int64  \n",
      " 7   retweeted_status_user_id    34 non-null     Int64  \n",
      " 8   retweeted_status_timestamp  34 non-null     object \n",
      " 9   expanded_urls               2016 non-null   object \n",
      " 10  rating_numerator            2016 non-null   float64\n",
      " 11  rating_denominator          2016 non-null   int64  \n",
      " 12  name                        1367 non-null   object \n",
      " 13  stage                       350 non-null    object \n",
      " 14  rating_normal               2016 non-null   float64\n",
      "dtypes: Int64(4), float64(2), int64(2), object(7)\n",
      "memory usage: 244.2+ KB\n"
     ]
    }
   ],
   "source": [
    "df1_c.info()"
   ]
  },
  {
   "cell_type": "code",
   "execution_count": 83,
   "metadata": {},
   "outputs": [
    {
     "data": {
      "text/html": [
       "<div>\n",
       "<style scoped>\n",
       "    .dataframe tbody tr th:only-of-type {\n",
       "        vertical-align: middle;\n",
       "    }\n",
       "\n",
       "    .dataframe tbody tr th {\n",
       "        vertical-align: top;\n",
       "    }\n",
       "\n",
       "    .dataframe thead th {\n",
       "        text-align: right;\n",
       "    }\n",
       "</style>\n",
       "<table border=\"1\" class=\"dataframe\">\n",
       "  <thead>\n",
       "    <tr style=\"text-align: right;\">\n",
       "      <th></th>\n",
       "      <th>rating_numerator</th>\n",
       "      <th>rating_denominator</th>\n",
       "      <th>rating_normal</th>\n",
       "    </tr>\n",
       "  </thead>\n",
       "  <tbody>\n",
       "    <tr>\n",
       "      <th>count</th>\n",
       "      <td>2016.000000</td>\n",
       "      <td>2016.000000</td>\n",
       "      <td>2016.000000</td>\n",
       "    </tr>\n",
       "    <tr>\n",
       "      <th>mean</th>\n",
       "      <td>12.219385</td>\n",
       "      <td>10.505952</td>\n",
       "      <td>1.165198</td>\n",
       "    </tr>\n",
       "    <tr>\n",
       "      <th>std</th>\n",
       "      <td>41.234228</td>\n",
       "      <td>7.221553</td>\n",
       "      <td>4.041712</td>\n",
       "    </tr>\n",
       "    <tr>\n",
       "      <th>min</th>\n",
       "      <td>0.000000</td>\n",
       "      <td>10.000000</td>\n",
       "      <td>0.000000</td>\n",
       "    </tr>\n",
       "    <tr>\n",
       "      <th>25%</th>\n",
       "      <td>10.000000</td>\n",
       "      <td>10.000000</td>\n",
       "      <td>1.000000</td>\n",
       "    </tr>\n",
       "    <tr>\n",
       "      <th>50%</th>\n",
       "      <td>11.000000</td>\n",
       "      <td>10.000000</td>\n",
       "      <td>1.100000</td>\n",
       "    </tr>\n",
       "    <tr>\n",
       "      <th>75%</th>\n",
       "      <td>12.000000</td>\n",
       "      <td>10.000000</td>\n",
       "      <td>1.200000</td>\n",
       "    </tr>\n",
       "    <tr>\n",
       "      <th>max</th>\n",
       "      <td>1776.000000</td>\n",
       "      <td>170.000000</td>\n",
       "      <td>177.600000</td>\n",
       "    </tr>\n",
       "  </tbody>\n",
       "</table>\n",
       "</div>"
      ],
      "text/plain": [
       "       rating_numerator  rating_denominator  rating_normal\n",
       "count       2016.000000         2016.000000    2016.000000\n",
       "mean          12.219385           10.505952       1.165198\n",
       "std           41.234228            7.221553       4.041712\n",
       "min            0.000000           10.000000       0.000000\n",
       "25%           10.000000           10.000000       1.000000\n",
       "50%           11.000000           10.000000       1.100000\n",
       "75%           12.000000           10.000000       1.200000\n",
       "max         1776.000000          170.000000     177.600000"
      ]
     },
     "execution_count": 83,
     "metadata": {},
     "output_type": "execute_result"
    }
   ],
   "source": [
    "df1_c[['rating_numerator', 'rating_denominator', 'rating_normal']].describe()"
   ]
  },
  {
   "cell_type": "code",
   "execution_count": 84,
   "metadata": {},
   "outputs": [
    {
     "data": {
      "text/plain": [
       "73        1.20\n",
       "122       1.13\n",
       "169       1.10\n",
       "172       1.00\n",
       "185       1.20\n",
       "238       1.10\n",
       "239       1.10\n",
       "258       1.13\n",
       "283       1.10\n",
       "555       0.00\n",
       "622       1.20\n",
       "774       0.98\n",
       "915       1.10\n",
       "961     177.60\n",
       "984       0.00\n",
       "1167      0.90\n",
       "1284      1.10\n",
       "1499      0.20\n",
       "1502      0.20\n",
       "1512      1.20\n",
       "1576      0.10\n",
       "1613      0.20\n",
       "1740     42.00\n",
       "1745      0.20\n",
       "1757      0.10\n",
       "1898      0.20\n",
       "1907      0.20\n",
       "1922      0.10\n",
       "1970      0.20\n",
       "1986      0.20\n",
       "1998      0.10\n",
       "2009      0.20\n",
       "Name: rating_normal, dtype: float64"
      ]
     },
     "execution_count": 84,
     "metadata": {},
     "output_type": "execute_result"
    }
   ],
   "source": [
    "# After normalizing ratings, most of previously unusual ratings should now be normal.\n",
    "df1_c[~df1_c['rating_numerator'].isin(common_num)]['rating_normal']"
   ]
  },
  {
   "cell_type": "markdown",
   "metadata": {},
   "source": [
    "### Final quality cleanup of main tweet df - `df1`\n",
    "- **Two timestamp columns are of object / string type, not date/time: `timestamp`, `retweeted_status_timestamp`.**  \n",
    "- **`source` column contains irrelevant urls within HTML tags. (Possibly) more useful urls are in the `expanded_urls` column.**  \n",
    "- **'Dog stage' is of type string instead of category.**  \n",
    "\n",
    "#### Define\n",
    "Convert columns to better data types.  \n",
    "Remove `source` column as it contains nothing useful.  "
   ]
  },
  {
   "cell_type": "markdown",
   "metadata": {},
   "source": [
    "#### Code"
   ]
  },
  {
   "cell_type": "code",
   "execution_count": 85,
   "metadata": {},
   "outputs": [],
   "source": [
    "df1_c = df1_c.astype({'timestamp':'datetime64', 'retweeted_status_timestamp':'datetime64', 'stage':'category'})"
   ]
  },
  {
   "cell_type": "code",
   "execution_count": 86,
   "metadata": {},
   "outputs": [],
   "source": [
    "df1_c.drop('source', axis=1, inplace=True)"
   ]
  },
  {
   "cell_type": "markdown",
   "metadata": {},
   "source": [
    "#### Test"
   ]
  },
  {
   "cell_type": "code",
   "execution_count": 87,
   "metadata": {},
   "outputs": [
    {
     "name": "stdout",
     "output_type": "stream",
     "text": [
      "<class 'pandas.core.frame.DataFrame'>\n",
      "RangeIndex: 2016 entries, 0 to 2015\n",
      "Data columns (total 14 columns):\n",
      " #   Column                      Non-Null Count  Dtype         \n",
      "---  ------                      --------------  -----         \n",
      " 0   tweet_id                    2016 non-null   int64         \n",
      " 1   in_reply_to_status_id       7 non-null      Int64         \n",
      " 2   in_reply_to_user_id         7 non-null      Int64         \n",
      " 3   timestamp                   2016 non-null   datetime64[ns]\n",
      " 4   text                        2016 non-null   object        \n",
      " 5   retweeted_status_id         34 non-null     Int64         \n",
      " 6   retweeted_status_user_id    34 non-null     Int64         \n",
      " 7   retweeted_status_timestamp  34 non-null     datetime64[ns]\n",
      " 8   expanded_urls               2016 non-null   object        \n",
      " 9   rating_numerator            2016 non-null   float64       \n",
      " 10  rating_denominator          2016 non-null   int64         \n",
      " 11  name                        1367 non-null   object        \n",
      " 12  stage                       350 non-null    category      \n",
      " 13  rating_normal               2016 non-null   float64       \n",
      "dtypes: Int64(4), category(1), datetime64[ns](2), float64(2), int64(2), object(3)\n",
      "memory usage: 214.9+ KB\n"
     ]
    }
   ],
   "source": [
    "df1_c.info()"
   ]
  },
  {
   "cell_type": "markdown",
   "metadata": {},
   "source": [
    "### Images data cleanup - `df_img`\n",
    "#### Duplicated `jpg_url` values\n",
    "#### Define\n",
    "Determine the origin of duplicates.  \n",
    "Fix if possible, remove if not."
   ]
  },
  {
   "cell_type": "markdown",
   "metadata": {},
   "source": [
    "#### Code"
   ]
  },
  {
   "cell_type": "code",
   "execution_count": 88,
   "metadata": {},
   "outputs": [],
   "source": [
    "# Extract the duplicates\n",
    "jpg = df_img_c[df_img_c['jpg_url'].isin(df_img_c[df_img_c['jpg_url'].duplicated()]['jpg_url'])]\n",
    "jpg = jpg.sort_values('jpg_url')\n",
    "\n",
    "dup_list = list(jpg['tweet_id'])"
   ]
  },
  {
   "cell_type": "code",
   "execution_count": 89,
   "metadata": {},
   "outputs": [
    {
     "data": {
      "text/html": [
       "<div>\n",
       "<style scoped>\n",
       "    .dataframe tbody tr th:only-of-type {\n",
       "        vertical-align: middle;\n",
       "    }\n",
       "\n",
       "    .dataframe tbody tr th {\n",
       "        vertical-align: top;\n",
       "    }\n",
       "\n",
       "    .dataframe thead th {\n",
       "        text-align: right;\n",
       "    }\n",
       "</style>\n",
       "<table border=\"1\" class=\"dataframe\">\n",
       "  <thead>\n",
       "    <tr style=\"text-align: right;\">\n",
       "      <th></th>\n",
       "      <th>tweet_id</th>\n",
       "      <th>jpg_url</th>\n",
       "      <th>img_num</th>\n",
       "      <th>p1</th>\n",
       "      <th>p1_conf</th>\n",
       "      <th>p1_dog</th>\n",
       "      <th>p2</th>\n",
       "      <th>p2_conf</th>\n",
       "      <th>p2_dog</th>\n",
       "      <th>p3</th>\n",
       "      <th>p3_conf</th>\n",
       "      <th>p3_dog</th>\n",
       "    </tr>\n",
       "  </thead>\n",
       "  <tbody>\n",
       "    <tr>\n",
       "      <th>1705</th>\n",
       "      <td>817423860136083457</td>\n",
       "      <td>https://pbs.twimg.com/ext_tw_video_thumb/81742...</td>\n",
       "      <td>1</td>\n",
       "      <td>ice_bear</td>\n",
       "      <td>0.336200</td>\n",
       "      <td>False</td>\n",
       "      <td>Samoyed</td>\n",
       "      <td>0.201358</td>\n",
       "      <td>True</td>\n",
       "      <td>Eskimo_dog</td>\n",
       "      <td>0.186789</td>\n",
       "      <td>True</td>\n",
       "    </tr>\n",
       "    <tr>\n",
       "      <th>1858</th>\n",
       "      <td>841833993020538882</td>\n",
       "      <td>https://pbs.twimg.com/ext_tw_video_thumb/81742...</td>\n",
       "      <td>1</td>\n",
       "      <td>ice_bear</td>\n",
       "      <td>0.336200</td>\n",
       "      <td>False</td>\n",
       "      <td>Samoyed</td>\n",
       "      <td>0.201358</td>\n",
       "      <td>True</td>\n",
       "      <td>Eskimo_dog</td>\n",
       "      <td>0.186789</td>\n",
       "      <td>True</td>\n",
       "    </tr>\n",
       "    <tr>\n",
       "      <th>1717</th>\n",
       "      <td>819015331746349057</td>\n",
       "      <td>https://pbs.twimg.com/media/C12x-JTVIAAzdfl.jpg</td>\n",
       "      <td>4</td>\n",
       "      <td>prison</td>\n",
       "      <td>0.907083</td>\n",
       "      <td>False</td>\n",
       "      <td>palace</td>\n",
       "      <td>0.020089</td>\n",
       "      <td>False</td>\n",
       "      <td>umbrella</td>\n",
       "      <td>0.007850</td>\n",
       "      <td>False</td>\n",
       "    </tr>\n",
       "    <tr>\n",
       "      <th>1716</th>\n",
       "      <td>819006400881917954</td>\n",
       "      <td>https://pbs.twimg.com/media/C12x-JTVIAAzdfl.jpg</td>\n",
       "      <td>4</td>\n",
       "      <td>prison</td>\n",
       "      <td>0.907083</td>\n",
       "      <td>False</td>\n",
       "      <td>palace</td>\n",
       "      <td>0.020089</td>\n",
       "      <td>False</td>\n",
       "      <td>umbrella</td>\n",
       "      <td>0.007850</td>\n",
       "      <td>False</td>\n",
       "    </tr>\n",
       "    <tr>\n",
       "      <th>1740</th>\n",
       "      <td>822489057087389700</td>\n",
       "      <td>https://pbs.twimg.com/media/C2oRbOuWEAAbVSl.jpg</td>\n",
       "      <td>1</td>\n",
       "      <td>Samoyed</td>\n",
       "      <td>0.416769</td>\n",
       "      <td>True</td>\n",
       "      <td>malamute</td>\n",
       "      <td>0.252706</td>\n",
       "      <td>True</td>\n",
       "      <td>kuvasz</td>\n",
       "      <td>0.157028</td>\n",
       "      <td>True</td>\n",
       "    </tr>\n",
       "    <tr>\n",
       "      <th>1742</th>\n",
       "      <td>822647212903690241</td>\n",
       "      <td>https://pbs.twimg.com/media/C2oRbOuWEAAbVSl.jpg</td>\n",
       "      <td>1</td>\n",
       "      <td>Samoyed</td>\n",
       "      <td>0.416769</td>\n",
       "      <td>True</td>\n",
       "      <td>malamute</td>\n",
       "      <td>0.252706</td>\n",
       "      <td>True</td>\n",
       "      <td>kuvasz</td>\n",
       "      <td>0.157028</td>\n",
       "      <td>True</td>\n",
       "    </tr>\n",
       "    <tr>\n",
       "      <th>1767</th>\n",
       "      <td>826958653328592898</td>\n",
       "      <td>https://pbs.twimg.com/media/C3nygbBWQAAjwcW.jpg</td>\n",
       "      <td>1</td>\n",
       "      <td>golden_retriever</td>\n",
       "      <td>0.617389</td>\n",
       "      <td>True</td>\n",
       "      <td>Labrador_retriever</td>\n",
       "      <td>0.337053</td>\n",
       "      <td>True</td>\n",
       "      <td>tennis_ball</td>\n",
       "      <td>0.008554</td>\n",
       "      <td>False</td>\n",
       "    </tr>\n",
       "    <tr>\n",
       "      <th>1789</th>\n",
       "      <td>829878982036299777</td>\n",
       "      <td>https://pbs.twimg.com/media/C3nygbBWQAAjwcW.jpg</td>\n",
       "      <td>1</td>\n",
       "      <td>golden_retriever</td>\n",
       "      <td>0.617389</td>\n",
       "      <td>True</td>\n",
       "      <td>Labrador_retriever</td>\n",
       "      <td>0.337053</td>\n",
       "      <td>True</td>\n",
       "      <td>tennis_ball</td>\n",
       "      <td>0.008554</td>\n",
       "      <td>False</td>\n",
       "    </tr>\n",
       "    <tr>\n",
       "      <th>1903</th>\n",
       "      <td>851953902622658560</td>\n",
       "      <td>https://pbs.twimg.com/media/C4KHj-nWQAA3poV.jpg</td>\n",
       "      <td>1</td>\n",
       "      <td>Staffordshire_bullterrier</td>\n",
       "      <td>0.757547</td>\n",
       "      <td>True</td>\n",
       "      <td>American_Staffordshire_terrier</td>\n",
       "      <td>0.149950</td>\n",
       "      <td>True</td>\n",
       "      <td>Chesapeake_Bay_retriever</td>\n",
       "      <td>0.047523</td>\n",
       "      <td>True</td>\n",
       "    </tr>\n",
       "    <tr>\n",
       "      <th>1785</th>\n",
       "      <td>829374341691346946</td>\n",
       "      <td>https://pbs.twimg.com/media/C4KHj-nWQAA3poV.jpg</td>\n",
       "      <td>1</td>\n",
       "      <td>Staffordshire_bullterrier</td>\n",
       "      <td>0.757547</td>\n",
       "      <td>True</td>\n",
       "      <td>American_Staffordshire_terrier</td>\n",
       "      <td>0.149950</td>\n",
       "      <td>True</td>\n",
       "      <td>Chesapeake_Bay_retriever</td>\n",
       "      <td>0.047523</td>\n",
       "      <td>True</td>\n",
       "    </tr>\n",
       "  </tbody>\n",
       "</table>\n",
       "</div>"
      ],
      "text/plain": [
       "                tweet_id                                            jpg_url  \\\n",
       "1705  817423860136083457  https://pbs.twimg.com/ext_tw_video_thumb/81742...   \n",
       "1858  841833993020538882  https://pbs.twimg.com/ext_tw_video_thumb/81742...   \n",
       "1717  819015331746349057    https://pbs.twimg.com/media/C12x-JTVIAAzdfl.jpg   \n",
       "1716  819006400881917954    https://pbs.twimg.com/media/C12x-JTVIAAzdfl.jpg   \n",
       "1740  822489057087389700    https://pbs.twimg.com/media/C2oRbOuWEAAbVSl.jpg   \n",
       "1742  822647212903690241    https://pbs.twimg.com/media/C2oRbOuWEAAbVSl.jpg   \n",
       "1767  826958653328592898    https://pbs.twimg.com/media/C3nygbBWQAAjwcW.jpg   \n",
       "1789  829878982036299777    https://pbs.twimg.com/media/C3nygbBWQAAjwcW.jpg   \n",
       "1903  851953902622658560    https://pbs.twimg.com/media/C4KHj-nWQAA3poV.jpg   \n",
       "1785  829374341691346946    https://pbs.twimg.com/media/C4KHj-nWQAA3poV.jpg   \n",
       "\n",
       "      img_num                         p1   p1_conf  p1_dog  \\\n",
       "1705        1                   ice_bear  0.336200   False   \n",
       "1858        1                   ice_bear  0.336200   False   \n",
       "1717        4                     prison  0.907083   False   \n",
       "1716        4                     prison  0.907083   False   \n",
       "1740        1                    Samoyed  0.416769    True   \n",
       "1742        1                    Samoyed  0.416769    True   \n",
       "1767        1           golden_retriever  0.617389    True   \n",
       "1789        1           golden_retriever  0.617389    True   \n",
       "1903        1  Staffordshire_bullterrier  0.757547    True   \n",
       "1785        1  Staffordshire_bullterrier  0.757547    True   \n",
       "\n",
       "                                  p2   p2_conf  p2_dog  \\\n",
       "1705                         Samoyed  0.201358    True   \n",
       "1858                         Samoyed  0.201358    True   \n",
       "1717                          palace  0.020089   False   \n",
       "1716                          palace  0.020089   False   \n",
       "1740                        malamute  0.252706    True   \n",
       "1742                        malamute  0.252706    True   \n",
       "1767              Labrador_retriever  0.337053    True   \n",
       "1789              Labrador_retriever  0.337053    True   \n",
       "1903  American_Staffordshire_terrier  0.149950    True   \n",
       "1785  American_Staffordshire_terrier  0.149950    True   \n",
       "\n",
       "                            p3   p3_conf  p3_dog  \n",
       "1705                Eskimo_dog  0.186789    True  \n",
       "1858                Eskimo_dog  0.186789    True  \n",
       "1717                  umbrella  0.007850   False  \n",
       "1716                  umbrella  0.007850   False  \n",
       "1740                    kuvasz  0.157028    True  \n",
       "1742                    kuvasz  0.157028    True  \n",
       "1767               tennis_ball  0.008554   False  \n",
       "1789               tennis_ball  0.008554   False  \n",
       "1903  Chesapeake_Bay_retriever  0.047523    True  \n",
       "1785  Chesapeake_Bay_retriever  0.047523    True  "
      ]
     },
     "execution_count": 89,
     "metadata": {},
     "output_type": "execute_result"
    }
   ],
   "source": [
    "jpg.head(10)"
   ]
  },
  {
   "cell_type": "code",
   "execution_count": 90,
   "metadata": {},
   "outputs": [
    {
     "data": {
      "text/plain": [
       "19"
      ]
     },
     "execution_count": 90,
     "metadata": {},
     "output_type": "execute_result"
    }
   ],
   "source": [
    "# The issue seems to be linked to retweets (that should have been already gone)\n",
    "df1_c[df1_c['tweet_id'].isin(dup_list)]['retweeted_status_id'].count()"
   ]
  },
  {
   "cell_type": "code",
   "execution_count": 91,
   "metadata": {},
   "outputs": [
    {
     "name": "stdout",
     "output_type": "stream",
     "text": [
      "<class 'pandas.core.frame.DataFrame'>\n",
      "RangeIndex: 2016 entries, 0 to 2015\n",
      "Data columns (total 14 columns):\n",
      " #   Column                      Non-Null Count  Dtype         \n",
      "---  ------                      --------------  -----         \n",
      " 0   tweet_id                    2016 non-null   int64         \n",
      " 1   in_reply_to_status_id       7 non-null      Int64         \n",
      " 2   in_reply_to_user_id         7 non-null      Int64         \n",
      " 3   timestamp                   2016 non-null   datetime64[ns]\n",
      " 4   text                        2016 non-null   object        \n",
      " 5   retweeted_status_id         34 non-null     Int64         \n",
      " 6   retweeted_status_user_id    34 non-null     Int64         \n",
      " 7   retweeted_status_timestamp  34 non-null     datetime64[ns]\n",
      " 8   expanded_urls               2016 non-null   object        \n",
      " 9   rating_numerator            2016 non-null   float64       \n",
      " 10  rating_denominator          2016 non-null   int64         \n",
      " 11  name                        1367 non-null   object        \n",
      " 12  stage                       350 non-null    category      \n",
      " 13  rating_normal               2016 non-null   float64       \n",
      "dtypes: Int64(4), category(1), datetime64[ns](2), float64(2), int64(2), object(3)\n",
      "memory usage: 214.9+ KB\n"
     ]
    }
   ],
   "source": [
    "df1_c.info()"
   ]
  },
  {
   "cell_type": "code",
   "execution_count": 92,
   "metadata": {
    "scrolled": true
   },
   "outputs": [
    {
     "data": {
      "text/html": [
       "<div>\n",
       "<style scoped>\n",
       "    .dataframe tbody tr th:only-of-type {\n",
       "        vertical-align: middle;\n",
       "    }\n",
       "\n",
       "    .dataframe tbody tr th {\n",
       "        vertical-align: top;\n",
       "    }\n",
       "\n",
       "    .dataframe thead th {\n",
       "        text-align: right;\n",
       "    }\n",
       "</style>\n",
       "<table border=\"1\" class=\"dataframe\">\n",
       "  <thead>\n",
       "    <tr style=\"text-align: right;\">\n",
       "      <th></th>\n",
       "      <th>tweet_id</th>\n",
       "      <th>in_reply_to_status_id</th>\n",
       "      <th>in_reply_to_user_id</th>\n",
       "      <th>timestamp</th>\n",
       "      <th>text</th>\n",
       "      <th>retweeted_status_id</th>\n",
       "      <th>retweeted_status_user_id</th>\n",
       "      <th>retweeted_status_timestamp</th>\n",
       "      <th>expanded_urls</th>\n",
       "      <th>rating_numerator</th>\n",
       "      <th>rating_denominator</th>\n",
       "      <th>name</th>\n",
       "      <th>stage</th>\n",
       "      <th>rating_normal</th>\n",
       "    </tr>\n",
       "  </thead>\n",
       "  <tbody>\n",
       "    <tr>\n",
       "      <th>6</th>\n",
       "      <td>851953902622658560</td>\n",
       "      <td>&lt;NA&gt;</td>\n",
       "      <td>&lt;NA&gt;</td>\n",
       "      <td>2017-04-12 00:23:33</td>\n",
       "      <td>RT @dog_rates: This is Astrid. She's a guide d...</td>\n",
       "      <td>829374341691346944</td>\n",
       "      <td>4196983835</td>\n",
       "      <td>2017-02-08 17:00:26</td>\n",
       "      <td>https://twitter.com/dog_rates/status/829374341...</td>\n",
       "      <td>13.0</td>\n",
       "      <td>10</td>\n",
       "      <td>Astrid</td>\n",
       "      <td>doggo</td>\n",
       "      <td>1.3</td>\n",
       "    </tr>\n",
       "    <tr>\n",
       "      <th>17</th>\n",
       "      <td>829878982036299777</td>\n",
       "      <td>&lt;NA&gt;</td>\n",
       "      <td>&lt;NA&gt;</td>\n",
       "      <td>2017-02-10 02:25:42</td>\n",
       "      <td>RT @dog_rates: This is Loki. He smiles like El...</td>\n",
       "      <td>826958653328592896</td>\n",
       "      <td>4196983835</td>\n",
       "      <td>2017-02-02 01:01:21</td>\n",
       "      <td>https://twitter.com/dog_rates/status/826958653...</td>\n",
       "      <td>12.0</td>\n",
       "      <td>10</td>\n",
       "      <td>Loki</td>\n",
       "      <td>doggo</td>\n",
       "      <td>1.2</td>\n",
       "    </tr>\n",
       "    <tr>\n",
       "      <th>29</th>\n",
       "      <td>819015331746349057</td>\n",
       "      <td>&lt;NA&gt;</td>\n",
       "      <td>&lt;NA&gt;</td>\n",
       "      <td>2017-01-11 02:57:26</td>\n",
       "      <td>RT @dog_rates: This is Sunny. She was also a v...</td>\n",
       "      <td>819006400881917952</td>\n",
       "      <td>4196983835</td>\n",
       "      <td>2017-01-11 02:21:57</td>\n",
       "      <td>https://twitter.com/dog_rates/status/819006400...</td>\n",
       "      <td>14.0</td>\n",
       "      <td>10</td>\n",
       "      <td>Sunny</td>\n",
       "      <td>doggo</td>\n",
       "      <td>1.4</td>\n",
       "    </tr>\n",
       "    <tr>\n",
       "      <th>366</th>\n",
       "      <td>888202515573088257</td>\n",
       "      <td>&lt;NA&gt;</td>\n",
       "      <td>&lt;NA&gt;</td>\n",
       "      <td>2017-07-21 01:02:36</td>\n",
       "      <td>RT @dog_rates: This is Canela. She attempted s...</td>\n",
       "      <td>887473957103951872</td>\n",
       "      <td>4196983835</td>\n",
       "      <td>2017-07-19 00:47:34</td>\n",
       "      <td>https://twitter.com/dog_rates/status/887473957...</td>\n",
       "      <td>13.0</td>\n",
       "      <td>10</td>\n",
       "      <td>Canela</td>\n",
       "      <td>NaN</td>\n",
       "      <td>1.3</td>\n",
       "    </tr>\n",
       "    <tr>\n",
       "      <th>416</th>\n",
       "      <td>873697596434513921</td>\n",
       "      <td>&lt;NA&gt;</td>\n",
       "      <td>&lt;NA&gt;</td>\n",
       "      <td>2017-06-11 00:25:14</td>\n",
       "      <td>RT @dog_rates: This is Walter. He won't start ...</td>\n",
       "      <td>868880397819494400</td>\n",
       "      <td>4196983835</td>\n",
       "      <td>2017-05-28 17:23:24</td>\n",
       "      <td>https://twitter.com/dog_rates/status/868880397...</td>\n",
       "      <td>14.0</td>\n",
       "      <td>10</td>\n",
       "      <td>Walter</td>\n",
       "      <td>NaN</td>\n",
       "      <td>1.4</td>\n",
       "    </tr>\n",
       "    <tr>\n",
       "      <th>455</th>\n",
       "      <td>861769973181624320</td>\n",
       "      <td>&lt;NA&gt;</td>\n",
       "      <td>&lt;NA&gt;</td>\n",
       "      <td>2017-05-09 02:29:07</td>\n",
       "      <td>RT @dog_rates: \"Good afternoon class today we'...</td>\n",
       "      <td>806629075125202944</td>\n",
       "      <td>4196983835</td>\n",
       "      <td>2016-12-07 22:38:52</td>\n",
       "      <td>https://twitter.com/dog_rates/status/806629075...</td>\n",
       "      <td>13.0</td>\n",
       "      <td>10</td>\n",
       "      <td>NaN</td>\n",
       "      <td>NaN</td>\n",
       "      <td>1.3</td>\n",
       "    </tr>\n",
       "    <tr>\n",
       "      <th>528</th>\n",
       "      <td>841833993020538882</td>\n",
       "      <td>&lt;NA&gt;</td>\n",
       "      <td>&lt;NA&gt;</td>\n",
       "      <td>2017-03-15 02:10:39</td>\n",
       "      <td>RT @dog_rates: This is Ken. His cheeks are mag...</td>\n",
       "      <td>817423860136083456</td>\n",
       "      <td>4196983835</td>\n",
       "      <td>2017-01-06 17:33:29</td>\n",
       "      <td>https://twitter.com/dog_rates/status/817423860...</td>\n",
       "      <td>13.0</td>\n",
       "      <td>10</td>\n",
       "      <td>Ken</td>\n",
       "      <td>NaN</td>\n",
       "      <td>1.3</td>\n",
       "    </tr>\n",
       "    <tr>\n",
       "      <th>571</th>\n",
       "      <td>832040443403784192</td>\n",
       "      <td>&lt;NA&gt;</td>\n",
       "      <td>&lt;NA&gt;</td>\n",
       "      <td>2017-02-16 01:34:34</td>\n",
       "      <td>RT @dog_rates: This is Klein. These pics were ...</td>\n",
       "      <td>769940425801170944</td>\n",
       "      <td>4196983835</td>\n",
       "      <td>2016-08-28 16:51:16</td>\n",
       "      <td>https://twitter.com/dog_rates/status/769940425...</td>\n",
       "      <td>12.0</td>\n",
       "      <td>10</td>\n",
       "      <td>Klein</td>\n",
       "      <td>NaN</td>\n",
       "      <td>1.2</td>\n",
       "    </tr>\n",
       "    <tr>\n",
       "      <th>613</th>\n",
       "      <td>822647212903690241</td>\n",
       "      <td>&lt;NA&gt;</td>\n",
       "      <td>&lt;NA&gt;</td>\n",
       "      <td>2017-01-21 03:29:14</td>\n",
       "      <td>RT @dog_rates: This is Paisley. She really wan...</td>\n",
       "      <td>822489057087389696</td>\n",
       "      <td>4196983835</td>\n",
       "      <td>2017-01-20 17:00:46</td>\n",
       "      <td>https://twitter.com/dog_rates/status/822489057...</td>\n",
       "      <td>13.0</td>\n",
       "      <td>10</td>\n",
       "      <td>Paisley</td>\n",
       "      <td>NaN</td>\n",
       "      <td>1.3</td>\n",
       "    </tr>\n",
       "    <tr>\n",
       "      <th>652</th>\n",
       "      <td>813944609378369540</td>\n",
       "      <td>&lt;NA&gt;</td>\n",
       "      <td>&lt;NA&gt;</td>\n",
       "      <td>2016-12-28 03:08:11</td>\n",
       "      <td>RT @dog_rates: This is Bruce. He never backs d...</td>\n",
       "      <td>790277117346975744</td>\n",
       "      <td>4196983835</td>\n",
       "      <td>2016-10-23 19:42:02</td>\n",
       "      <td>https://twitter.com/dog_rates/status/790277117...</td>\n",
       "      <td>11.0</td>\n",
       "      <td>10</td>\n",
       "      <td>Bruce</td>\n",
       "      <td>NaN</td>\n",
       "      <td>1.1</td>\n",
       "    </tr>\n",
       "    <tr>\n",
       "      <th>694</th>\n",
       "      <td>804413760345620481</td>\n",
       "      <td>&lt;NA&gt;</td>\n",
       "      <td>&lt;NA&gt;</td>\n",
       "      <td>2016-12-01 19:56:00</td>\n",
       "      <td>RT @dog_rates: This is Rusty. He's going D1 fo...</td>\n",
       "      <td>784826020293709824</td>\n",
       "      <td>4196983835</td>\n",
       "      <td>2016-10-08 18:41:19</td>\n",
       "      <td>https://twitter.com/dog_rates/status/784826020...</td>\n",
       "      <td>13.0</td>\n",
       "      <td>10</td>\n",
       "      <td>Rusty</td>\n",
       "      <td>NaN</td>\n",
       "      <td>1.3</td>\n",
       "    </tr>\n",
       "    <tr>\n",
       "      <th>701</th>\n",
       "      <td>802247111496568832</td>\n",
       "      <td>&lt;NA&gt;</td>\n",
       "      <td>&lt;NA&gt;</td>\n",
       "      <td>2016-11-25 20:26:31</td>\n",
       "      <td>RT @dog_rates: Everybody drop what you're doin...</td>\n",
       "      <td>779056095788752896</td>\n",
       "      <td>4196983835</td>\n",
       "      <td>2016-09-22 20:33:42</td>\n",
       "      <td>https://twitter.com/dog_rates/status/779056095...</td>\n",
       "      <td>13.0</td>\n",
       "      <td>10</td>\n",
       "      <td>NaN</td>\n",
       "      <td>NaN</td>\n",
       "      <td>1.3</td>\n",
       "    </tr>\n",
       "    <tr>\n",
       "      <th>720</th>\n",
       "      <td>796177847564038144</td>\n",
       "      <td>&lt;NA&gt;</td>\n",
       "      <td>&lt;NA&gt;</td>\n",
       "      <td>2016-11-09 02:29:25</td>\n",
       "      <td>RT @dog_rates: This is Ruby. She just turned o...</td>\n",
       "      <td>796149749086875648</td>\n",
       "      <td>4196983835</td>\n",
       "      <td>2016-11-09 00:37:46</td>\n",
       "      <td>https://twitter.com/dog_rates/status/796149749...</td>\n",
       "      <td>11.0</td>\n",
       "      <td>10</td>\n",
       "      <td>Ruby</td>\n",
       "      <td>NaN</td>\n",
       "      <td>1.1</td>\n",
       "    </tr>\n",
       "    <tr>\n",
       "      <th>752</th>\n",
       "      <td>791026214425268224</td>\n",
       "      <td>&lt;NA&gt;</td>\n",
       "      <td>&lt;NA&gt;</td>\n",
       "      <td>2016-10-25 21:18:40</td>\n",
       "      <td>RT @dog_rates: This is Alfie. He's touching a ...</td>\n",
       "      <td>763837565564780544</td>\n",
       "      <td>4196983835</td>\n",
       "      <td>2016-08-11 20:40:41</td>\n",
       "      <td>https://twitter.com/dog_rates/status/763837565...</td>\n",
       "      <td>11.0</td>\n",
       "      <td>10</td>\n",
       "      <td>Alfie</td>\n",
       "      <td>NaN</td>\n",
       "      <td>1.1</td>\n",
       "    </tr>\n",
       "    <tr>\n",
       "      <th>796</th>\n",
       "      <td>782021823840026624</td>\n",
       "      <td>&lt;NA&gt;</td>\n",
       "      <td>&lt;NA&gt;</td>\n",
       "      <td>2016-10-01 00:58:26</td>\n",
       "      <td>RT @dog_rates: This is Harper. She scraped her...</td>\n",
       "      <td>707610948723478528</td>\n",
       "      <td>4196983835</td>\n",
       "      <td>2016-03-09 16:56:11</td>\n",
       "      <td>https://twitter.com/dog_rates/status/707610948...</td>\n",
       "      <td>12.0</td>\n",
       "      <td>10</td>\n",
       "      <td>Harper</td>\n",
       "      <td>NaN</td>\n",
       "      <td>1.2</td>\n",
       "    </tr>\n",
       "    <tr>\n",
       "      <th>821</th>\n",
       "      <td>777641927919427584</td>\n",
       "      <td>&lt;NA&gt;</td>\n",
       "      <td>&lt;NA&gt;</td>\n",
       "      <td>2016-09-18 22:54:18</td>\n",
       "      <td>RT @dog_rates: This is Arnie. He's a Nova Scot...</td>\n",
       "      <td>750429297815552000</td>\n",
       "      <td>4196983835</td>\n",
       "      <td>2016-07-05 20:41:01</td>\n",
       "      <td>https://twitter.com/dog_rates/status/750429297...</td>\n",
       "      <td>12.0</td>\n",
       "      <td>10</td>\n",
       "      <td>Arnie</td>\n",
       "      <td>NaN</td>\n",
       "      <td>1.2</td>\n",
       "    </tr>\n",
       "    <tr>\n",
       "      <th>873</th>\n",
       "      <td>766078092750233600</td>\n",
       "      <td>&lt;NA&gt;</td>\n",
       "      <td>&lt;NA&gt;</td>\n",
       "      <td>2016-08-18 01:03:45</td>\n",
       "      <td>RT @dog_rates: This is Colby. He's currently r...</td>\n",
       "      <td>725842289046749184</td>\n",
       "      <td>4196983835</td>\n",
       "      <td>2016-04-29 00:21:01</td>\n",
       "      <td>https://twitter.com/dog_rates/status/725842289...</td>\n",
       "      <td>12.0</td>\n",
       "      <td>10</td>\n",
       "      <td>Colby</td>\n",
       "      <td>NaN</td>\n",
       "      <td>1.2</td>\n",
       "    </tr>\n",
       "    <tr>\n",
       "      <th>894</th>\n",
       "      <td>761371037149827077</td>\n",
       "      <td>&lt;NA&gt;</td>\n",
       "      <td>&lt;NA&gt;</td>\n",
       "      <td>2016-08-05 01:19:35</td>\n",
       "      <td>RT @dog_rates: Oh. My. God. 13/10 magical af h...</td>\n",
       "      <td>711694788429553664</td>\n",
       "      <td>4196983835</td>\n",
       "      <td>2016-03-20 23:23:54</td>\n",
       "      <td>https://twitter.com/dog_rates/status/711694788...</td>\n",
       "      <td>13.0</td>\n",
       "      <td>10</td>\n",
       "      <td>NaN</td>\n",
       "      <td>NaN</td>\n",
       "      <td>1.3</td>\n",
       "    </tr>\n",
       "    <tr>\n",
       "      <th>920</th>\n",
       "      <td>757729163776290825</td>\n",
       "      <td>&lt;NA&gt;</td>\n",
       "      <td>&lt;NA&gt;</td>\n",
       "      <td>2016-07-26 00:08:05</td>\n",
       "      <td>RT @dog_rates: This is Chompsky. He lives up t...</td>\n",
       "      <td>679062614270468096</td>\n",
       "      <td>4196983835</td>\n",
       "      <td>2015-12-21 22:15:18</td>\n",
       "      <td>https://twitter.com/dog_rates/status/679062614...</td>\n",
       "      <td>11.0</td>\n",
       "      <td>10</td>\n",
       "      <td>Chompsky</td>\n",
       "      <td>NaN</td>\n",
       "      <td>1.1</td>\n",
       "    </tr>\n",
       "  </tbody>\n",
       "</table>\n",
       "</div>"
      ],
      "text/plain": [
       "               tweet_id  in_reply_to_status_id  in_reply_to_user_id  \\\n",
       "6    851953902622658560                   <NA>                 <NA>   \n",
       "17   829878982036299777                   <NA>                 <NA>   \n",
       "29   819015331746349057                   <NA>                 <NA>   \n",
       "366  888202515573088257                   <NA>                 <NA>   \n",
       "416  873697596434513921                   <NA>                 <NA>   \n",
       "455  861769973181624320                   <NA>                 <NA>   \n",
       "528  841833993020538882                   <NA>                 <NA>   \n",
       "571  832040443403784192                   <NA>                 <NA>   \n",
       "613  822647212903690241                   <NA>                 <NA>   \n",
       "652  813944609378369540                   <NA>                 <NA>   \n",
       "694  804413760345620481                   <NA>                 <NA>   \n",
       "701  802247111496568832                   <NA>                 <NA>   \n",
       "720  796177847564038144                   <NA>                 <NA>   \n",
       "752  791026214425268224                   <NA>                 <NA>   \n",
       "796  782021823840026624                   <NA>                 <NA>   \n",
       "821  777641927919427584                   <NA>                 <NA>   \n",
       "873  766078092750233600                   <NA>                 <NA>   \n",
       "894  761371037149827077                   <NA>                 <NA>   \n",
       "920  757729163776290825                   <NA>                 <NA>   \n",
       "\n",
       "              timestamp                                               text  \\\n",
       "6   2017-04-12 00:23:33  RT @dog_rates: This is Astrid. She's a guide d...   \n",
       "17  2017-02-10 02:25:42  RT @dog_rates: This is Loki. He smiles like El...   \n",
       "29  2017-01-11 02:57:26  RT @dog_rates: This is Sunny. She was also a v...   \n",
       "366 2017-07-21 01:02:36  RT @dog_rates: This is Canela. She attempted s...   \n",
       "416 2017-06-11 00:25:14  RT @dog_rates: This is Walter. He won't start ...   \n",
       "455 2017-05-09 02:29:07  RT @dog_rates: \"Good afternoon class today we'...   \n",
       "528 2017-03-15 02:10:39  RT @dog_rates: This is Ken. His cheeks are mag...   \n",
       "571 2017-02-16 01:34:34  RT @dog_rates: This is Klein. These pics were ...   \n",
       "613 2017-01-21 03:29:14  RT @dog_rates: This is Paisley. She really wan...   \n",
       "652 2016-12-28 03:08:11  RT @dog_rates: This is Bruce. He never backs d...   \n",
       "694 2016-12-01 19:56:00  RT @dog_rates: This is Rusty. He's going D1 fo...   \n",
       "701 2016-11-25 20:26:31  RT @dog_rates: Everybody drop what you're doin...   \n",
       "720 2016-11-09 02:29:25  RT @dog_rates: This is Ruby. She just turned o...   \n",
       "752 2016-10-25 21:18:40  RT @dog_rates: This is Alfie. He's touching a ...   \n",
       "796 2016-10-01 00:58:26  RT @dog_rates: This is Harper. She scraped her...   \n",
       "821 2016-09-18 22:54:18  RT @dog_rates: This is Arnie. He's a Nova Scot...   \n",
       "873 2016-08-18 01:03:45  RT @dog_rates: This is Colby. He's currently r...   \n",
       "894 2016-08-05 01:19:35  RT @dog_rates: Oh. My. God. 13/10 magical af h...   \n",
       "920 2016-07-26 00:08:05  RT @dog_rates: This is Chompsky. He lives up t...   \n",
       "\n",
       "     retweeted_status_id  retweeted_status_user_id retweeted_status_timestamp  \\\n",
       "6     829374341691346944                4196983835        2017-02-08 17:00:26   \n",
       "17    826958653328592896                4196983835        2017-02-02 01:01:21   \n",
       "29    819006400881917952                4196983835        2017-01-11 02:21:57   \n",
       "366   887473957103951872                4196983835        2017-07-19 00:47:34   \n",
       "416   868880397819494400                4196983835        2017-05-28 17:23:24   \n",
       "455   806629075125202944                4196983835        2016-12-07 22:38:52   \n",
       "528   817423860136083456                4196983835        2017-01-06 17:33:29   \n",
       "571   769940425801170944                4196983835        2016-08-28 16:51:16   \n",
       "613   822489057087389696                4196983835        2017-01-20 17:00:46   \n",
       "652   790277117346975744                4196983835        2016-10-23 19:42:02   \n",
       "694   784826020293709824                4196983835        2016-10-08 18:41:19   \n",
       "701   779056095788752896                4196983835        2016-09-22 20:33:42   \n",
       "720   796149749086875648                4196983835        2016-11-09 00:37:46   \n",
       "752   763837565564780544                4196983835        2016-08-11 20:40:41   \n",
       "796   707610948723478528                4196983835        2016-03-09 16:56:11   \n",
       "821   750429297815552000                4196983835        2016-07-05 20:41:01   \n",
       "873   725842289046749184                4196983835        2016-04-29 00:21:01   \n",
       "894   711694788429553664                4196983835        2016-03-20 23:23:54   \n",
       "920   679062614270468096                4196983835        2015-12-21 22:15:18   \n",
       "\n",
       "                                         expanded_urls  rating_numerator  \\\n",
       "6    https://twitter.com/dog_rates/status/829374341...              13.0   \n",
       "17   https://twitter.com/dog_rates/status/826958653...              12.0   \n",
       "29   https://twitter.com/dog_rates/status/819006400...              14.0   \n",
       "366  https://twitter.com/dog_rates/status/887473957...              13.0   \n",
       "416  https://twitter.com/dog_rates/status/868880397...              14.0   \n",
       "455  https://twitter.com/dog_rates/status/806629075...              13.0   \n",
       "528  https://twitter.com/dog_rates/status/817423860...              13.0   \n",
       "571  https://twitter.com/dog_rates/status/769940425...              12.0   \n",
       "613  https://twitter.com/dog_rates/status/822489057...              13.0   \n",
       "652  https://twitter.com/dog_rates/status/790277117...              11.0   \n",
       "694  https://twitter.com/dog_rates/status/784826020...              13.0   \n",
       "701  https://twitter.com/dog_rates/status/779056095...              13.0   \n",
       "720  https://twitter.com/dog_rates/status/796149749...              11.0   \n",
       "752  https://twitter.com/dog_rates/status/763837565...              11.0   \n",
       "796  https://twitter.com/dog_rates/status/707610948...              12.0   \n",
       "821  https://twitter.com/dog_rates/status/750429297...              12.0   \n",
       "873  https://twitter.com/dog_rates/status/725842289...              12.0   \n",
       "894  https://twitter.com/dog_rates/status/711694788...              13.0   \n",
       "920  https://twitter.com/dog_rates/status/679062614...              11.0   \n",
       "\n",
       "     rating_denominator      name  stage  rating_normal  \n",
       "6                    10    Astrid  doggo            1.3  \n",
       "17                   10      Loki  doggo            1.2  \n",
       "29                   10     Sunny  doggo            1.4  \n",
       "366                  10    Canela    NaN            1.3  \n",
       "416                  10    Walter    NaN            1.4  \n",
       "455                  10       NaN    NaN            1.3  \n",
       "528                  10       Ken    NaN            1.3  \n",
       "571                  10     Klein    NaN            1.2  \n",
       "613                  10   Paisley    NaN            1.3  \n",
       "652                  10     Bruce    NaN            1.1  \n",
       "694                  10     Rusty    NaN            1.3  \n",
       "701                  10       NaN    NaN            1.3  \n",
       "720                  10      Ruby    NaN            1.1  \n",
       "752                  10     Alfie    NaN            1.1  \n",
       "796                  10    Harper    NaN            1.2  \n",
       "821                  10     Arnie    NaN            1.2  \n",
       "873                  10     Colby    NaN            1.2  \n",
       "894                  10       NaN    NaN            1.3  \n",
       "920                  10  Chompsky    NaN            1.1  "
      ]
     },
     "execution_count": 92,
     "metadata": {},
     "output_type": "execute_result"
    }
   ],
   "source": [
    "df1_c[(df1_c['tweet_id'].isin(dup_list)) & (df1_c['retweeted_status_id'].notna())]"
   ]
  },
  {
   "cell_type": "markdown",
   "metadata": {},
   "source": [
    "There are typos in `retweeted_status_id` - thence they weren't removed before. Will do it now."
   ]
  },
  {
   "cell_type": "code",
   "execution_count": 93,
   "metadata": {},
   "outputs": [],
   "source": [
    "# Drop retweets\n",
    "df1_c.drop(df1_c[(df1_c['tweet_id'].isin(dup_list)) & (df1_c['retweeted_status_id'].notna())].index, inplace=True)"
   ]
  },
  {
   "cell_type": "code",
   "execution_count": 94,
   "metadata": {},
   "outputs": [],
   "source": [
    "# Drop excess image data\n",
    "df_img_c = df_img_c[df_img_c['tweet_id'].isin(df1_c['tweet_id'])]"
   ]
  },
  {
   "cell_type": "markdown",
   "metadata": {},
   "source": [
    "#### Test"
   ]
  },
  {
   "cell_type": "code",
   "execution_count": 95,
   "metadata": {},
   "outputs": [
    {
     "data": {
      "text/plain": [
       "0"
      ]
     },
     "execution_count": 95,
     "metadata": {},
     "output_type": "execute_result"
    }
   ],
   "source": [
    "df1_c[df1_c['tweet_id'].isin(dup_list)]['retweeted_status_id'].count()"
   ]
  },
  {
   "cell_type": "code",
   "execution_count": 96,
   "metadata": {
    "scrolled": false
   },
   "outputs": [
    {
     "name": "stdout",
     "output_type": "stream",
     "text": [
      "<class 'pandas.core.frame.DataFrame'>\n",
      "Int64Index: 1997 entries, 0 to 2015\n",
      "Data columns (total 14 columns):\n",
      " #   Column                      Non-Null Count  Dtype         \n",
      "---  ------                      --------------  -----         \n",
      " 0   tweet_id                    1997 non-null   int64         \n",
      " 1   in_reply_to_status_id       7 non-null      Int64         \n",
      " 2   in_reply_to_user_id         7 non-null      Int64         \n",
      " 3   timestamp                   1997 non-null   datetime64[ns]\n",
      " 4   text                        1997 non-null   object        \n",
      " 5   retweeted_status_id         15 non-null     Int64         \n",
      " 6   retweeted_status_user_id    15 non-null     Int64         \n",
      " 7   retweeted_status_timestamp  15 non-null     datetime64[ns]\n",
      " 8   expanded_urls               1997 non-null   object        \n",
      " 9   rating_numerator            1997 non-null   float64       \n",
      " 10  rating_denominator          1997 non-null   int64         \n",
      " 11  name                        1351 non-null   object        \n",
      " 12  stage                       347 non-null    category      \n",
      " 13  rating_normal               1997 non-null   float64       \n",
      "dtypes: Int64(4), category(1), datetime64[ns](2), float64(2), int64(2), object(3)\n",
      "memory usage: 228.4+ KB\n"
     ]
    }
   ],
   "source": [
    "df1_c.info()"
   ]
  },
  {
   "cell_type": "code",
   "execution_count": 97,
   "metadata": {
    "scrolled": true
   },
   "outputs": [
    {
     "name": "stdout",
     "output_type": "stream",
     "text": [
      "<class 'pandas.core.frame.DataFrame'>\n",
      "Int64Index: 1993 entries, 0 to 2074\n",
      "Data columns (total 12 columns):\n",
      " #   Column    Non-Null Count  Dtype  \n",
      "---  ------    --------------  -----  \n",
      " 0   tweet_id  1993 non-null   int64  \n",
      " 1   jpg_url   1993 non-null   object \n",
      " 2   img_num   1993 non-null   int64  \n",
      " 3   p1        1993 non-null   object \n",
      " 4   p1_conf   1993 non-null   float64\n",
      " 5   p1_dog    1993 non-null   bool   \n",
      " 6   p2        1993 non-null   object \n",
      " 7   p2_conf   1993 non-null   float64\n",
      " 8   p2_dog    1993 non-null   bool   \n",
      " 9   p3        1993 non-null   object \n",
      " 10  p3_conf   1993 non-null   float64\n",
      " 11  p3_dog    1993 non-null   bool   \n",
      "dtypes: bool(3), float64(3), int64(2), object(4)\n",
      "memory usage: 161.5+ KB\n"
     ]
    }
   ],
   "source": [
    "df_img_c.info()"
   ]
  },
  {
   "cell_type": "markdown",
   "metadata": {},
   "source": [
    "There are +4 rows in main data frame, because of the new rows created before where there were 2 named dogs per tweet."
   ]
  },
  {
   "cell_type": "markdown",
   "metadata": {},
   "source": [
    "#### `p1`, `p2` and `p3` have inconsistent letter case formatting.\n",
    "\n",
    "#### Define\n",
    "Make all strings lower case for consistency."
   ]
  },
  {
   "cell_type": "markdown",
   "metadata": {},
   "source": [
    "#### Code"
   ]
  },
  {
   "cell_type": "code",
   "execution_count": 98,
   "metadata": {},
   "outputs": [],
   "source": [
    "cols = ['p1', 'p2', 'p3']\n",
    "for col in cols : df_img_c[col].str.lower()"
   ]
  },
  {
   "cell_type": "markdown",
   "metadata": {},
   "source": [
    "#### Test"
   ]
  },
  {
   "cell_type": "code",
   "execution_count": 99,
   "metadata": {
    "scrolled": true
   },
   "outputs": [
    {
     "data": {
      "text/html": [
       "<div>\n",
       "<style scoped>\n",
       "    .dataframe tbody tr th:only-of-type {\n",
       "        vertical-align: middle;\n",
       "    }\n",
       "\n",
       "    .dataframe tbody tr th {\n",
       "        vertical-align: top;\n",
       "    }\n",
       "\n",
       "    .dataframe thead th {\n",
       "        text-align: right;\n",
       "    }\n",
       "</style>\n",
       "<table border=\"1\" class=\"dataframe\">\n",
       "  <thead>\n",
       "    <tr style=\"text-align: right;\">\n",
       "      <th></th>\n",
       "      <th>p1</th>\n",
       "      <th>p2</th>\n",
       "      <th>p3</th>\n",
       "    </tr>\n",
       "  </thead>\n",
       "  <tbody>\n",
       "    <tr>\n",
       "      <th>0</th>\n",
       "      <td>Welsh_springer_spaniel</td>\n",
       "      <td>collie</td>\n",
       "      <td>Shetland_sheepdog</td>\n",
       "    </tr>\n",
       "    <tr>\n",
       "      <th>1</th>\n",
       "      <td>redbone</td>\n",
       "      <td>miniature_pinscher</td>\n",
       "      <td>Rhodesian_ridgeback</td>\n",
       "    </tr>\n",
       "    <tr>\n",
       "      <th>2</th>\n",
       "      <td>German_shepherd</td>\n",
       "      <td>malinois</td>\n",
       "      <td>bloodhound</td>\n",
       "    </tr>\n",
       "    <tr>\n",
       "      <th>3</th>\n",
       "      <td>Rhodesian_ridgeback</td>\n",
       "      <td>redbone</td>\n",
       "      <td>miniature_pinscher</td>\n",
       "    </tr>\n",
       "    <tr>\n",
       "      <th>4</th>\n",
       "      <td>miniature_pinscher</td>\n",
       "      <td>Rottweiler</td>\n",
       "      <td>Doberman</td>\n",
       "    </tr>\n",
       "    <tr>\n",
       "      <th>...</th>\n",
       "      <td>...</td>\n",
       "      <td>...</td>\n",
       "      <td>...</td>\n",
       "    </tr>\n",
       "    <tr>\n",
       "      <th>2070</th>\n",
       "      <td>basset</td>\n",
       "      <td>English_springer</td>\n",
       "      <td>German_short-haired_pointer</td>\n",
       "    </tr>\n",
       "    <tr>\n",
       "      <th>2071</th>\n",
       "      <td>paper_towel</td>\n",
       "      <td>Labrador_retriever</td>\n",
       "      <td>spatula</td>\n",
       "    </tr>\n",
       "    <tr>\n",
       "      <th>2072</th>\n",
       "      <td>Chihuahua</td>\n",
       "      <td>malamute</td>\n",
       "      <td>kelpie</td>\n",
       "    </tr>\n",
       "    <tr>\n",
       "      <th>2073</th>\n",
       "      <td>Chihuahua</td>\n",
       "      <td>Pekinese</td>\n",
       "      <td>papillon</td>\n",
       "    </tr>\n",
       "    <tr>\n",
       "      <th>2074</th>\n",
       "      <td>orange</td>\n",
       "      <td>bagel</td>\n",
       "      <td>banana</td>\n",
       "    </tr>\n",
       "  </tbody>\n",
       "</table>\n",
       "<p>1993 rows × 3 columns</p>\n",
       "</div>"
      ],
      "text/plain": [
       "                          p1                  p2                           p3\n",
       "0     Welsh_springer_spaniel              collie            Shetland_sheepdog\n",
       "1                    redbone  miniature_pinscher          Rhodesian_ridgeback\n",
       "2            German_shepherd            malinois                   bloodhound\n",
       "3        Rhodesian_ridgeback             redbone           miniature_pinscher\n",
       "4         miniature_pinscher          Rottweiler                     Doberman\n",
       "...                      ...                 ...                          ...\n",
       "2070                  basset    English_springer  German_short-haired_pointer\n",
       "2071             paper_towel  Labrador_retriever                      spatula\n",
       "2072               Chihuahua            malamute                       kelpie\n",
       "2073               Chihuahua            Pekinese                     papillon\n",
       "2074                  orange               bagel                       banana\n",
       "\n",
       "[1993 rows x 3 columns]"
      ]
     },
     "execution_count": 99,
     "metadata": {},
     "output_type": "execute_result"
    }
   ],
   "source": [
    "df_img_c[['p1', 'p2', 'p3']]"
   ]
  },
  {
   "cell_type": "markdown",
   "metadata": {},
   "source": [
    "### Tidiness - part 2\n",
    "#### Would be clearer to have separate tables for tweets, dogs and images.\n",
    "#### Define\n",
    "Create separate dataframes for tweet data, dog data and images.  \n",
    "(For database purpose it would also make sense to create separate table for dog 'stages' in order to avoid string duplication)"
   ]
  },
  {
   "cell_type": "code",
   "execution_count": 100,
   "metadata": {},
   "outputs": [
    {
     "name": "stdout",
     "output_type": "stream",
     "text": [
      "<class 'pandas.core.frame.DataFrame'>\n",
      "Int64Index: 1997 entries, 0 to 2015\n",
      "Data columns (total 14 columns):\n",
      " #   Column                      Non-Null Count  Dtype         \n",
      "---  ------                      --------------  -----         \n",
      " 0   tweet_id                    1997 non-null   int64         \n",
      " 1   in_reply_to_status_id       7 non-null      Int64         \n",
      " 2   in_reply_to_user_id         7 non-null      Int64         \n",
      " 3   timestamp                   1997 non-null   datetime64[ns]\n",
      " 4   text                        1997 non-null   object        \n",
      " 5   retweeted_status_id         15 non-null     Int64         \n",
      " 6   retweeted_status_user_id    15 non-null     Int64         \n",
      " 7   retweeted_status_timestamp  15 non-null     datetime64[ns]\n",
      " 8   expanded_urls               1997 non-null   object        \n",
      " 9   rating_numerator            1997 non-null   float64       \n",
      " 10  rating_denominator          1997 non-null   int64         \n",
      " 11  name                        1351 non-null   object        \n",
      " 12  stage                       347 non-null    category      \n",
      " 13  rating_normal               1997 non-null   float64       \n",
      "dtypes: Int64(4), category(1), datetime64[ns](2), float64(2), int64(2), object(3)\n",
      "memory usage: 228.4+ KB\n"
     ]
    }
   ],
   "source": [
    "df1_c.info()"
   ]
  },
  {
   "cell_type": "markdown",
   "metadata": {},
   "source": [
    "#### Code"
   ]
  },
  {
   "cell_type": "code",
   "execution_count": 101,
   "metadata": {},
   "outputs": [],
   "source": [
    "# Stricly tweet-related data frame\n",
    "df_tw = df1_c[['tweet_id', 'timestamp', 'text', 'in_reply_to_status_id', 'in_reply_to_user_id', 'retweeted_status_id',\n",
    "              'retweeted_status_user_id', 'retweeted_status_timestamp', 'expanded_urls']]\n",
    "\n",
    "# Drop duplicated rows\n",
    "df_tw = df_tw.drop_duplicates()"
   ]
  },
  {
   "cell_type": "code",
   "execution_count": 102,
   "metadata": {},
   "outputs": [],
   "source": [
    "# Dog-related data, including tweet likes and retweets (assumption: they relate to the doggos anyway)\n",
    "df_dog = df1_c[['tweet_id', 'name', 'stage', 'rating_numerator', 'rating_denominator', 'rating_normal']]\n",
    "df_dog = df_dog.merge(df_api_c, on='tweet_id', how='left')\n",
    "# NaN's made the likes and retweets columns into float type. Reverting to int.\n",
    "df_dog = df_dog.astype({'likes':'Int64', 'retweets':'Int64'})"
   ]
  },
  {
   "cell_type": "markdown",
   "metadata": {},
   "source": [
    "#### Test"
   ]
  },
  {
   "cell_type": "code",
   "execution_count": 103,
   "metadata": {},
   "outputs": [
    {
     "data": {
      "text/html": [
       "<div>\n",
       "<style scoped>\n",
       "    .dataframe tbody tr th:only-of-type {\n",
       "        vertical-align: middle;\n",
       "    }\n",
       "\n",
       "    .dataframe tbody tr th {\n",
       "        vertical-align: top;\n",
       "    }\n",
       "\n",
       "    .dataframe thead th {\n",
       "        text-align: right;\n",
       "    }\n",
       "</style>\n",
       "<table border=\"1\" class=\"dataframe\">\n",
       "  <thead>\n",
       "    <tr style=\"text-align: right;\">\n",
       "      <th></th>\n",
       "      <th>tweet_id</th>\n",
       "      <th>timestamp</th>\n",
       "      <th>text</th>\n",
       "      <th>in_reply_to_status_id</th>\n",
       "      <th>in_reply_to_user_id</th>\n",
       "      <th>retweeted_status_id</th>\n",
       "      <th>retweeted_status_user_id</th>\n",
       "      <th>retweeted_status_timestamp</th>\n",
       "      <th>expanded_urls</th>\n",
       "    </tr>\n",
       "  </thead>\n",
       "  <tbody>\n",
       "    <tr>\n",
       "      <th>0</th>\n",
       "      <td>890240255349198849</td>\n",
       "      <td>2017-07-26 15:59:51</td>\n",
       "      <td>This is Cassie. She is a college pup. Studying...</td>\n",
       "      <td>&lt;NA&gt;</td>\n",
       "      <td>&lt;NA&gt;</td>\n",
       "      <td>&lt;NA&gt;</td>\n",
       "      <td>&lt;NA&gt;</td>\n",
       "      <td>NaT</td>\n",
       "      <td>https://twitter.com/dog_rates/status/890240255...</td>\n",
       "    </tr>\n",
       "    <tr>\n",
       "      <th>1</th>\n",
       "      <td>884162670584377345</td>\n",
       "      <td>2017-07-09 21:29:42</td>\n",
       "      <td>Meet Yogi. He doesn't have any important dog m...</td>\n",
       "      <td>&lt;NA&gt;</td>\n",
       "      <td>&lt;NA&gt;</td>\n",
       "      <td>&lt;NA&gt;</td>\n",
       "      <td>&lt;NA&gt;</td>\n",
       "      <td>NaT</td>\n",
       "      <td>https://twitter.com/dog_rates/status/884162670...</td>\n",
       "    </tr>\n",
       "    <tr>\n",
       "      <th>2</th>\n",
       "      <td>872967104147763200</td>\n",
       "      <td>2017-06-09 00:02:31</td>\n",
       "      <td>Here's a very large dog. He has a date later. ...</td>\n",
       "      <td>&lt;NA&gt;</td>\n",
       "      <td>&lt;NA&gt;</td>\n",
       "      <td>&lt;NA&gt;</td>\n",
       "      <td>&lt;NA&gt;</td>\n",
       "      <td>NaT</td>\n",
       "      <td>https://twitter.com/dog_rates/status/872967104...</td>\n",
       "    </tr>\n",
       "  </tbody>\n",
       "</table>\n",
       "</div>"
      ],
      "text/plain": [
       "             tweet_id           timestamp  \\\n",
       "0  890240255349198849 2017-07-26 15:59:51   \n",
       "1  884162670584377345 2017-07-09 21:29:42   \n",
       "2  872967104147763200 2017-06-09 00:02:31   \n",
       "\n",
       "                                                text  in_reply_to_status_id  \\\n",
       "0  This is Cassie. She is a college pup. Studying...                   <NA>   \n",
       "1  Meet Yogi. He doesn't have any important dog m...                   <NA>   \n",
       "2  Here's a very large dog. He has a date later. ...                   <NA>   \n",
       "\n",
       "   in_reply_to_user_id  retweeted_status_id  retweeted_status_user_id  \\\n",
       "0                 <NA>                 <NA>                      <NA>   \n",
       "1                 <NA>                 <NA>                      <NA>   \n",
       "2                 <NA>                 <NA>                      <NA>   \n",
       "\n",
       "  retweeted_status_timestamp  \\\n",
       "0                        NaT   \n",
       "1                        NaT   \n",
       "2                        NaT   \n",
       "\n",
       "                                       expanded_urls  \n",
       "0  https://twitter.com/dog_rates/status/890240255...  \n",
       "1  https://twitter.com/dog_rates/status/884162670...  \n",
       "2  https://twitter.com/dog_rates/status/872967104...  "
      ]
     },
     "execution_count": 103,
     "metadata": {},
     "output_type": "execute_result"
    }
   ],
   "source": [
    "df_tw.head(3)"
   ]
  },
  {
   "cell_type": "code",
   "execution_count": 104,
   "metadata": {},
   "outputs": [
    {
     "data": {
      "text/plain": [
       "0"
      ]
     },
     "execution_count": 104,
     "metadata": {},
     "output_type": "execute_result"
    }
   ],
   "source": [
    "df_tw[df_tw.duplicated()].shape[0]"
   ]
  },
  {
   "cell_type": "code",
   "execution_count": 105,
   "metadata": {},
   "outputs": [
    {
     "name": "stdout",
     "output_type": "stream",
     "text": [
      "<class 'pandas.core.frame.DataFrame'>\n",
      "Int64Index: 1993 entries, 0 to 2015\n",
      "Data columns (total 9 columns):\n",
      " #   Column                      Non-Null Count  Dtype         \n",
      "---  ------                      --------------  -----         \n",
      " 0   tweet_id                    1993 non-null   int64         \n",
      " 1   timestamp                   1993 non-null   datetime64[ns]\n",
      " 2   text                        1993 non-null   object        \n",
      " 3   in_reply_to_status_id       7 non-null      Int64         \n",
      " 4   in_reply_to_user_id         7 non-null      Int64         \n",
      " 5   retweeted_status_id         15 non-null     Int64         \n",
      " 6   retweeted_status_user_id    15 non-null     Int64         \n",
      " 7   retweeted_status_timestamp  15 non-null     datetime64[ns]\n",
      " 8   expanded_urls               1993 non-null   object        \n",
      "dtypes: Int64(4), datetime64[ns](2), int64(1), object(2)\n",
      "memory usage: 163.5+ KB\n"
     ]
    }
   ],
   "source": [
    "df_tw.info()"
   ]
  },
  {
   "cell_type": "code",
   "execution_count": 106,
   "metadata": {},
   "outputs": [
    {
     "data": {
      "text/html": [
       "<div>\n",
       "<style scoped>\n",
       "    .dataframe tbody tr th:only-of-type {\n",
       "        vertical-align: middle;\n",
       "    }\n",
       "\n",
       "    .dataframe tbody tr th {\n",
       "        vertical-align: top;\n",
       "    }\n",
       "\n",
       "    .dataframe thead th {\n",
       "        text-align: right;\n",
       "    }\n",
       "</style>\n",
       "<table border=\"1\" class=\"dataframe\">\n",
       "  <thead>\n",
       "    <tr style=\"text-align: right;\">\n",
       "      <th></th>\n",
       "      <th>tweet_id</th>\n",
       "      <th>name</th>\n",
       "      <th>stage</th>\n",
       "      <th>rating_numerator</th>\n",
       "      <th>rating_denominator</th>\n",
       "      <th>rating_normal</th>\n",
       "      <th>likes</th>\n",
       "      <th>retweets</th>\n",
       "    </tr>\n",
       "  </thead>\n",
       "  <tbody>\n",
       "    <tr>\n",
       "      <th>0</th>\n",
       "      <td>890240255349198849</td>\n",
       "      <td>Cassie</td>\n",
       "      <td>doggo</td>\n",
       "      <td>14.0</td>\n",
       "      <td>10</td>\n",
       "      <td>1.4</td>\n",
       "      <td>28902</td>\n",
       "      <td>6361</td>\n",
       "    </tr>\n",
       "    <tr>\n",
       "      <th>1</th>\n",
       "      <td>884162670584377345</td>\n",
       "      <td>Yogi</td>\n",
       "      <td>doggo</td>\n",
       "      <td>12.0</td>\n",
       "      <td>10</td>\n",
       "      <td>1.2</td>\n",
       "      <td>18522</td>\n",
       "      <td>2609</td>\n",
       "    </tr>\n",
       "    <tr>\n",
       "      <th>2</th>\n",
       "      <td>872967104147763200</td>\n",
       "      <td>NaN</td>\n",
       "      <td>doggo</td>\n",
       "      <td>12.0</td>\n",
       "      <td>10</td>\n",
       "      <td>1.2</td>\n",
       "      <td>24881</td>\n",
       "      <td>4751</td>\n",
       "    </tr>\n",
       "  </tbody>\n",
       "</table>\n",
       "</div>"
      ],
      "text/plain": [
       "             tweet_id    name  stage  rating_numerator  rating_denominator  \\\n",
       "0  890240255349198849  Cassie  doggo              14.0                  10   \n",
       "1  884162670584377345    Yogi  doggo              12.0                  10   \n",
       "2  872967104147763200     NaN  doggo              12.0                  10   \n",
       "\n",
       "   rating_normal  likes  retweets  \n",
       "0            1.4  28902      6361  \n",
       "1            1.2  18522      2609  \n",
       "2            1.2  24881      4751  "
      ]
     },
     "execution_count": 106,
     "metadata": {},
     "output_type": "execute_result"
    }
   ],
   "source": [
    "df_dog.head(3)"
   ]
  },
  {
   "cell_type": "code",
   "execution_count": 107,
   "metadata": {},
   "outputs": [
    {
     "name": "stdout",
     "output_type": "stream",
     "text": [
      "<class 'pandas.core.frame.DataFrame'>\n",
      "Int64Index: 1997 entries, 0 to 1996\n",
      "Data columns (total 8 columns):\n",
      " #   Column              Non-Null Count  Dtype   \n",
      "---  ------              --------------  -----   \n",
      " 0   tweet_id            1997 non-null   int64   \n",
      " 1   name                1351 non-null   object  \n",
      " 2   stage               347 non-null    category\n",
      " 3   rating_numerator    1997 non-null   float64 \n",
      " 4   rating_denominator  1997 non-null   int64   \n",
      " 5   rating_normal       1997 non-null   float64 \n",
      " 6   likes               1988 non-null   Int64   \n",
      " 7   retweets            1988 non-null   Int64   \n",
      "dtypes: Int64(2), category(1), float64(2), int64(2), object(1)\n",
      "memory usage: 130.9+ KB\n"
     ]
    }
   ],
   "source": [
    "df_dog.info()"
   ]
  },
  {
   "cell_type": "markdown",
   "metadata": {},
   "source": [
    "## Saving data frames\n",
    "#### Save to files\n",
    "- **`df_tw` into `twitter_archive_master.csv`** - Tweet data\n",
    "- **`df_dog` into `dogs_master.csv`** - Dawgz data\n",
    "- **`df_img_c` into `image_pred_master.csv`** - Image predictions data"
   ]
  },
  {
   "cell_type": "code",
   "execution_count": 108,
   "metadata": {},
   "outputs": [],
   "source": [
    "df_tw.to_csv('twitter_archive_master.csv', index=False)\n",
    "df_dog.to_csv('dogs_master.csv', index=False)\n",
    "df_img_c.to_csv('image_pred_master.csv', index=False)"
   ]
  },
  {
   "cell_type": "markdown",
   "metadata": {},
   "source": [
    "#### Save to SQLite database\n",
    "First map dog `stage` to integers in `df_dog` and create a separate df with dog `stage` only, for the sake of avoiding string repetition."
   ]
  },
  {
   "cell_type": "code",
   "execution_count": 109,
   "metadata": {},
   "outputs": [
    {
     "data": {
      "text/html": [
       "<div>\n",
       "<style scoped>\n",
       "    .dataframe tbody tr th:only-of-type {\n",
       "        vertical-align: middle;\n",
       "    }\n",
       "\n",
       "    .dataframe tbody tr th {\n",
       "        vertical-align: top;\n",
       "    }\n",
       "\n",
       "    .dataframe thead th {\n",
       "        text-align: right;\n",
       "    }\n",
       "</style>\n",
       "<table border=\"1\" class=\"dataframe\">\n",
       "  <thead>\n",
       "    <tr style=\"text-align: right;\">\n",
       "      <th></th>\n",
       "      <th>id</th>\n",
       "      <th>stage</th>\n",
       "    </tr>\n",
       "  </thead>\n",
       "  <tbody>\n",
       "    <tr>\n",
       "      <th>0</th>\n",
       "      <td>1</td>\n",
       "      <td>doggo</td>\n",
       "    </tr>\n",
       "    <tr>\n",
       "      <th>1</th>\n",
       "      <td>2</td>\n",
       "      <td>floofer</td>\n",
       "    </tr>\n",
       "    <tr>\n",
       "      <th>2</th>\n",
       "      <td>3</td>\n",
       "      <td>pupper</td>\n",
       "    </tr>\n",
       "    <tr>\n",
       "      <th>3</th>\n",
       "      <td>4</td>\n",
       "      <td>puppo</td>\n",
       "    </tr>\n",
       "  </tbody>\n",
       "</table>\n",
       "</div>"
      ],
      "text/plain": [
       "   id    stage\n",
       "0   1    doggo\n",
       "1   2  floofer\n",
       "2   3   pupper\n",
       "3   4    puppo"
      ]
     },
     "execution_count": 109,
     "metadata": {},
     "output_type": "execute_result"
    }
   ],
   "source": [
    "# Map dog stages to integers in existing data frame\n",
    "stg_map = {'doggo':1, 'floofer':2, 'pupper':3, 'puppo':4}\n",
    "\n",
    "df_dog_map = df_dog.copy()\n",
    "df_dog_map['stage'] = df_dog_map['stage'].map(stg_map)\n",
    "df_dog_map.rename(columns={'stage':'stage_id'}, inplace=True)\n",
    "df_dog_map = df_dog_map.astype({'stage_id':'Int64'})\n",
    "\n",
    "# Create new data frame for dog stages\n",
    "df_stg = pd.DataFrame(data=stg_map.items(), columns=('stage', 'id'))\n",
    "df_stg = df_stg[['id', 'stage']]\n",
    "df_stg"
   ]
  },
  {
   "cell_type": "markdown",
   "metadata": {},
   "source": [
    "Create or open database file `twitter_dogs_archive.sqlite` and create or overwrite tables."
   ]
  },
  {
   "cell_type": "code",
   "execution_count": 110,
   "metadata": {},
   "outputs": [],
   "source": [
    "conn = sqlite3.connect('twitter_dogs_archive.sqlite')\n",
    "df_tw.to_sql('tweets', conn, if_exists='replace', index=False)\n",
    "df_dog_map.to_sql('dogs', conn, if_exists='replace', index=False)\n",
    "df_stg.to_sql('dog_stages', conn, if_exists='replace', index=False)\n",
    "df_img_c.to_sql('image_preds', conn, if_exists='replace', index=False)"
   ]
  },
  {
   "cell_type": "markdown",
   "metadata": {},
   "source": [
    "## Part II: Data Analysis and Visualization\n",
    "### Introduction\n",
    "The data set is rather sandboxy, let's see what questions could be explored:\n",
    "- What is the distribution of dog ratings?\n",
    "- Are the likes and retweets correlated to one another and to dog rating?\n",
    "- If so, is there a practical significance, or just statistical?\n",
    "- What are the most popular dog names in the sample?\n",
    "- What are the most popular 'dog stages' in the sample?  \n",
    "  \n",
    "### Exploratory Data Analysis\n",
    "Let's look at the numerical summary and scatter matrix to make initial observations."
   ]
  },
  {
   "cell_type": "code",
   "execution_count": 111,
   "metadata": {
    "scrolled": false
   },
   "outputs": [
    {
     "data": {
      "text/html": [
       "<div>\n",
       "<style scoped>\n",
       "    .dataframe tbody tr th:only-of-type {\n",
       "        vertical-align: middle;\n",
       "    }\n",
       "\n",
       "    .dataframe tbody tr th {\n",
       "        vertical-align: top;\n",
       "    }\n",
       "\n",
       "    .dataframe thead th {\n",
       "        text-align: right;\n",
       "    }\n",
       "</style>\n",
       "<table border=\"1\" class=\"dataframe\">\n",
       "  <thead>\n",
       "    <tr style=\"text-align: right;\">\n",
       "      <th></th>\n",
       "      <th>tweet_id</th>\n",
       "      <th>rating_numerator</th>\n",
       "      <th>rating_denominator</th>\n",
       "      <th>rating_normal</th>\n",
       "      <th>likes</th>\n",
       "      <th>retweets</th>\n",
       "    </tr>\n",
       "  </thead>\n",
       "  <tbody>\n",
       "    <tr>\n",
       "      <th>count</th>\n",
       "      <td>1.997000e+03</td>\n",
       "      <td>1997.000000</td>\n",
       "      <td>1997.000000</td>\n",
       "      <td>1997.000000</td>\n",
       "      <td>1988.000000</td>\n",
       "      <td>1988.000000</td>\n",
       "    </tr>\n",
       "    <tr>\n",
       "      <th>mean</th>\n",
       "      <td>7.365369e+17</td>\n",
       "      <td>12.217466</td>\n",
       "      <td>10.510766</td>\n",
       "      <td>1.164467</td>\n",
       "      <td>7983.972334</td>\n",
       "      <td>2346.260563</td>\n",
       "    </tr>\n",
       "    <tr>\n",
       "      <th>std</th>\n",
       "      <td>6.769935e+16</td>\n",
       "      <td>41.429913</td>\n",
       "      <td>7.255674</td>\n",
       "      <td>4.060885</td>\n",
       "      <td>11806.667954</td>\n",
       "      <td>4206.959271</td>\n",
       "    </tr>\n",
       "    <tr>\n",
       "      <th>min</th>\n",
       "      <td>6.660209e+17</td>\n",
       "      <td>0.000000</td>\n",
       "      <td>10.000000</td>\n",
       "      <td>0.000000</td>\n",
       "      <td>0.000000</td>\n",
       "      <td>11.000000</td>\n",
       "    </tr>\n",
       "    <tr>\n",
       "      <th>25%</th>\n",
       "      <td>6.758981e+17</td>\n",
       "      <td>10.000000</td>\n",
       "      <td>10.000000</td>\n",
       "      <td>1.000000</td>\n",
       "      <td>1674.250000</td>\n",
       "      <td>517.000000</td>\n",
       "    </tr>\n",
       "    <tr>\n",
       "      <th>50%</th>\n",
       "      <td>7.092251e+17</td>\n",
       "      <td>11.000000</td>\n",
       "      <td>10.000000</td>\n",
       "      <td>1.100000</td>\n",
       "      <td>3563.500000</td>\n",
       "      <td>1118.500000</td>\n",
       "    </tr>\n",
       "    <tr>\n",
       "      <th>75%</th>\n",
       "      <td>7.889084e+17</td>\n",
       "      <td>12.000000</td>\n",
       "      <td>10.000000</td>\n",
       "      <td>1.200000</td>\n",
       "      <td>9899.500000</td>\n",
       "      <td>2675.000000</td>\n",
       "    </tr>\n",
       "    <tr>\n",
       "      <th>max</th>\n",
       "      <td>8.924206e+17</td>\n",
       "      <td>1776.000000</td>\n",
       "      <td>170.000000</td>\n",
       "      <td>177.600000</td>\n",
       "      <td>150118.000000</td>\n",
       "      <td>74068.000000</td>\n",
       "    </tr>\n",
       "  </tbody>\n",
       "</table>\n",
       "</div>"
      ],
      "text/plain": [
       "           tweet_id  rating_numerator  rating_denominator  rating_normal  \\\n",
       "count  1.997000e+03       1997.000000         1997.000000    1997.000000   \n",
       "mean   7.365369e+17         12.217466           10.510766       1.164467   \n",
       "std    6.769935e+16         41.429913            7.255674       4.060885   \n",
       "min    6.660209e+17          0.000000           10.000000       0.000000   \n",
       "25%    6.758981e+17         10.000000           10.000000       1.000000   \n",
       "50%    7.092251e+17         11.000000           10.000000       1.100000   \n",
       "75%    7.889084e+17         12.000000           10.000000       1.200000   \n",
       "max    8.924206e+17       1776.000000          170.000000     177.600000   \n",
       "\n",
       "               likes      retweets  \n",
       "count    1988.000000   1988.000000  \n",
       "mean     7983.972334   2346.260563  \n",
       "std     11806.667954   4206.959271  \n",
       "min         0.000000     11.000000  \n",
       "25%      1674.250000    517.000000  \n",
       "50%      3563.500000   1118.500000  \n",
       "75%      9899.500000   2675.000000  \n",
       "max    150118.000000  74068.000000  "
      ]
     },
     "execution_count": 111,
     "metadata": {},
     "output_type": "execute_result"
    }
   ],
   "source": [
    "df_dog.describe()"
   ]
  },
  {
   "cell_type": "code",
   "execution_count": 112,
   "metadata": {},
   "outputs": [
    {
     "data": {
      "image/png": "[encoded data removed]",
      "text/plain": [
       "<Figure size 1080x1080 with 36 Axes>"
      ]
     },
     "metadata": {
      "needs_background": "light"
     },
     "output_type": "display_data"
    }
   ],
   "source": [
    "pd.plotting.scatter_matrix(df_dog, figsize=(15,15));"
   ]
  },
  {
   "cell_type": "markdown",
   "metadata": {},
   "source": [
    "#### First observations:\n",
    "- There seem to be correlation between number of likes and retweets.\n",
    "- There are few outliers in ratings - should consider removing them.\n",
    "- To avoid NA / NaN problems, consider removing those values at least from `likes` and `retweets` or filling with mean (after removing outliers)."
   ]
  },
  {
   "cell_type": "code",
   "execution_count": 113,
   "metadata": {},
   "outputs": [
    {
     "name": "stdout",
     "output_type": "stream",
     "text": [
      "<class 'pandas.core.frame.DataFrame'>\n",
      "Int64Index: 1995 entries, 0 to 1996\n",
      "Data columns (total 8 columns):\n",
      " #   Column              Non-Null Count  Dtype   \n",
      "---  ------              --------------  -----   \n",
      " 0   tweet_id            1995 non-null   int64   \n",
      " 1   name                1350 non-null   object  \n",
      " 2   stage               347 non-null    category\n",
      " 3   rating_numerator    1995 non-null   float64 \n",
      " 4   rating_denominator  1995 non-null   int64   \n",
      " 5   rating_normal       1995 non-null   float64 \n",
      " 6   likes               1986 non-null   Int64   \n",
      " 7   retweets            1986 non-null   Int64   \n",
      "dtypes: Int64(2), category(1), float64(2), int64(2), object(1)\n",
      "memory usage: 130.7+ KB\n"
     ]
    }
   ],
   "source": [
    "# Removing outliers (Snoop Dogg the Outlier: https://twitter.com/dog_rates/status/670842764863651840)\n",
    "df = df_dog[(np.abs(stats.zscore(df_dog['rating_normal'])) < 3)]\n",
    "df.info()"
   ]
  },
  {
   "cell_type": "code",
   "execution_count": 114,
   "metadata": {},
   "outputs": [
    {
     "data": {
      "text/html": [
       "<div>\n",
       "<style scoped>\n",
       "    .dataframe tbody tr th:only-of-type {\n",
       "        vertical-align: middle;\n",
       "    }\n",
       "\n",
       "    .dataframe tbody tr th {\n",
       "        vertical-align: top;\n",
       "    }\n",
       "\n",
       "    .dataframe thead th {\n",
       "        text-align: right;\n",
       "    }\n",
       "</style>\n",
       "<table border=\"1\" class=\"dataframe\">\n",
       "  <thead>\n",
       "    <tr style=\"text-align: right;\">\n",
       "      <th></th>\n",
       "      <th>tweet_id</th>\n",
       "      <th>rating_numerator</th>\n",
       "      <th>rating_denominator</th>\n",
       "      <th>rating_normal</th>\n",
       "      <th>likes</th>\n",
       "      <th>retweets</th>\n",
       "    </tr>\n",
       "  </thead>\n",
       "  <tbody>\n",
       "    <tr>\n",
       "      <th>count</th>\n",
       "      <td>1.995000e+03</td>\n",
       "      <td>1995.000000</td>\n",
       "      <td>1995.000000</td>\n",
       "      <td>1995.000000</td>\n",
       "      <td>1986.000000</td>\n",
       "      <td>1986.000000</td>\n",
       "    </tr>\n",
       "    <tr>\n",
       "      <th>mean</th>\n",
       "      <td>7.365631e+17</td>\n",
       "      <td>11.128962</td>\n",
       "      <td>10.511278</td>\n",
       "      <td>1.055559</td>\n",
       "      <td>7978.003021</td>\n",
       "      <td>2343.436556</td>\n",
       "    </tr>\n",
       "    <tr>\n",
       "      <th>std</th>\n",
       "      <td>6.771664e+16</td>\n",
       "      <td>8.569456</td>\n",
       "      <td>7.259293</td>\n",
       "      <td>0.218176</td>\n",
       "      <td>11807.679282</td>\n",
       "      <td>4207.212212</td>\n",
       "    </tr>\n",
       "    <tr>\n",
       "      <th>min</th>\n",
       "      <td>6.660209e+17</td>\n",
       "      <td>0.000000</td>\n",
       "      <td>10.000000</td>\n",
       "      <td>0.000000</td>\n",
       "      <td>0.000000</td>\n",
       "      <td>11.000000</td>\n",
       "    </tr>\n",
       "    <tr>\n",
       "      <th>25%</th>\n",
       "      <td>6.759938e+17</td>\n",
       "      <td>10.000000</td>\n",
       "      <td>10.000000</td>\n",
       "      <td>1.000000</td>\n",
       "      <td>1666.750000</td>\n",
       "      <td>517.000000</td>\n",
       "    </tr>\n",
       "    <tr>\n",
       "      <th>50%</th>\n",
       "      <td>7.092251e+17</td>\n",
       "      <td>11.000000</td>\n",
       "      <td>10.000000</td>\n",
       "      <td>1.100000</td>\n",
       "      <td>3561.000000</td>\n",
       "      <td>1115.500000</td>\n",
       "    </tr>\n",
       "    <tr>\n",
       "      <th>75%</th>\n",
       "      <td>7.890232e+17</td>\n",
       "      <td>12.000000</td>\n",
       "      <td>10.000000</td>\n",
       "      <td>1.200000</td>\n",
       "      <td>9889.000000</td>\n",
       "      <td>2671.500000</td>\n",
       "    </tr>\n",
       "    <tr>\n",
       "      <th>max</th>\n",
       "      <td>8.924206e+17</td>\n",
       "      <td>204.000000</td>\n",
       "      <td>170.000000</td>\n",
       "      <td>1.500000</td>\n",
       "      <td>150118.000000</td>\n",
       "      <td>74068.000000</td>\n",
       "    </tr>\n",
       "  </tbody>\n",
       "</table>\n",
       "</div>"
      ],
      "text/plain": [
       "           tweet_id  rating_numerator  rating_denominator  rating_normal  \\\n",
       "count  1.995000e+03       1995.000000         1995.000000    1995.000000   \n",
       "mean   7.365631e+17         11.128962           10.511278       1.055559   \n",
       "std    6.771664e+16          8.569456            7.259293       0.218176   \n",
       "min    6.660209e+17          0.000000           10.000000       0.000000   \n",
       "25%    6.759938e+17         10.000000           10.000000       1.000000   \n",
       "50%    7.092251e+17         11.000000           10.000000       1.100000   \n",
       "75%    7.890232e+17         12.000000           10.000000       1.200000   \n",
       "max    8.924206e+17        204.000000          170.000000       1.500000   \n",
       "\n",
       "               likes      retweets  \n",
       "count    1986.000000   1986.000000  \n",
       "mean     7978.003021   2343.436556  \n",
       "std     11807.679282   4207.212212  \n",
       "min         0.000000     11.000000  \n",
       "25%      1666.750000    517.000000  \n",
       "50%      3561.000000   1115.500000  \n",
       "75%      9889.000000   2671.500000  \n",
       "max    150118.000000  74068.000000  "
      ]
     },
     "execution_count": 114,
     "metadata": {},
     "output_type": "execute_result"
    }
   ],
   "source": [
    "df.describe()"
   ]
  },
  {
   "cell_type": "markdown",
   "metadata": {},
   "source": [
    "**Will fill NaN `likes` and `retweets`** (caused by removed tweets) with their respective means.  \n",
    "It would seem not the best option, since these means lie far away from the median.  \n",
    "But as seen below, with the rising popularity of the subject account, their tweets get more attention in general.  \n",
    "As a consequence, the means for `likes` and `retweets` are getting higher quicker than the medians."
   ]
  },
  {
   "cell_type": "code",
   "execution_count": 115,
   "metadata": {},
   "outputs": [
    {
     "data": {
      "image/png": "[encoded data removed]",
      "text/plain": [
       "<Figure size 432x288 with 1 Axes>"
      ]
     },
     "metadata": {
      "needs_background": "light"
     },
     "output_type": "display_data"
    }
   ],
   "source": [
    "plt.hist(df[(df['tweet_id'] < int(9e17)) & (~df['likes'].isna())]['likes'], alpha=1, bins=20, range=(0, 60000), label='new tweets')\n",
    "plt.hist(df[(df['tweet_id'] < int(8e17)) & (~df['likes'].isna())]['likes'], alpha=0.8, bins=20, range=(0, 60000), label='middle tweets')\n",
    "plt.hist(df[(df['tweet_id'] < int(7e17)) & (~df['likes'].isna())]['likes'], alpha=0.7, bins=20, range=(0, 60000), label='old tweets')\n",
    "plt.legend()\n",
    "plt.ylabel('Tweets')\n",
    "plt.xlabel('Likes')\n",
    "plt.title('Tweet likes vs. their age');"
   ]
  },
  {
   "cell_type": "code",
   "execution_count": 116,
   "metadata": {},
   "outputs": [
    {
     "name": "stdout",
     "output_type": "stream",
     "text": [
      "<class 'pandas.core.frame.DataFrame'>\n",
      "Int64Index: 1995 entries, 0 to 1996\n",
      "Data columns (total 8 columns):\n",
      " #   Column              Non-Null Count  Dtype   \n",
      "---  ------              --------------  -----   \n",
      " 0   tweet_id            1995 non-null   int64   \n",
      " 1   name                1350 non-null   object  \n",
      " 2   stage               347 non-null    category\n",
      " 3   rating_numerator    1995 non-null   float64 \n",
      " 4   rating_denominator  1995 non-null   int64   \n",
      " 5   rating_normal       1995 non-null   float64 \n",
      " 6   likes               1995 non-null   int64   \n",
      " 7   retweets            1995 non-null   int64   \n",
      "dtypes: category(1), float64(2), int64(4), object(1)\n",
      "memory usage: 126.8+ KB\n"
     ]
    },
    {
     "name": "stderr",
     "output_type": "stream",
     "text": [
      "C:\\Users\\kacpe\\anaconda3\\lib\\site-packages\\pandas\\core\\series.py:4460: SettingWithCopyWarning: \n",
      "A value is trying to be set on a copy of a slice from a DataFrame\n",
      "\n",
      "See the caveats in the documentation: https://pandas.pydata.org/pandas-docs/stable/user_guide/indexing.html#returning-a-view-versus-a-copy\n",
      "  return super().fillna(\n"
     ]
    }
   ],
   "source": [
    "# Filling likes and retweets with their means\n",
    "df.likes.fillna(int(df.likes.mean()), inplace=True)\n",
    "df.retweets.fillna(int(df.retweets.mean()), inplace=True)\n",
    "df = df.astype({'likes':'int64', 'retweets':'int64'})\n",
    "df.info()"
   ]
  },
  {
   "cell_type": "markdown",
   "metadata": {},
   "source": [
    "**Now the below matrix is more useful without outliers and with complete set of numeric data.**"
   ]
  },
  {
   "cell_type": "code",
   "execution_count": 117,
   "metadata": {},
   "outputs": [
    {
     "data": {
      "image/png": "[encoded data removed]",
      "text/plain": [
       "<Figure size 1080x1080 with 36 Axes>"
      ]
     },
     "metadata": {
      "needs_background": "light"
     },
     "output_type": "display_data"
    }
   ],
   "source": [
    "pd.plotting.scatter_matrix(df, figsize=(15,15));"
   ]
  },
  {
   "cell_type": "markdown",
   "metadata": {},
   "source": [
    "**Zoom on a ratings distribution**"
   ]
  },
  {
   "cell_type": "code",
   "execution_count": 118,
   "metadata": {},
   "outputs": [
    {
     "data": {
      "image/png": "[encoded data removed]",
      "text/plain": [
       "<Figure size 432x288 with 1 Axes>"
      ]
     },
     "metadata": {
      "needs_background": "light"
     },
     "output_type": "display_data"
    }
   ],
   "source": [
    "plt.hist(df.rating_normal, bins=14)\n",
    "plt.title('Normalized dog rating histogram')\n",
    "plt.xlabel('Dog rating')\n",
    "plt.ylabel('Occurences');"
   ]
  },
  {
   "cell_type": "markdown",
   "metadata": {},
   "source": [
    "As seen above, the dog ratings distribution is left-skewed, meaning most dogs get high ratings."
   ]
  },
  {
   "cell_type": "markdown",
   "metadata": {},
   "source": [
    "#### Fitting linear regression models to verify correlations"
   ]
  },
  {
   "cell_type": "code",
   "execution_count": 119,
   "metadata": {},
   "outputs": [
    {
     "data": {
      "text/html": [
       "<table class=\"simpletable\">\n",
       "<caption>OLS Regression Results</caption>\n",
       "<tr>\n",
       "  <th>Dep. Variable:</th>        <td>retweets</td>     <th>  R-squared:         </th> <td>   0.863</td> \n",
       "</tr>\n",
       "<tr>\n",
       "  <th>Model:</th>                   <td>OLS</td>       <th>  Adj. R-squared:    </th> <td>   0.863</td> \n",
       "</tr>\n",
       "<tr>\n",
       "  <th>Method:</th>             <td>Least Squares</td>  <th>  F-statistic:       </th> <td>1.255e+04</td>\n",
       "</tr>\n",
       "<tr>\n",
       "  <th>Date:</th>             <td>Tue, 30 Mar 2021</td> <th>  Prob (F-statistic):</th>  <td>  0.00</td>  \n",
       "</tr>\n",
       "<tr>\n",
       "  <th>Time:</th>                 <td>14:41:49</td>     <th>  Log-Likelihood:    </th> <td> -17491.</td> \n",
       "</tr>\n",
       "<tr>\n",
       "  <th>No. Observations:</th>      <td>  1995</td>      <th>  AIC:               </th> <td>3.499e+04</td>\n",
       "</tr>\n",
       "<tr>\n",
       "  <th>Df Residuals:</th>          <td>  1993</td>      <th>  BIC:               </th> <td>3.500e+04</td>\n",
       "</tr>\n",
       "<tr>\n",
       "  <th>Df Model:</th>              <td>     1</td>      <th>                     </th>     <td> </td>    \n",
       "</tr>\n",
       "<tr>\n",
       "  <th>Covariance Type:</th>      <td>nonrobust</td>    <th>                     </th>     <td> </td>    \n",
       "</tr>\n",
       "</table>\n",
       "<table class=\"simpletable\">\n",
       "<tr>\n",
       "      <td></td>         <th>coef</th>     <th>std err</th>      <th>t</th>      <th>P>|t|</th>  <th>[0.025</th>    <th>0.975]</th>  \n",
       "</tr>\n",
       "<tr>\n",
       "  <th>intercept</th> <td> -297.2147</td> <td>   42.037</td> <td>   -7.070</td> <td> 0.000</td> <td> -379.655</td> <td> -214.774</td>\n",
       "</tr>\n",
       "<tr>\n",
       "  <th>likes</th>     <td>    0.3310</td> <td>    0.003</td> <td>  112.011</td> <td> 0.000</td> <td>    0.325</td> <td>    0.337</td>\n",
       "</tr>\n",
       "</table>\n",
       "<table class=\"simpletable\">\n",
       "<tr>\n",
       "  <th>Omnibus:</th>       <td>1813.864</td> <th>  Durbin-Watson:     </th>  <td>   1.276</td> \n",
       "</tr>\n",
       "<tr>\n",
       "  <th>Prob(Omnibus):</th>  <td> 0.000</td>  <th>  Jarque-Bera (JB):  </th> <td>250237.239</td>\n",
       "</tr>\n",
       "<tr>\n",
       "  <th>Skew:</th>           <td> 3.739</td>  <th>  Prob(JB):          </th>  <td>    0.00</td> \n",
       "</tr>\n",
       "<tr>\n",
       "  <th>Kurtosis:</th>       <td>57.355</td>  <th>  Cond. No.          </th>  <td>1.72e+04</td> \n",
       "</tr>\n",
       "</table><br/><br/>Notes:<br/>[1] Standard Errors assume that the covariance matrix of the errors is correctly specified.<br/>[2] The condition number is large, 1.72e+04. This might indicate that there are<br/>strong multicollinearity or other numerical problems."
      ],
      "text/plain": [
       "<class 'statsmodels.iolib.summary.Summary'>\n",
       "\"\"\"\n",
       "                            OLS Regression Results                            \n",
       "==============================================================================\n",
       "Dep. Variable:               retweets   R-squared:                       0.863\n",
       "Model:                            OLS   Adj. R-squared:                  0.863\n",
       "Method:                 Least Squares   F-statistic:                 1.255e+04\n",
       "Date:                Tue, 30 Mar 2021   Prob (F-statistic):               0.00\n",
       "Time:                        14:41:49   Log-Likelihood:                -17491.\n",
       "No. Observations:                1995   AIC:                         3.499e+04\n",
       "Df Residuals:                    1993   BIC:                         3.500e+04\n",
       "Df Model:                           1                                         \n",
       "Covariance Type:            nonrobust                                         \n",
       "==============================================================================\n",
       "                 coef    std err          t      P>|t|      [0.025      0.975]\n",
       "------------------------------------------------------------------------------\n",
       "intercept   -297.2147     42.037     -7.070      0.000    -379.655    -214.774\n",
       "likes          0.3310      0.003    112.011      0.000       0.325       0.337\n",
       "==============================================================================\n",
       "Omnibus:                     1813.864   Durbin-Watson:                   1.276\n",
       "Prob(Omnibus):                  0.000   Jarque-Bera (JB):           250237.239\n",
       "Skew:                           3.739   Prob(JB):                         0.00\n",
       "Kurtosis:                      57.355   Cond. No.                     1.72e+04\n",
       "==============================================================================\n",
       "\n",
       "Notes:\n",
       "[1] Standard Errors assume that the covariance matrix of the errors is correctly specified.\n",
       "[2] The condition number is large, 1.72e+04. This might indicate that there are\n",
       "strong multicollinearity or other numerical problems.\n",
       "\"\"\""
      ]
     },
     "execution_count": 119,
     "metadata": {},
     "output_type": "execute_result"
    }
   ],
   "source": [
    "df['intercept'] = 1\n",
    "lm = sm.OLS(df['retweets'], df[['intercept', 'likes']])\n",
    "result = lm.fit()\n",
    "result.summary()"
   ]
  },
  {
   "cell_type": "markdown",
   "metadata": {},
   "source": [
    "#### Interpretation:\n",
    "- If a tweet has **no likes**, it will 'likely' have **-297 retweets**, if that was somehow possible.\n",
    "- From the **correlation coefficient** we can expect that for every **100 likes**, a tweet gathers **33 retweets**.\n",
    "- **p-value of 0.00** suggests that **likes are statistically significant in relation to retweets**.\n",
    "- **R-squared value of 0.863** suggests that **86.3% of the variability in retweets can be explained by likes**.\n",
    "\n",
    "All this said, above points have **verified that likes and retweets are strongly correlated** and therefore **cannot be used along one another in multiple linear regression model** (avoiding multicollinearity).  \n",
    "#### Below we will fit another model to see how likes depend on assigned dog rating."
   ]
  },
  {
   "cell_type": "code",
   "execution_count": 120,
   "metadata": {},
   "outputs": [
    {
     "data": {
      "text/html": [
       "<table class=\"simpletable\">\n",
       "<caption>OLS Regression Results</caption>\n",
       "<tr>\n",
       "  <th>Dep. Variable:</th>          <td>likes</td>      <th>  R-squared:         </th> <td>   0.145</td> \n",
       "</tr>\n",
       "<tr>\n",
       "  <th>Model:</th>                   <td>OLS</td>       <th>  Adj. R-squared:    </th> <td>   0.145</td> \n",
       "</tr>\n",
       "<tr>\n",
       "  <th>Method:</th>             <td>Least Squares</td>  <th>  F-statistic:       </th> <td>   338.4</td> \n",
       "</tr>\n",
       "<tr>\n",
       "  <th>Date:</th>             <td>Tue, 30 Mar 2021</td> <th>  Prob (F-statistic):</th> <td>6.17e-70</td> \n",
       "</tr>\n",
       "<tr>\n",
       "  <th>Time:</th>                 <td>14:41:49</td>     <th>  Log-Likelihood:    </th> <td> -21375.</td> \n",
       "</tr>\n",
       "<tr>\n",
       "  <th>No. Observations:</th>      <td>  1995</td>      <th>  AIC:               </th> <td>4.275e+04</td>\n",
       "</tr>\n",
       "<tr>\n",
       "  <th>Df Residuals:</th>          <td>  1993</td>      <th>  BIC:               </th> <td>4.277e+04</td>\n",
       "</tr>\n",
       "<tr>\n",
       "  <th>Df Model:</th>              <td>     1</td>      <th>                     </th>     <td> </td>    \n",
       "</tr>\n",
       "<tr>\n",
       "  <th>Covariance Type:</th>      <td>nonrobust</td>    <th>                     </th>     <td> </td>    \n",
       "</tr>\n",
       "</table>\n",
       "<table class=\"simpletable\">\n",
       "<tr>\n",
       "        <td></td>           <th>coef</th>     <th>std err</th>      <th>t</th>      <th>P>|t|</th>  <th>[0.025</th>    <th>0.975]</th>  \n",
       "</tr>\n",
       "<tr>\n",
       "  <th>intercept</th>     <td>-1.374e+04</td> <td> 1205.382</td> <td>  -11.398</td> <td> 0.000</td> <td>-1.61e+04</td> <td>-1.14e+04</td>\n",
       "</tr>\n",
       "<tr>\n",
       "  <th>rating_normal</th> <td> 2.057e+04</td> <td> 1118.310</td> <td>   18.397</td> <td> 0.000</td> <td> 1.84e+04</td> <td> 2.28e+04</td>\n",
       "</tr>\n",
       "</table>\n",
       "<table class=\"simpletable\">\n",
       "<tr>\n",
       "  <th>Omnibus:</th>       <td>1962.226</td> <th>  Durbin-Watson:     </th>  <td>   1.616</td> \n",
       "</tr>\n",
       "<tr>\n",
       "  <th>Prob(Omnibus):</th>  <td> 0.000</td>  <th>  Jarque-Bera (JB):  </th> <td>117626.474</td>\n",
       "</tr>\n",
       "<tr>\n",
       "  <th>Skew:</th>           <td> 4.649</td>  <th>  Prob(JB):          </th>  <td>    0.00</td> \n",
       "</tr>\n",
       "<tr>\n",
       "  <th>Kurtosis:</th>       <td>39.450</td>  <th>  Cond. No.          </th>  <td>    9.81</td> \n",
       "</tr>\n",
       "</table><br/><br/>Notes:<br/>[1] Standard Errors assume that the covariance matrix of the errors is correctly specified."
      ],
      "text/plain": [
       "<class 'statsmodels.iolib.summary.Summary'>\n",
       "\"\"\"\n",
       "                            OLS Regression Results                            \n",
       "==============================================================================\n",
       "Dep. Variable:                  likes   R-squared:                       0.145\n",
       "Model:                            OLS   Adj. R-squared:                  0.145\n",
       "Method:                 Least Squares   F-statistic:                     338.4\n",
       "Date:                Tue, 30 Mar 2021   Prob (F-statistic):           6.17e-70\n",
       "Time:                        14:41:49   Log-Likelihood:                -21375.\n",
       "No. Observations:                1995   AIC:                         4.275e+04\n",
       "Df Residuals:                    1993   BIC:                         4.277e+04\n",
       "Df Model:                           1                                         \n",
       "Covariance Type:            nonrobust                                         \n",
       "=================================================================================\n",
       "                    coef    std err          t      P>|t|      [0.025      0.975]\n",
       "---------------------------------------------------------------------------------\n",
       "intercept     -1.374e+04   1205.382    -11.398      0.000   -1.61e+04   -1.14e+04\n",
       "rating_normal  2.057e+04   1118.310     18.397      0.000    1.84e+04    2.28e+04\n",
       "==============================================================================\n",
       "Omnibus:                     1962.226   Durbin-Watson:                   1.616\n",
       "Prob(Omnibus):                  0.000   Jarque-Bera (JB):           117626.474\n",
       "Skew:                           4.649   Prob(JB):                         0.00\n",
       "Kurtosis:                      39.450   Cond. No.                         9.81\n",
       "==============================================================================\n",
       "\n",
       "Notes:\n",
       "[1] Standard Errors assume that the covariance matrix of the errors is correctly specified.\n",
       "\"\"\""
      ]
     },
     "execution_count": 120,
     "metadata": {},
     "output_type": "execute_result"
    }
   ],
   "source": [
    "lm2 = sm.OLS(df['likes'], df[['intercept', 'rating_normal']])\n",
    "result2 = lm2.fit()\n",
    "result2.summary()"
   ]
  },
  {
   "cell_type": "markdown",
   "metadata": {},
   "source": [
    "#### Interpretation:\n",
    "- If a tweeted dog has **a rating of 0**, it will 'likely' have **-13740 likes**, if that was somehow possible.\n",
    "- From the **correlation coefficient** we can expect that for every **0.1 increase in rating_normal**, a tweet gathers **2058 likes**.\n",
    "- **p-value of 0.00** suggests that **likes are statistically significant in relation to dog ratings**.\n",
    "- However, **R-squared value of 0.145** suggests that only **14.5% of the variability in likes can be explained by dog ratings**.  \n",
    "\n",
    "#### Dog names and stages popularity"
   ]
  },
  {
   "cell_type": "code",
   "execution_count": 123,
   "metadata": {},
   "outputs": [
    {
     "data": {
      "image/png": "[encoded data removed]",
      "text/plain": [
       "<Figure size 432x288 with 1 Axes>"
      ]
     },
     "metadata": {},
     "output_type": "display_data"
    }
   ],
   "source": [
    "# Plot a pie chart\n",
    "dft = df[~df['stage'].isna()]\n",
    "lab = dft.stage.value_counts()\n",
    "plt.pie(dft.stage.value_counts(), labels=(lab.index), radius=1.5)\n",
    "plt.title('Proportion of dog stages, where provided', y=1.2);"
   ]
  },
  {
   "cell_type": "code",
   "execution_count": 127,
   "metadata": {},
   "outputs": [],
   "source": [
    "# Create a list of tuples for bar chart. Names with 4+ occurences in the sample.\n",
    "name_list = list()\n",
    "new_tup = tuple()\n",
    "i = 0\n",
    "for count in df.name.value_counts() :\n",
    "    if count > 3 :\n",
    "        new_tup = (count, df.name.value_counts().index[i])\n",
    "        name_list.append(new_tup)\n",
    "        i += 1\n",
    "    else : break"
   ]
  },
  {
   "cell_type": "code",
   "execution_count": 128,
   "metadata": {},
   "outputs": [
    {
     "data": {
      "image/png": "[encoded data removed]",
      "text/plain": [
       "<Figure size 432x288 with 1 Axes>"
      ]
     },
     "metadata": {
      "needs_background": "light"
     },
     "output_type": "display_data"
    }
   ],
   "source": [
    "# Plot separate bar for each dog name (top 10 names).\n",
    "i = 1\n",
    "ax = plt.subplot(111)\n",
    "for name in name_list[0:10] :\n",
    "    ax.bar(i, name[0])\n",
    "    i += 1\n",
    "    ax.autoscale(tight=True)\n",
    "    \n",
    "plt.xticks(range(1, 11), df.name.value_counts().index[0:10], rotation=\"vertical\")\n",
    "plt.xlabel(\"Dog name\")\n",
    "plt.ylabel(\"Occurences in sample\")\n",
    "plt.title(\"Top 10 dog names in sample\");"
   ]
  },
  {
   "cell_type": "markdown",
   "metadata": {},
   "source": [
    "### Conclusion\n",
    "- Dog **ratings distribution is left-skewed**, meaning most dogs get high ratings.\n",
    "- **Retweets are strongly related to likes** at R-squared of 0.863.\n",
    "- **Relation of likes to dog ratings is weak** at R-squared of 0.145.\n",
    "- Above relations are both statistically and practically **significant**.\n",
    "- Most popular dog names and stages are visible in above plots."
   ]
  },
  {
   "cell_type": "markdown",
   "metadata": {},
   "source": [
    "#### Export the notebook to pdf"
   ]
  },
  {
   "cell_type": "code",
   "execution_count": 132,
   "metadata": {},
   "outputs": [],
   "source": [
    "from subprocess import call\n",
    "call(['python', '-m', 'nbconvert', '--to', 'pdf', 'wrangle_act.ipynb']);"
   ]
  },
  {
   "cell_type": "markdown",
   "metadata": {},
   "source": [
    "# Remember to remove API keys!"
   ]
  }
 ],
 "metadata": {
  "kernelspec": {
   "display_name": "Python 3",
   "language": "python",
   "name": "python3"
  },
  "language_info": {
   "codemirror_mode": {
    "name": "ipython",
    "version": 3
   },
   "file_extension": ".py",
   "mimetype": "text/x-python",
   "name": "python",
   "nbconvert_exporter": "python",
   "pygments_lexer": "ipython3",
   "version": "3.8.5"
  }
 },
 "nbformat": 4,
 "nbformat_minor": 2
}
