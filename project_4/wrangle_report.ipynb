{
 "cells": [
  {
   "cell_type": "markdown",
   "id": "motivated-quarter",
   "metadata": {},
   "source": [
    "# Data Analyst Nanodegree\n",
    "# Project 4 - Wrangling and Analyze Data\n",
    "## Wrangling Report"
   ]
  },
  {
   "cell_type": "markdown",
   "id": "junior-contract",
   "metadata": {},
   "source": [
    "### Project\n",
    "The project is centered around **WeRateDogs** Twitter account.  \n",
    "Their sual tweets are dogs photos with humourous ratings of x/10, where x is often more than 10, eg. 13/10.  \n",
    "The account is popular and therefore has enough data to explore and attempt learning from."
   ]
  },
  {
   "cell_type": "markdown",
   "id": "demographic-screen",
   "metadata": {},
   "source": [
    "### Input\n",
    "Data used in this project came from a number of different sources:\n",
    "- First file was **downloaded manually** from link provided, as per instructions  \n",
    "`twitter-archive-enhanced.csv`\n",
    "- Second file was **downloaded programatically**  \n",
    "`image-predictions.tsv`\n",
    "- Third file was created with data downloaded directly from **Twitter API**  \n",
    "`tweet_json.txt`\n",
    "- Supporting file was created, listing tweets that couldn't be accessed (ie. were deleted)\n",
    "`tweets_not_found.txt`"
   ]
  },
  {
   "cell_type": "markdown",
   "id": "female-yacht",
   "metadata": {},
   "source": [
    "Data in the files can be **joined on** `tweet_id`, which is present in each of them and doesn't pose quality issues.  \n",
    "For the purpose of wrangling and later analysis, the files were read into pandas **data frames**."
   ]
  },
  {
   "cell_type": "markdown",
   "id": "labeled-capture",
   "metadata": {},
   "source": [
    "### Cleaning\n",
    "A few **tidiness** issues and a number of **quality** issues were found during the visual and programmatic **assessment**.  \n",
    "They were later dealt with in **cleaning** phase.  \n",
    "The work here can be **summarised** as below.\n",
    "\n",
    "#### Tidiness\n",
    "1. Dog **stages** were melted from four variable columns into one.\n",
    "2. Data from various sources was grouped into **separate sets** and eventually separate tables in SQLite database:  \n",
    "`tweets` for tweet data (excuding likes and retweets),  \n",
    "`dogs` for dog data (including tweet likes and retweets for ease of analysis),  \n",
    "`dog_stages` for mapping dog stage strings to integers,  \n",
    "`image_preds` for image predictions data.\n",
    "\n",
    "#### Quality\n",
    "1. Tweet data with no corresponding image prediction data was removed, as per project demand.\n",
    "2. Retweets duplicating original tweets in the dataset were removed.\n",
    "3. Duplicated image data was removed.\n",
    "4. Less than 0.5% of remaining records had missing likes and retweets.  \n",
    "For the purpose of analysis only they were filled with means.\n",
    "5. ID columns with float values were converted to integers.\n",
    "6. Timestamp columns were converted to datetime.\n",
    "7. Dog stage column was converted to category first, and later made into separate table mapping strings to integers.\n",
    "8. Dog names and stages were cleaned and additional data was extracted from tweets' text field.\n",
    "9. Rating numerators and denominators were reviewed and cleaned.\n",
    "10. Additional column for normalized rating to support analysis was created.\n",
    "11. Column containing irrelevant, repeated url removed.\n",
    "12. Made all string columns into lower case.  \n",
    "\n",
    "As a result of quality fixing, in the final data set used for analysis only 2 columns had null values: `stage` and `name`.  \n",
    "In most cases the reason is that they are not to be found in those tweets' text at all."
   ]
  },
  {
   "cell_type": "markdown",
   "id": "supposed-worker",
   "metadata": {},
   "source": [
    "### Output\n",
    "In the end of wrangling, the resulting data was written to **csv files**:\n",
    "- `twitter_archive_master.csv` - Tweet data\n",
    "- `dogs_master.csv` - Dawgz data\n",
    "- `image_pred_master.csv` - Image predictions data  \n",
    "  \n",
    "as well as into an **SQLite database**, in tables listed in Cleaning / Tidiness section above."
   ]
  }
 ],
 "metadata": {
  "kernelspec": {
   "display_name": "Python 3",
   "language": "python",
   "name": "python3"
  },
  "language_info": {
   "codemirror_mode": {
    "name": "ipython",
    "version": 3
   },
   "file_extension": ".py",
   "mimetype": "text/x-python",
   "name": "python",
   "nbconvert_exporter": "python",
   "pygments_lexer": "ipython3",
   "version": "3.8.5"
  }
 },
 "nbformat": 4,
 "nbformat_minor": 5
}
