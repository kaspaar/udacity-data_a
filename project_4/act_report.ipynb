{
 "cells": [
  {
   "cell_type": "markdown",
   "id": "motivated-quarter",
   "metadata": {},
   "source": [
    "# Data Analyst Nanodegree\n",
    "# Project 4 - Wrangling and Analyze Data\n",
    "## Findings on WeRateDogs Twitter archive"
   ]
  },
  {
   "cell_type": "markdown",
   "id": "junior-contract",
   "metadata": {},
   "source": [
    "### Project outline<img src='https://pbs.twimg.com/profile_images/1351720980972933122/I3MnYUdm_400x400.jpg' width=150 style=\"float:right\">\n",
    "  \n",
    "The project is centered around [**WeRateDogs**](https://twitter.com/dog_rates) Twitter account.  \n",
    "Their usual tweets are dogs photos with **humourous ratings** of x/10, where x is often more than 10, such as **13/10** .  \n",
    "The account is popular and therefore has enough data to explore and attempt learning from.\n",
    "\n",
    "### Input\n",
    "For analysis and visualization, **clean, wrangled** data was used.\n",
    "The data included:\n",
    "- **Dog ratings** issued by WeRateDogs\n",
    "- **Likes** and **retweets**\n",
    "- **Dog names**\n",
    "- **Unique dog stages**: doggo, floofer, pupper, puppo"
   ]
  },
  {
   "cell_type": "markdown",
   "id": "demographic-screen",
   "metadata": {},
   "source": [
    "### Findings\n",
    "#### Numeric data summary\n",
    "![matrix](img/numeric_1.png)\n",
    "  \n",
    "Normalized dog rating (`rating_normal`) is **centered around 1.05-1.10** with mean and median relatively near to one another.  \n",
    "This also confirms that in more cases than not the rating **exceeds 10/10** (ie. 1.00).  \n",
    "**Likes and retweets** have their **means much higher than medians** which suggests their distributions are heavily right-skewed."
   ]
  },
  {
   "cell_type": "markdown",
   "id": "gothic-links",
   "metadata": {},
   "source": [
    "#### Visual outlook on numeric data  \n",
    "![matrix](img/plot_matrix.png)\n",
    "  \n",
    "Plots in the matrix suggest that **likes** and **retweets** are correlated."
   ]
  },
  {
   "cell_type": "markdown",
   "id": "interested-eleven",
   "metadata": {},
   "source": [
    "#### Dog ratings distribution\n",
    "![ratings](img/plot_ratings.png)\n",
    "  \n",
    "The ratings distribution is left-skewed, meaning **most dogs get high ratings** from WeRateDogs curators."
   ]
  },
  {
   "cell_type": "markdown",
   "id": "happy-winner",
   "metadata": {},
   "source": [
    "#### Likes and retweets relation\n",
    "![ratings](img/linear_1.png)\n",
    "  \n",
    "**Retweets are clearly correlated to likes** with R-squared of 86.3%."
   ]
  },
  {
   "cell_type": "markdown",
   "id": "separate-hearts",
   "metadata": {},
   "source": [
    "#### Dog ratings and likes relation\n",
    "\n",
    "![ratings](img/linear_2.png)\n",
    "  \n",
    "The **relation between dog ratings and likes is weak** with R-squared of 14.5%.\n",
    "That is, how many likes a tweet/dog gets is dependent on the WeRateDogs-issued dog rating in 14.5%."
   ]
  },
  {
   "cell_type": "markdown",
   "id": "featured-robin",
   "metadata": {},
   "source": [
    "#### Most popular dog stages\n",
    "![matrix](img/plot_stages.png)\n",
    "  \n",
    "Roughly two-thirds of dog 'stages' assigned by WeRateDogs curators are **puppers** !"
   ]
  },
  {
   "cell_type": "markdown",
   "id": "domestic-algeria",
   "metadata": {},
   "source": [
    "#### Dog ratings distribution\n",
    "![ratings](img/plot_names.png)\n",
    "  \n",
    "Self explanatory. My neighbors' got a doggo named Winston, if you doubt the figures.  \n",
    "Still, the winner is... **Charlie** . No wonder - seems as good a name for a girl-doggo as well as a boy-doggo."
   ]
  },
  {
   "cell_type": "markdown",
   "id": "labeled-capture",
   "metadata": {},
   "source": [
    "### Summary\n",
    "- Dog **ratings distribution is left-skewed**, meaning most dogs get high ratings.\n",
    "- **Retweets are strongly related to likes** at R-squared of 0.863.\n",
    "- **Relation of likes to dog ratings is weak** at R-squared of 0.145.\n",
    "- Above relations are both statistically and practically **significant**.\n",
    "- Most popular dog names and stages are visible in above plots.\n",
    "- WeRateDogs' tweets typically get **33 retweets per 100 likes**.\n",
    "- We can expect that for every **0.1 point increase in normalized dog rating, a tweet gathers 2058 likes**.\n",
    "- **The WeRateDogs Twitter account is hilarious.**"
   ]
  }
 ],
 "metadata": {
  "kernelspec": {
   "display_name": "Python 3",
   "language": "python",
   "name": "python3"
  },
  "language_info": {
   "codemirror_mode": {
    "name": "ipython",
    "version": 3
   },
   "file_extension": ".py",
   "mimetype": "text/x-python",
   "name": "python",
   "nbconvert_exporter": "python",
   "pygments_lexer": "ipython3",
   "version": "3.8.5"
  }
 },
 "nbformat": 4,
 "nbformat_minor": 5
}
