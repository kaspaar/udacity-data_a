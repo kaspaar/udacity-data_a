{
 "cells": [
  {
   "cell_type": "markdown",
   "metadata": {},
   "source": [
    "# Flights data exploration\n",
    "# Wrangling\n",
    "## by Kacper Fiszer\n",
    "I am going to look into a dataset encompassing United States flight data in the years 1987-2008.  \n",
    "The data includes detailed flight information, including delay times and reasons, and comes in the form of csv files.  \n",
    "First, I will explore the files, see if all the data is relevant and pose further exploration questions.  \n",
    "  \n",
    "Column descriptions are available here:  \n",
    "[http://stat-computing.org/dataexpo/2009/the-data.html](http://stat-computing.org/dataexpo/2009/the-data.html)"
   ]
  },
  {
   "cell_type": "code",
   "execution_count": 1,
   "metadata": {},
   "outputs": [],
   "source": [
    "# import needed packages\n",
    "import numpy as np\n",
    "import pandas as pd"
   ]
  },
  {
   "cell_type": "markdown",
   "metadata": {},
   "source": [
    "## Gather\n",
    "The data was supposed to be available under the above link, but wasn't.  \n",
    "Downloaded the same file from: [https://dataverse.harvard.edu/dataset.xhtml?persistentId=doi:10.7910/DVN/HG7NV7](https://dataverse.harvard.edu/dataset.xhtml?persistentId=doi:10.7910/DVN/HG7NV7)\n",
    "\n",
    "Extracted files are in the csv format, year by year. I put them all in `data` directory."
   ]
  },
  {
   "cell_type": "markdown",
   "metadata": {},
   "source": [
    "## Assess\n",
    "### Part I - multiple files at a glance"
   ]
  },
  {
   "cell_type": "markdown",
   "metadata": {},
   "source": [
    "**Assessing basic file integrity**  \n",
    "Files with 1987 and 2008 data seem much smaller than all other years in range: 100-200 MB compared to usual 400-600 MB.  \n",
    "This most probably signifies incomplete data."
   ]
  },
  {
   "cell_type": "code",
   "execution_count": 2,
   "metadata": {},
   "outputs": [
    {
     "data": {
      "text/plain": [
       "(1311826, 29)"
      ]
     },
     "execution_count": 2,
     "metadata": {},
     "output_type": "execute_result"
    }
   ],
   "source": [
    "df_1987 = pd.read_csv('./data/1987.csv')\n",
    "df_1987.shape"
   ]
  },
  {
   "cell_type": "code",
   "execution_count": 3,
   "metadata": {},
   "outputs": [
    {
     "data": {
      "text/plain": [
       "(7453215, 29)"
      ]
     },
     "execution_count": 3,
     "metadata": {},
     "output_type": "execute_result"
    }
   ],
   "source": [
    "df_2007 = pd.read_csv('./data/2007.csv')\n",
    "df_2007.shape"
   ]
  },
  {
   "cell_type": "code",
   "execution_count": 4,
   "metadata": {},
   "outputs": [
    {
     "data": {
      "text/plain": [
       "(2389217, 29)"
      ]
     },
     "execution_count": 4,
     "metadata": {},
     "output_type": "execute_result"
    }
   ],
   "source": [
    "df_2008 = pd.read_csv('./data/2008.csv')\n",
    "df_2008.shape"
   ]
  },
  {
   "cell_type": "markdown",
   "metadata": {},
   "source": [
    "Row counts show that there is indeed much fewer records for 1987 and 2008.  \n",
    "Just to confirm, I'll check if this has to do with data being cut off at specific points."
   ]
  },
  {
   "cell_type": "code",
   "execution_count": 5,
   "metadata": {},
   "outputs": [
    {
     "data": {
      "text/plain": [
       "10    448620\n",
       "11    422803\n",
       "12    440403\n",
       "Name: Month, dtype: int64"
      ]
     },
     "execution_count": 5,
     "metadata": {},
     "output_type": "execute_result"
    }
   ],
   "source": [
    "df_1987.Month.value_counts().sort_index()"
   ]
  },
  {
   "cell_type": "code",
   "execution_count": 6,
   "metadata": {
    "scrolled": false
   },
   "outputs": [
    {
     "data": {
      "text/plain": [
       "1     621559\n",
       "2     565604\n",
       "3     639209\n",
       "4     614648\n",
       "5     631609\n",
       "6     629280\n",
       "7     648560\n",
       "8     653279\n",
       "9     600187\n",
       "10    629992\n",
       "11    605149\n",
       "12    614139\n",
       "Name: Month, dtype: int64"
      ]
     },
     "execution_count": 6,
     "metadata": {},
     "output_type": "execute_result"
    }
   ],
   "source": [
    "df_2007.Month.value_counts().sort_index()"
   ]
  },
  {
   "cell_type": "code",
   "execution_count": 7,
   "metadata": {
    "scrolled": true
   },
   "outputs": [
    {
     "data": {
      "text/plain": [
       "1    605765\n",
       "2    569236\n",
       "3    616090\n",
       "4    598126\n",
       "Name: Month, dtype: int64"
      ]
     },
     "execution_count": 7,
     "metadata": {},
     "output_type": "execute_result"
    }
   ],
   "source": [
    "df_2008.Month.value_counts().sort_index()"
   ]
  },
  {
   "cell_type": "markdown",
   "metadata": {},
   "source": [
    "It is confirmed that 1987 and 2008 data is incomplete - only contains records for part of a year.  \n",
    "**For the sake of this project I will pick a 3-year period of 2005-2007**"
   ]
  },
  {
   "cell_type": "code",
   "execution_count": 8,
   "metadata": {
    "scrolled": true
   },
   "outputs": [],
   "source": [
    "# read in csv files by year to separate variables\n",
    "for y in range(2005, 2007+1) :\n",
    "    globals()['df_%s' %y] = pd.read_csv('./data/'+str(y)+'.csv')"
   ]
  },
  {
   "cell_type": "code",
   "execution_count": 9,
   "metadata": {},
   "outputs": [
    {
     "data": {
      "text/plain": [
       "1.0"
      ]
     },
     "execution_count": 9,
     "metadata": {},
     "output_type": "execute_result"
    }
   ],
   "source": [
    "# test if all csv's have the same column names (output should be 1)\n",
    "test = list()\n",
    "for y in range(2005, 2007+1) :\n",
    "    test.append(globals().get('df_%s' %y).columns == df_2005.columns)\n",
    "np.array(test).mean()"
   ]
  },
  {
   "cell_type": "code",
   "execution_count": 10,
   "metadata": {},
   "outputs": [
    {
     "data": {
      "text/plain": [
       "0.9770114942528736"
      ]
     },
     "execution_count": 10,
     "metadata": {},
     "output_type": "execute_result"
    }
   ],
   "source": [
    "# test if columns in each df have the same data type (output should be 1)\n",
    "test = list()\n",
    "for y in range(2005, 2007+1) :\n",
    "    test.append(globals().get('df_%s' %y).dtypes == df_2005.dtypes)\n",
    "np.array(test).mean()"
   ]
  },
  {
   "cell_type": "markdown",
   "metadata": {},
   "source": [
    "**Some columns have different data types across yearly csv's**  \n",
    "Let's find the differing columns."
   ]
  },
  {
   "cell_type": "code",
   "execution_count": 11,
   "metadata": {
    "scrolled": true
   },
   "outputs": [
    {
     "data": {
      "text/plain": [
       "['2006 CRSElapsedTime float64', '2007 CRSElapsedTime float64']"
      ]
     },
     "execution_count": 11,
     "metadata": {},
     "output_type": "execute_result"
    }
   ],
   "source": [
    "# Loop through column dtypes for each year and print those different to 2005\n",
    "diff_list = list()\n",
    "\n",
    "for y in range(2005, 2007+1) :\n",
    "    for col in range(0, 29) :\n",
    "        if globals().get('df_%s' %y).dtypes[col] != df_2005.dtypes[col] :\n",
    "            diff_list.append(str(y) + ' ' + str(globals().get('df_%s' %y).columns[col])\n",
    "                             + ' ' + str(globals().get('df_%s' %y).dtypes[col]))\n",
    "\n",
    "diff_list"
   ]
  },
  {
   "cell_type": "markdown",
   "metadata": {},
   "source": [
    "These above columns should be integers rather than floats, as they refer to 'scheduled elapsed time in minutes'.  \n",
    "Let's look at the summary for one of the sets."
   ]
  },
  {
   "cell_type": "code",
   "execution_count": 12,
   "metadata": {
    "scrolled": false
   },
   "outputs": [
    {
     "name": "stdout",
     "output_type": "stream",
     "text": [
      "<class 'pandas.core.frame.DataFrame'>\n",
      "RangeIndex: 7141922 entries, 0 to 7141921\n",
      "Data columns (total 29 columns):\n",
      " #   Column             Non-Null Count    Dtype  \n",
      "---  ------             --------------    -----  \n",
      " 0   Year               7141922 non-null  int64  \n",
      " 1   Month              7141922 non-null  int64  \n",
      " 2   DayofMonth         7141922 non-null  int64  \n",
      " 3   DayOfWeek          7141922 non-null  int64  \n",
      " 4   DepTime            7019988 non-null  float64\n",
      " 5   CRSDepTime         7141922 non-null  int64  \n",
      " 6   ArrTime            7003802 non-null  float64\n",
      " 7   CRSArrTime         7141922 non-null  int64  \n",
      " 8   UniqueCarrier      7141922 non-null  object \n",
      " 9   FlightNum          7141922 non-null  int64  \n",
      " 10  TailNum            7141922 non-null  object \n",
      " 11  ActualElapsedTime  7003802 non-null  float64\n",
      " 12  CRSElapsedTime     7141918 non-null  float64\n",
      " 13  AirTime            7003802 non-null  float64\n",
      " 14  ArrDelay           7003802 non-null  float64\n",
      " 15  DepDelay           7019988 non-null  float64\n",
      " 16  Origin             7141922 non-null  object \n",
      " 17  Dest               7141922 non-null  object \n",
      " 18  Distance           7141922 non-null  int64  \n",
      " 19  TaxiIn             7141922 non-null  int64  \n",
      " 20  TaxiOut            7141922 non-null  int64  \n",
      " 21  Cancelled          7141922 non-null  int64  \n",
      " 22  CancellationCode   121934 non-null   object \n",
      " 23  Diverted           7141922 non-null  int64  \n",
      " 24  CarrierDelay       7141922 non-null  int64  \n",
      " 25  WeatherDelay       7141922 non-null  int64  \n",
      " 26  NASDelay           7141922 non-null  int64  \n",
      " 27  SecurityDelay      7141922 non-null  int64  \n",
      " 28  LateAircraftDelay  7141922 non-null  int64  \n",
      "dtypes: float64(7), int64(17), object(5)\n",
      "memory usage: 1.5+ GB\n"
     ]
    }
   ],
   "source": [
    "df_2006.info(show_counts=True)"
   ]
  },
  {
   "cell_type": "markdown",
   "metadata": {},
   "source": [
    "Most of the columns had been treated as integer, therefore the most probable case of some columns being treated as float is the absence of value whatsoever. Subsequently these cells had NaN assigned and the whole columns containing NaN's were treated as float.  \n",
    "  \n",
    "For now I will merge the dataframes into one and proceed with wrangling."
   ]
  },
  {
   "cell_type": "code",
   "execution_count": 13,
   "metadata": {},
   "outputs": [],
   "source": [
    "df = pd.concat([df_2005, df_2006, df_2007], ignore_index=True)"
   ]
  },
  {
   "cell_type": "code",
   "execution_count": 14,
   "metadata": {},
   "outputs": [
    {
     "data": {
      "text/plain": [
       "(21735733, 29)"
      ]
     },
     "execution_count": 14,
     "metadata": {},
     "output_type": "execute_result"
    }
   ],
   "source": [
    "df.shape"
   ]
  },
  {
   "cell_type": "markdown",
   "metadata": {},
   "source": [
    "Looks good. Now onto more wrangling."
   ]
  },
  {
   "cell_type": "markdown",
   "metadata": {},
   "source": [
    "## Assess\n",
    "### Part II - single data frame"
   ]
  },
  {
   "cell_type": "code",
   "execution_count": 15,
   "metadata": {
    "scrolled": false
   },
   "outputs": [
    {
     "name": "stdout",
     "output_type": "stream",
     "text": [
      "<class 'pandas.core.frame.DataFrame'>\n",
      "RangeIndex: 21735733 entries, 0 to 21735732\n",
      "Data columns (total 29 columns):\n",
      " #   Column             Non-Null Count     Dtype  \n",
      "---  ------             --------------     -----  \n",
      " 0   Year               21735733 non-null  int64  \n",
      " 1   Month              21735733 non-null  int64  \n",
      " 2   DayofMonth         21735733 non-null  int64  \n",
      " 3   DayOfWeek          21735733 non-null  int64  \n",
      " 4   DepTime            21319321 non-null  float64\n",
      " 5   CRSDepTime         21735733 non-null  int64  \n",
      " 6   ArrTime            21271928 non-null  float64\n",
      " 7   CRSArrTime         21735733 non-null  int64  \n",
      " 8   UniqueCarrier      21735733 non-null  object \n",
      " 9   FlightNum          21735733 non-null  int64  \n",
      " 10  TailNum            21735711 non-null  object \n",
      " 11  ActualElapsedTime  21271928 non-null  float64\n",
      " 12  CRSElapsedTime     21734735 non-null  float64\n",
      " 13  AirTime            21271928 non-null  float64\n",
      " 14  ArrDelay           21271928 non-null  float64\n",
      " 15  DepDelay           21319321 non-null  float64\n",
      " 16  Origin             21735733 non-null  object \n",
      " 17  Dest               21735733 non-null  object \n",
      " 18  Distance           21735733 non-null  int64  \n",
      " 19  TaxiIn             21735733 non-null  int64  \n",
      " 20  TaxiOut            21735733 non-null  int64  \n",
      " 21  Cancelled          21735733 non-null  int64  \n",
      " 22  CancellationCode   416414 non-null    object \n",
      " 23  Diverted           21735733 non-null  int64  \n",
      " 24  CarrierDelay       21735733 non-null  int64  \n",
      " 25  WeatherDelay       21735733 non-null  int64  \n",
      " 26  NASDelay           21735733 non-null  int64  \n",
      " 27  SecurityDelay      21735733 non-null  int64  \n",
      " 28  LateAircraftDelay  21735733 non-null  int64  \n",
      "dtypes: float64(7), int64(17), object(5)\n",
      "memory usage: 4.7+ GB\n"
     ]
    }
   ],
   "source": [
    "df.info(show_counts=True)"
   ]
  },
  {
   "cell_type": "code",
   "execution_count": 16,
   "metadata": {
    "scrolled": true
   },
   "outputs": [
    {
     "data": {
      "text/plain": [
       "23"
      ]
     },
     "execution_count": 16,
     "metadata": {},
     "output_type": "execute_result"
    }
   ],
   "source": [
    "# How many unique carriers are there?\n",
    "len(df.UniqueCarrier.unique())"
   ]
  },
  {
   "cell_type": "code",
   "execution_count": 17,
   "metadata": {},
   "outputs": [
    {
     "data": {
      "text/plain": [
       "416412"
      ]
     },
     "execution_count": 17,
     "metadata": {},
     "output_type": "execute_result"
    }
   ],
   "source": [
    "# How many departure and arrival times are missing\n",
    "df.query('DepTime != DepTime').shape[0]"
   ]
  },
  {
   "cell_type": "code",
   "execution_count": 18,
   "metadata": {},
   "outputs": [
    {
     "data": {
      "text/plain": [
       "463805"
      ]
     },
     "execution_count": 18,
     "metadata": {},
     "output_type": "execute_result"
    }
   ],
   "source": [
    "df.query('ArrTime != ArrTime').shape[0]"
   ]
  },
  {
   "cell_type": "code",
   "execution_count": 19,
   "metadata": {},
   "outputs": [
    {
     "data": {
      "text/plain": [
       "463805"
      ]
     },
     "execution_count": 19,
     "metadata": {},
     "output_type": "execute_result"
    }
   ],
   "source": [
    "# Check on records missing departure or arrival time and if there is other indication of delays within these records\n",
    "df.query('((DepTime != DepTime) | (ArrTime != ArrTime)) & (CarrierDelay + WeatherDelay + NASDelay + SecurityDelay + LateAircraftDelay == 0)').shape[0]"
   ]
  },
  {
   "cell_type": "code",
   "execution_count": 20,
   "metadata": {},
   "outputs": [
    {
     "data": {
      "text/plain": [
       "416412"
      ]
     },
     "execution_count": 20,
     "metadata": {},
     "output_type": "execute_result"
    }
   ],
   "source": [
    "# Check if flights missing dep or arr time were cancelled\n",
    "df.query('((DepTime != DepTime) | (ArrTime != ArrTime)) & (CancellationCode == CancellationCode)').shape[0]"
   ]
  },
  {
   "cell_type": "code",
   "execution_count": 21,
   "metadata": {},
   "outputs": [
    {
     "data": {
      "text/plain": [
       "47393"
      ]
     },
     "execution_count": 21,
     "metadata": {},
     "output_type": "execute_result"
    }
   ],
   "source": [
    "# How many flights missing arr time were not cancelled\n",
    "df.query('(ArrTime != ArrTime) & (CancellationCode != CancellationCode)').shape[0]"
   ]
  },
  {
   "cell_type": "code",
   "execution_count": 22,
   "metadata": {},
   "outputs": [
    {
     "data": {
      "text/plain": [
       "47393"
      ]
     },
     "execution_count": 22,
     "metadata": {},
     "output_type": "execute_result"
    }
   ],
   "source": [
    "# Check for diverted flights\n",
    "df.query('Diverted == 1').shape[0]"
   ]
  },
  {
   "cell_type": "code",
   "execution_count": 23,
   "metadata": {},
   "outputs": [
    {
     "data": {
      "text/plain": [
       "0"
      ]
     },
     "execution_count": 23,
     "metadata": {},
     "output_type": "execute_result"
    }
   ],
   "source": [
    "# Just to be sure check if any flights with specified arrival time were diverted (should be 0)\n",
    "df.query('Diverted == 1 & ArrTime == ArrTime').shape[0]"
   ]
  },
  {
   "cell_type": "code",
   "execution_count": 24,
   "metadata": {},
   "outputs": [
    {
     "data": {
      "text/plain": [
       "416414"
      ]
     },
     "execution_count": 24,
     "metadata": {},
     "output_type": "execute_result"
    }
   ],
   "source": [
    "# Check if amount of cancellations corresponds with cancellation code count\n",
    "df[df['CancellationCode'].notna()].shape[0]"
   ]
  },
  {
   "cell_type": "code",
   "execution_count": 25,
   "metadata": {},
   "outputs": [
    {
     "data": {
      "text/plain": [
       "416412"
      ]
     },
     "execution_count": 25,
     "metadata": {},
     "output_type": "execute_result"
    }
   ],
   "source": [
    "df[df['CancellationCode'].notna()]['Cancelled'].sum()"
   ]
  },
  {
   "cell_type": "code",
   "execution_count": 26,
   "metadata": {
    "scrolled": true
   },
   "outputs": [
    {
     "data": {
      "text/plain": [
       "0"
      ]
     },
     "execution_count": 26,
     "metadata": {},
     "output_type": "execute_result"
    }
   ],
   "source": [
    "df[df['CancellationCode'].isna()]['Cancelled'].sum()"
   ]
  },
  {
   "cell_type": "code",
   "execution_count": 27,
   "metadata": {},
   "outputs": [
    {
     "data": {
      "text/plain": [
       "4829121"
      ]
     },
     "execution_count": 27,
     "metadata": {},
     "output_type": "execute_result"
    }
   ],
   "source": [
    "# Check how many records with arrival delay >= 0 have a different sum of categorized delays\n",
    "delay_test = df.query('(ArrDelay >= 0) & (ArrDelay != CarrierDelay + WeatherDelay + NASDelay + SecurityDelay + LateAircraftDelay)')\n",
    "delay_test.shape[0]"
   ]
  },
  {
   "cell_type": "code",
   "execution_count": 28,
   "metadata": {
    "scrolled": true
   },
   "outputs": [
    {
     "data": {
      "text/html": [
       "<div>\n",
       "<style scoped>\n",
       "    .dataframe tbody tr th:only-of-type {\n",
       "        vertical-align: middle;\n",
       "    }\n",
       "\n",
       "    .dataframe tbody tr th {\n",
       "        vertical-align: top;\n",
       "    }\n",
       "\n",
       "    .dataframe thead th {\n",
       "        text-align: right;\n",
       "    }\n",
       "</style>\n",
       "<table border=\"1\" class=\"dataframe\">\n",
       "  <thead>\n",
       "    <tr style=\"text-align: right;\">\n",
       "      <th></th>\n",
       "      <th>ArrDelay</th>\n",
       "      <th>DepDelay</th>\n",
       "      <th>CarrierDelay</th>\n",
       "      <th>WeatherDelay</th>\n",
       "      <th>NASDelay</th>\n",
       "      <th>SecurityDelay</th>\n",
       "      <th>LateAircraftDelay</th>\n",
       "    </tr>\n",
       "  </thead>\n",
       "  <tbody>\n",
       "    <tr>\n",
       "      <th>4</th>\n",
       "      <td>3.0</td>\n",
       "      <td>34.0</td>\n",
       "      <td>0</td>\n",
       "      <td>0</td>\n",
       "      <td>0</td>\n",
       "      <td>0</td>\n",
       "      <td>0</td>\n",
       "    </tr>\n",
       "    <tr>\n",
       "      <th>9</th>\n",
       "      <td>12.0</td>\n",
       "      <td>-1.0</td>\n",
       "      <td>0</td>\n",
       "      <td>0</td>\n",
       "      <td>0</td>\n",
       "      <td>0</td>\n",
       "      <td>0</td>\n",
       "    </tr>\n",
       "    <tr>\n",
       "      <th>15</th>\n",
       "      <td>5.0</td>\n",
       "      <td>19.0</td>\n",
       "      <td>0</td>\n",
       "      <td>0</td>\n",
       "      <td>0</td>\n",
       "      <td>0</td>\n",
       "      <td>0</td>\n",
       "    </tr>\n",
       "    <tr>\n",
       "      <th>18</th>\n",
       "      <td>4.0</td>\n",
       "      <td>-4.0</td>\n",
       "      <td>0</td>\n",
       "      <td>0</td>\n",
       "      <td>0</td>\n",
       "      <td>0</td>\n",
       "      <td>0</td>\n",
       "    </tr>\n",
       "    <tr>\n",
       "      <th>21</th>\n",
       "      <td>3.0</td>\n",
       "      <td>13.0</td>\n",
       "      <td>0</td>\n",
       "      <td>0</td>\n",
       "      <td>0</td>\n",
       "      <td>0</td>\n",
       "      <td>0</td>\n",
       "    </tr>\n",
       "    <tr>\n",
       "      <th>30</th>\n",
       "      <td>4.0</td>\n",
       "      <td>-11.0</td>\n",
       "      <td>0</td>\n",
       "      <td>0</td>\n",
       "      <td>0</td>\n",
       "      <td>0</td>\n",
       "      <td>0</td>\n",
       "    </tr>\n",
       "    <tr>\n",
       "      <th>38</th>\n",
       "      <td>4.0</td>\n",
       "      <td>-2.0</td>\n",
       "      <td>0</td>\n",
       "      <td>0</td>\n",
       "      <td>0</td>\n",
       "      <td>0</td>\n",
       "      <td>0</td>\n",
       "    </tr>\n",
       "    <tr>\n",
       "      <th>43</th>\n",
       "      <td>14.0</td>\n",
       "      <td>-10.0</td>\n",
       "      <td>0</td>\n",
       "      <td>0</td>\n",
       "      <td>0</td>\n",
       "      <td>0</td>\n",
       "      <td>0</td>\n",
       "    </tr>\n",
       "    <tr>\n",
       "      <th>48</th>\n",
       "      <td>14.0</td>\n",
       "      <td>11.0</td>\n",
       "      <td>0</td>\n",
       "      <td>0</td>\n",
       "      <td>0</td>\n",
       "      <td>0</td>\n",
       "      <td>0</td>\n",
       "    </tr>\n",
       "    <tr>\n",
       "      <th>77</th>\n",
       "      <td>4.0</td>\n",
       "      <td>30.0</td>\n",
       "      <td>0</td>\n",
       "      <td>0</td>\n",
       "      <td>0</td>\n",
       "      <td>0</td>\n",
       "      <td>0</td>\n",
       "    </tr>\n",
       "  </tbody>\n",
       "</table>\n",
       "</div>"
      ],
      "text/plain": [
       "    ArrDelay  DepDelay  CarrierDelay  WeatherDelay  NASDelay  SecurityDelay  \\\n",
       "4        3.0      34.0             0             0         0              0   \n",
       "9       12.0      -1.0             0             0         0              0   \n",
       "15       5.0      19.0             0             0         0              0   \n",
       "18       4.0      -4.0             0             0         0              0   \n",
       "21       3.0      13.0             0             0         0              0   \n",
       "30       4.0     -11.0             0             0         0              0   \n",
       "38       4.0      -2.0             0             0         0              0   \n",
       "43      14.0     -10.0             0             0         0              0   \n",
       "48      14.0      11.0             0             0         0              0   \n",
       "77       4.0      30.0             0             0         0              0   \n",
       "\n",
       "    LateAircraftDelay  \n",
       "4                   0  \n",
       "9                   0  \n",
       "15                  0  \n",
       "18                  0  \n",
       "21                  0  \n",
       "30                  0  \n",
       "38                  0  \n",
       "43                  0  \n",
       "48                  0  \n",
       "77                  0  "
      ]
     },
     "execution_count": 28,
     "metadata": {},
     "output_type": "execute_result"
    }
   ],
   "source": [
    "delay_test[['ArrDelay', 'DepDelay', 'CarrierDelay', 'WeatherDelay', 'NASDelay', 'SecurityDelay', 'LateAircraftDelay']].head(10)"
   ]
  },
  {
   "cell_type": "code",
   "execution_count": 29,
   "metadata": {
    "scrolled": true
   },
   "outputs": [
    {
     "data": {
      "text/plain": [
       "0"
      ]
     },
     "execution_count": 29,
     "metadata": {},
     "output_type": "execute_result"
    }
   ],
   "source": [
    "# It appears that the biggest arrival delay with no recorded cause is 14 minutes.\n",
    "# Let's check if causes are recorded for 15+ minute delays.\n",
    "# Outcome of 0 means causes get recorded for 15+ minute delays.\n",
    "df.query('(ArrDelay >= 15) & (ArrDelay != CarrierDelay + WeatherDelay + NASDelay + SecurityDelay + LateAircraftDelay)').shape[0]"
   ]
  },
  {
   "cell_type": "code",
   "execution_count": 30,
   "metadata": {},
   "outputs": [],
   "source": [
    "# for easier navigation through time-related columns\n",
    "time_cols = ['DepTime', 'CRSDepTime', 'ArrTime', 'CRSArrTime', 'ActualElapsedTime', 'CRSElapsedTime', 'AirTime', \n",
    "             'ArrDelay', 'DepDelay', 'CarrierDelay', 'WeatherDelay', 'NASDelay', 'SecurityDelay', 'LateAircraftDelay']"
   ]
  },
  {
   "cell_type": "code",
   "execution_count": 31,
   "metadata": {},
   "outputs": [
    {
     "data": {
      "text/html": [
       "<div>\n",
       "<style scoped>\n",
       "    .dataframe tbody tr th:only-of-type {\n",
       "        vertical-align: middle;\n",
       "    }\n",
       "\n",
       "    .dataframe tbody tr th {\n",
       "        vertical-align: top;\n",
       "    }\n",
       "\n",
       "    .dataframe thead th {\n",
       "        text-align: right;\n",
       "    }\n",
       "</style>\n",
       "<table border=\"1\" class=\"dataframe\">\n",
       "  <thead>\n",
       "    <tr style=\"text-align: right;\">\n",
       "      <th></th>\n",
       "      <th>ActualElapsedTime</th>\n",
       "      <th>CRSElapsedTime</th>\n",
       "      <th>AirTime</th>\n",
       "      <th>ArrDelay</th>\n",
       "      <th>DepDelay</th>\n",
       "      <th>CarrierDelay</th>\n",
       "      <th>WeatherDelay</th>\n",
       "      <th>NASDelay</th>\n",
       "      <th>SecurityDelay</th>\n",
       "      <th>LateAircraftDelay</th>\n",
       "    </tr>\n",
       "  </thead>\n",
       "  <tbody>\n",
       "    <tr>\n",
       "      <th>count</th>\n",
       "      <td>2.127193e+07</td>\n",
       "      <td>2.173474e+07</td>\n",
       "      <td>2.127193e+07</td>\n",
       "      <td>2.127193e+07</td>\n",
       "      <td>2.131932e+07</td>\n",
       "      <td>2.173573e+07</td>\n",
       "      <td>2.173573e+07</td>\n",
       "      <td>2.173573e+07</td>\n",
       "      <td>2.173573e+07</td>\n",
       "      <td>2.173573e+07</td>\n",
       "    </tr>\n",
       "    <tr>\n",
       "      <th>mean</th>\n",
       "      <td>1.257125e+02</td>\n",
       "      <td>1.267866e+02</td>\n",
       "      <td>1.023223e+02</td>\n",
       "      <td>8.705460e+00</td>\n",
       "      <td>1.007372e+01</td>\n",
       "      <td>3.427794e+00</td>\n",
       "      <td>7.042450e-01</td>\n",
       "      <td>3.582012e+00</td>\n",
       "      <td>2.481269e-02</td>\n",
       "      <td>4.435478e+00</td>\n",
       "    </tr>\n",
       "    <tr>\n",
       "      <th>std</th>\n",
       "      <td>7.110605e+01</td>\n",
       "      <td>7.014748e+01</td>\n",
       "      <td>7.584979e+01</td>\n",
       "      <td>3.681172e+01</td>\n",
       "      <td>3.372605e+01</td>\n",
       "      <td>1.917172e+01</td>\n",
       "      <td>8.841970e+00</td>\n",
       "      <td>1.556168e+01</td>\n",
       "      <td>1.133373e+00</td>\n",
       "      <td>1.962606e+01</td>\n",
       "    </tr>\n",
       "    <tr>\n",
       "      <th>min</th>\n",
       "      <td>-6.600000e+01</td>\n",
       "      <td>-1.240000e+03</td>\n",
       "      <td>-1.428000e+03</td>\n",
       "      <td>-9.390000e+02</td>\n",
       "      <td>-1.200000e+03</td>\n",
       "      <td>0.000000e+00</td>\n",
       "      <td>0.000000e+00</td>\n",
       "      <td>-4.900000e+01</td>\n",
       "      <td>0.000000e+00</td>\n",
       "      <td>0.000000e+00</td>\n",
       "    </tr>\n",
       "    <tr>\n",
       "      <th>25%</th>\n",
       "      <td>7.500000e+01</td>\n",
       "      <td>7.600000e+01</td>\n",
       "      <td>5.400000e+01</td>\n",
       "      <td>-9.000000e+00</td>\n",
       "      <td>-4.000000e+00</td>\n",
       "      <td>0.000000e+00</td>\n",
       "      <td>0.000000e+00</td>\n",
       "      <td>0.000000e+00</td>\n",
       "      <td>0.000000e+00</td>\n",
       "      <td>0.000000e+00</td>\n",
       "    </tr>\n",
       "    <tr>\n",
       "      <th>50%</th>\n",
       "      <td>1.070000e+02</td>\n",
       "      <td>1.080000e+02</td>\n",
       "      <td>8.400000e+01</td>\n",
       "      <td>-1.000000e+00</td>\n",
       "      <td>0.000000e+00</td>\n",
       "      <td>0.000000e+00</td>\n",
       "      <td>0.000000e+00</td>\n",
       "      <td>0.000000e+00</td>\n",
       "      <td>0.000000e+00</td>\n",
       "      <td>0.000000e+00</td>\n",
       "    </tr>\n",
       "    <tr>\n",
       "      <th>75%</th>\n",
       "      <td>1.560000e+02</td>\n",
       "      <td>1.560000e+02</td>\n",
       "      <td>1.310000e+02</td>\n",
       "      <td>1.300000e+01</td>\n",
       "      <td>9.000000e+00</td>\n",
       "      <td>0.000000e+00</td>\n",
       "      <td>0.000000e+00</td>\n",
       "      <td>0.000000e+00</td>\n",
       "      <td>0.000000e+00</td>\n",
       "      <td>0.000000e+00</td>\n",
       "    </tr>\n",
       "    <tr>\n",
       "      <th>max</th>\n",
       "      <td>1.879000e+03</td>\n",
       "      <td>1.430000e+03</td>\n",
       "      <td>1.958000e+03</td>\n",
       "      <td>2.598000e+03</td>\n",
       "      <td>2.601000e+03</td>\n",
       "      <td>2.580000e+03</td>\n",
       "      <td>1.510000e+03</td>\n",
       "      <td>1.392000e+03</td>\n",
       "      <td>3.820000e+02</td>\n",
       "      <td>1.366000e+03</td>\n",
       "    </tr>\n",
       "  </tbody>\n",
       "</table>\n",
       "</div>"
      ],
      "text/plain": [
       "       ActualElapsedTime  CRSElapsedTime       AirTime      ArrDelay  \\\n",
       "count       2.127193e+07    2.173474e+07  2.127193e+07  2.127193e+07   \n",
       "mean        1.257125e+02    1.267866e+02  1.023223e+02  8.705460e+00   \n",
       "std         7.110605e+01    7.014748e+01  7.584979e+01  3.681172e+01   \n",
       "min        -6.600000e+01   -1.240000e+03 -1.428000e+03 -9.390000e+02   \n",
       "25%         7.500000e+01    7.600000e+01  5.400000e+01 -9.000000e+00   \n",
       "50%         1.070000e+02    1.080000e+02  8.400000e+01 -1.000000e+00   \n",
       "75%         1.560000e+02    1.560000e+02  1.310000e+02  1.300000e+01   \n",
       "max         1.879000e+03    1.430000e+03  1.958000e+03  2.598000e+03   \n",
       "\n",
       "           DepDelay  CarrierDelay  WeatherDelay      NASDelay  SecurityDelay  \\\n",
       "count  2.131932e+07  2.173573e+07  2.173573e+07  2.173573e+07   2.173573e+07   \n",
       "mean   1.007372e+01  3.427794e+00  7.042450e-01  3.582012e+00   2.481269e-02   \n",
       "std    3.372605e+01  1.917172e+01  8.841970e+00  1.556168e+01   1.133373e+00   \n",
       "min   -1.200000e+03  0.000000e+00  0.000000e+00 -4.900000e+01   0.000000e+00   \n",
       "25%   -4.000000e+00  0.000000e+00  0.000000e+00  0.000000e+00   0.000000e+00   \n",
       "50%    0.000000e+00  0.000000e+00  0.000000e+00  0.000000e+00   0.000000e+00   \n",
       "75%    9.000000e+00  0.000000e+00  0.000000e+00  0.000000e+00   0.000000e+00   \n",
       "max    2.601000e+03  2.580000e+03  1.510000e+03  1.392000e+03   3.820000e+02   \n",
       "\n",
       "       LateAircraftDelay  \n",
       "count       2.173573e+07  \n",
       "mean        4.435478e+00  \n",
       "std         1.962606e+01  \n",
       "min         0.000000e+00  \n",
       "25%         0.000000e+00  \n",
       "50%         0.000000e+00  \n",
       "75%         0.000000e+00  \n",
       "max         1.366000e+03  "
      ]
     },
     "execution_count": 31,
     "metadata": {},
     "output_type": "execute_result"
    }
   ],
   "source": [
    "df[time_cols[4:]].describe()"
   ]
  },
  {
   "cell_type": "code",
   "execution_count": 32,
   "metadata": {},
   "outputs": [
    {
     "data": {
      "text/plain": [
       "9873"
      ]
     },
     "execution_count": 32,
     "metadata": {},
     "output_type": "execute_result"
    }
   ],
   "source": [
    "# Weirdly, the dataset contains records with negative values for elapsed time and air time, where the smallest possible value is 0.\n",
    "# How many such cases are there?\n",
    "df.query('(ActualElapsedTime < 0) | (CRSElapsedTime < 0) | (AirTime < 0)').shape[0]"
   ]
  },
  {
   "cell_type": "code",
   "execution_count": 33,
   "metadata": {
    "scrolled": false
   },
   "outputs": [
    {
     "data": {
      "text/html": [
       "<div>\n",
       "<style scoped>\n",
       "    .dataframe tbody tr th:only-of-type {\n",
       "        vertical-align: middle;\n",
       "    }\n",
       "\n",
       "    .dataframe tbody tr th {\n",
       "        vertical-align: top;\n",
       "    }\n",
       "\n",
       "    .dataframe thead th {\n",
       "        text-align: right;\n",
       "    }\n",
       "</style>\n",
       "<table border=\"1\" class=\"dataframe\">\n",
       "  <thead>\n",
       "    <tr style=\"text-align: right;\">\n",
       "      <th></th>\n",
       "      <th>DepTime</th>\n",
       "      <th>CRSDepTime</th>\n",
       "      <th>ArrTime</th>\n",
       "      <th>CRSArrTime</th>\n",
       "      <th>ActualElapsedTime</th>\n",
       "      <th>CRSElapsedTime</th>\n",
       "      <th>AirTime</th>\n",
       "      <th>ArrDelay</th>\n",
       "      <th>DepDelay</th>\n",
       "      <th>CarrierDelay</th>\n",
       "      <th>WeatherDelay</th>\n",
       "      <th>NASDelay</th>\n",
       "      <th>SecurityDelay</th>\n",
       "      <th>LateAircraftDelay</th>\n",
       "    </tr>\n",
       "  </thead>\n",
       "  <tbody>\n",
       "    <tr>\n",
       "      <th>204345</th>\n",
       "      <td>23.0</td>\n",
       "      <td>2230</td>\n",
       "      <td>2400.0</td>\n",
       "      <td>2347</td>\n",
       "      <td>-23.0</td>\n",
       "      <td>77.0</td>\n",
       "      <td>-17.0</td>\n",
       "      <td>13.0</td>\n",
       "      <td>113.0</td>\n",
       "      <td>0</td>\n",
       "      <td>0</td>\n",
       "      <td>0</td>\n",
       "      <td>0</td>\n",
       "      <td>0</td>\n",
       "    </tr>\n",
       "    <tr>\n",
       "      <th>207898</th>\n",
       "      <td>1710.0</td>\n",
       "      <td>1640</td>\n",
       "      <td>2400.0</td>\n",
       "      <td>1746</td>\n",
       "      <td>410.0</td>\n",
       "      <td>66.0</td>\n",
       "      <td>-15.0</td>\n",
       "      <td>374.0</td>\n",
       "      <td>30.0</td>\n",
       "      <td>0</td>\n",
       "      <td>0</td>\n",
       "      <td>0</td>\n",
       "      <td>0</td>\n",
       "      <td>374</td>\n",
       "    </tr>\n",
       "    <tr>\n",
       "      <th>209786</th>\n",
       "      <td>2220.0</td>\n",
       "      <td>2220</td>\n",
       "      <td>2400.0</td>\n",
       "      <td>2348</td>\n",
       "      <td>100.0</td>\n",
       "      <td>88.0</td>\n",
       "      <td>-38.0</td>\n",
       "      <td>12.0</td>\n",
       "      <td>0.0</td>\n",
       "      <td>0</td>\n",
       "      <td>0</td>\n",
       "      <td>0</td>\n",
       "      <td>0</td>\n",
       "      <td>0</td>\n",
       "    </tr>\n",
       "    <tr>\n",
       "      <th>216462</th>\n",
       "      <td>2359.0</td>\n",
       "      <td>2220</td>\n",
       "      <td>2400.0</td>\n",
       "      <td>39</td>\n",
       "      <td>-59.0</td>\n",
       "      <td>79.0</td>\n",
       "      <td>-14.0</td>\n",
       "      <td>-39.0</td>\n",
       "      <td>99.0</td>\n",
       "      <td>0</td>\n",
       "      <td>0</td>\n",
       "      <td>0</td>\n",
       "      <td>0</td>\n",
       "      <td>0</td>\n",
       "    </tr>\n",
       "    <tr>\n",
       "      <th>221783</th>\n",
       "      <td>1615.0</td>\n",
       "      <td>1555</td>\n",
       "      <td>2400.0</td>\n",
       "      <td>1822</td>\n",
       "      <td>405.0</td>\n",
       "      <td>87.0</td>\n",
       "      <td>-11.0</td>\n",
       "      <td>338.0</td>\n",
       "      <td>20.0</td>\n",
       "      <td>338</td>\n",
       "      <td>0</td>\n",
       "      <td>0</td>\n",
       "      <td>0</td>\n",
       "      <td>0</td>\n",
       "    </tr>\n",
       "    <tr>\n",
       "      <th>230160</th>\n",
       "      <td>2400.0</td>\n",
       "      <td>2120</td>\n",
       "      <td>2254.0</td>\n",
       "      <td>2215</td>\n",
       "      <td>-66.0</td>\n",
       "      <td>55.0</td>\n",
       "      <td>-1278.0</td>\n",
       "      <td>39.0</td>\n",
       "      <td>160.0</td>\n",
       "      <td>0</td>\n",
       "      <td>0</td>\n",
       "      <td>0</td>\n",
       "      <td>0</td>\n",
       "      <td>39</td>\n",
       "    </tr>\n",
       "    <tr>\n",
       "      <th>231281</th>\n",
       "      <td>2338.0</td>\n",
       "      <td>2220</td>\n",
       "      <td>201.0</td>\n",
       "      <td>39</td>\n",
       "      <td>83.0</td>\n",
       "      <td>79.0</td>\n",
       "      <td>-58.0</td>\n",
       "      <td>82.0</td>\n",
       "      <td>78.0</td>\n",
       "      <td>0</td>\n",
       "      <td>0</td>\n",
       "      <td>0</td>\n",
       "      <td>0</td>\n",
       "      <td>82</td>\n",
       "    </tr>\n",
       "    <tr>\n",
       "      <th>324894</th>\n",
       "      <td>2126.0</td>\n",
       "      <td>2104</td>\n",
       "      <td>2411.0</td>\n",
       "      <td>2255</td>\n",
       "      <td>165.0</td>\n",
       "      <td>111.0</td>\n",
       "      <td>-1351.0</td>\n",
       "      <td>76.0</td>\n",
       "      <td>22.0</td>\n",
       "      <td>0</td>\n",
       "      <td>0</td>\n",
       "      <td>54</td>\n",
       "      <td>0</td>\n",
       "      <td>22</td>\n",
       "    </tr>\n",
       "    <tr>\n",
       "      <th>324902</th>\n",
       "      <td>2254.0</td>\n",
       "      <td>2104</td>\n",
       "      <td>2455.0</td>\n",
       "      <td>2255</td>\n",
       "      <td>121.0</td>\n",
       "      <td>111.0</td>\n",
       "      <td>-1335.0</td>\n",
       "      <td>120.0</td>\n",
       "      <td>110.0</td>\n",
       "      <td>0</td>\n",
       "      <td>0</td>\n",
       "      <td>120</td>\n",
       "      <td>0</td>\n",
       "      <td>0</td>\n",
       "    </tr>\n",
       "    <tr>\n",
       "      <th>324903</th>\n",
       "      <td>2225.0</td>\n",
       "      <td>2104</td>\n",
       "      <td>2420.0</td>\n",
       "      <td>2255</td>\n",
       "      <td>115.0</td>\n",
       "      <td>111.0</td>\n",
       "      <td>-1353.0</td>\n",
       "      <td>85.0</td>\n",
       "      <td>81.0</td>\n",
       "      <td>81</td>\n",
       "      <td>0</td>\n",
       "      <td>4</td>\n",
       "      <td>0</td>\n",
       "      <td>0</td>\n",
       "    </tr>\n",
       "  </tbody>\n",
       "</table>\n",
       "</div>"
      ],
      "text/plain": [
       "        DepTime  CRSDepTime  ArrTime  CRSArrTime  ActualElapsedTime  \\\n",
       "204345     23.0        2230   2400.0        2347              -23.0   \n",
       "207898   1710.0        1640   2400.0        1746              410.0   \n",
       "209786   2220.0        2220   2400.0        2348              100.0   \n",
       "216462   2359.0        2220   2400.0          39              -59.0   \n",
       "221783   1615.0        1555   2400.0        1822              405.0   \n",
       "230160   2400.0        2120   2254.0        2215              -66.0   \n",
       "231281   2338.0        2220    201.0          39               83.0   \n",
       "324894   2126.0        2104   2411.0        2255              165.0   \n",
       "324902   2254.0        2104   2455.0        2255              121.0   \n",
       "324903   2225.0        2104   2420.0        2255              115.0   \n",
       "\n",
       "        CRSElapsedTime  AirTime  ArrDelay  DepDelay  CarrierDelay  \\\n",
       "204345            77.0    -17.0      13.0     113.0             0   \n",
       "207898            66.0    -15.0     374.0      30.0             0   \n",
       "209786            88.0    -38.0      12.0       0.0             0   \n",
       "216462            79.0    -14.0     -39.0      99.0             0   \n",
       "221783            87.0    -11.0     338.0      20.0           338   \n",
       "230160            55.0  -1278.0      39.0     160.0             0   \n",
       "231281            79.0    -58.0      82.0      78.0             0   \n",
       "324894           111.0  -1351.0      76.0      22.0             0   \n",
       "324902           111.0  -1335.0     120.0     110.0             0   \n",
       "324903           111.0  -1353.0      85.0      81.0            81   \n",
       "\n",
       "        WeatherDelay  NASDelay  SecurityDelay  LateAircraftDelay  \n",
       "204345             0         0              0                  0  \n",
       "207898             0         0              0                374  \n",
       "209786             0         0              0                  0  \n",
       "216462             0         0              0                  0  \n",
       "221783             0         0              0                  0  \n",
       "230160             0         0              0                 39  \n",
       "231281             0         0              0                 82  \n",
       "324894             0        54              0                 22  \n",
       "324902             0       120              0                  0  \n",
       "324903             0         4              0                  0  "
      ]
     },
     "execution_count": 33,
     "metadata": {},
     "output_type": "execute_result"
    }
   ],
   "source": [
    "df.query('(ActualElapsedTime < 0) | (CRSElapsedTime < 0) | (AirTime < 0)')[time_cols].head(10)"
   ]
  },
  {
   "cell_type": "markdown",
   "metadata": {},
   "source": [
    "The above shows that:\n",
    "- Usually it's `AirTime` with large negative values that is problematic\n",
    "- Other time values don't make sense either - they are over 2400 on a 24 h timescale."
   ]
  },
  {
   "cell_type": "code",
   "execution_count": 34,
   "metadata": {},
   "outputs": [
    {
     "data": {
      "text/plain": [
       "21306"
      ]
     },
     "execution_count": 34,
     "metadata": {},
     "output_type": "execute_result"
    }
   ],
   "source": [
    "# Check records for outright invalid time format\n",
    "df.query('(DepTime >= 2400) | (CRSDepTime >= 2400) | (ArrTime >= 2400) | (CRSArrTime >= 2400)').shape[0]"
   ]
  },
  {
   "cell_type": "markdown",
   "metadata": {},
   "source": [
    "### Issues\n",
    "#### Quality\n",
    "- Some columns are float64 due to NaN's: `DepTime`, `ArrTime`, `ActualElapsedTime`, `CRSElapsedTime`, `AirTime`, `ArrDelay`, `DepDelay`\n",
    "- Some time columns are numeric where they could be date/time: `DepTime`, `CRSDepTime`, `ArrTime`, `CRSArrTime`  \n",
    "Remember about filling missing zeroes up front (eg. 5.0 would be 00:05 hh:mm)\n",
    "- `UniqueCarrier` could safely be categorical - only 23 different carriers\n",
    "- In two records `CancellationCode` was provided, but `Cancelled` was set to 0\n",
    "- Only records with 15 minutes or longer delays have their cause specified - be aware when analyzing\n",
    "- The dataset contains 0.05% records with negative values for elapsed time and air time\n",
    "- 0.1% of records contain invalid number for a time, larger or equal to 2400 - equivalent of 24:00 hh:mm\n",
    "- It seems as though on occassion quality issues related to flight times may appear - eg. flight duration different than the result of arrival time minus departure time.  \n",
    "Having in mind the sheer size of the dataset and the focus of this project being visualisation rather than wrangling, I will leave the remaining ones untouched at this point in time. May be of interest for deeper analysis.\n",
    "\n",
    "#### Tidiness\n",
    "- A number of columns containing repeated non-numeric data should rather have integer indices linked to separate tables: `UniqueCarrier`, `TailNum`, `Origin`, `Dest`, `CancellationCode`. Since extensive cleaning is not the purpose of this project, I will leave it as is.\n",
    "- `Year`, `Month` and `DayofMonth` could all form a single date column treated as date/time. Will leave as is."
   ]
  },
  {
   "cell_type": "markdown",
   "metadata": {},
   "source": [
    "## Clean\n",
    "#### Make df copy for cleaning"
   ]
  },
  {
   "cell_type": "code",
   "execution_count": 35,
   "metadata": {},
   "outputs": [],
   "source": [
    "dfc = df.copy()"
   ]
  },
  {
   "cell_type": "markdown",
   "metadata": {},
   "source": [
    "### The dataset contains 0.05% records with negative values for elapsed time and air time.  \n",
    "**Columns: `ActualElapsedTime`, `CRSElapsedTime`, `AirTime`.**\n",
    "#### Define\n",
    "I will remove these records as they contain clearly invalid data.  \n",
    "This is only a tiny, insignifficant fraction of the whole dataset, so it will not influence later analysis."
   ]
  },
  {
   "cell_type": "markdown",
   "metadata": {},
   "source": [
    "#### Code"
   ]
  },
  {
   "cell_type": "code",
   "execution_count": 36,
   "metadata": {},
   "outputs": [],
   "source": [
    "dfc = dfc[~(dfc['ActualElapsedTime'] < 0) & ~(dfc['CRSElapsedTime'] < 0) & ~(dfc['AirTime'] < 0)]"
   ]
  },
  {
   "cell_type": "markdown",
   "metadata": {},
   "source": [
    "#### Test"
   ]
  },
  {
   "cell_type": "code",
   "execution_count": 37,
   "metadata": {},
   "outputs": [
    {
     "data": {
      "text/plain": [
       "21725860"
      ]
     },
     "execution_count": 37,
     "metadata": {},
     "output_type": "execute_result"
    }
   ],
   "source": [
    "# Updated df row number\n",
    "dfc.shape[0]"
   ]
  },
  {
   "cell_type": "code",
   "execution_count": 38,
   "metadata": {},
   "outputs": [],
   "source": [
    "# Check if numbers match\n",
    "assert dfc.shape[0] + df.query('(ActualElapsedTime < 0) | (CRSElapsedTime < 0) | (AirTime < 0)').shape[0] == df.shape[0]"
   ]
  },
  {
   "cell_type": "markdown",
   "metadata": {},
   "source": [
    "### 0.1% of records contain invalid number for a time, larger or equal to 2400 - equivalent of 24:00 hh:mm\n",
    "#### Re-assess after above cleaning"
   ]
  },
  {
   "cell_type": "code",
   "execution_count": 39,
   "metadata": {},
   "outputs": [
    {
     "data": {
      "text/plain": [
       "11476"
      ]
     },
     "execution_count": 39,
     "metadata": {},
     "output_type": "execute_result"
    }
   ],
   "source": [
    "# Should be roughly half less than before\n",
    "max_hour = 2400\n",
    "dfc.query('(DepTime >= @max_hour) | (CRSDepTime >= @max_hour) | (ArrTime >= @max_hour) | (CRSArrTime >= @max_hour)').shape[0]"
   ]
  },
  {
   "cell_type": "code",
   "execution_count": 40,
   "metadata": {},
   "outputs": [],
   "source": [
    "# indices list for future re-check\n",
    "bad_midnight = dfc.query('(DepTime >= @max_hour) | (CRSDepTime >= @max_hour) | (ArrTime >= @max_hour) | (CRSArrTime >= @max_hour)').index"
   ]
  },
  {
   "cell_type": "code",
   "execution_count": 41,
   "metadata": {},
   "outputs": [
    {
     "data": {
      "text/plain": [
       "2"
      ]
     },
     "execution_count": 41,
     "metadata": {},
     "output_type": "execute_result"
    }
   ],
   "source": [
    "# Check if any of the values exceed 2500\n",
    "max_hour = 2500\n",
    "dfc.query('(DepTime >= @max_hour) | (CRSDepTime >= @max_hour) | (ArrTime >= @max_hour) | (CRSArrTime >= @max_hour)').shape[0]"
   ]
  },
  {
   "cell_type": "code",
   "execution_count": 42,
   "metadata": {},
   "outputs": [
    {
     "data": {
      "text/html": [
       "<div>\n",
       "<style scoped>\n",
       "    .dataframe tbody tr th:only-of-type {\n",
       "        vertical-align: middle;\n",
       "    }\n",
       "\n",
       "    .dataframe tbody tr th {\n",
       "        vertical-align: top;\n",
       "    }\n",
       "\n",
       "    .dataframe thead th {\n",
       "        text-align: right;\n",
       "    }\n",
       "</style>\n",
       "<table border=\"1\" class=\"dataframe\">\n",
       "  <thead>\n",
       "    <tr style=\"text-align: right;\">\n",
       "      <th></th>\n",
       "      <th>DepTime</th>\n",
       "      <th>CRSDepTime</th>\n",
       "      <th>ArrTime</th>\n",
       "      <th>CRSArrTime</th>\n",
       "      <th>ActualElapsedTime</th>\n",
       "      <th>CRSElapsedTime</th>\n",
       "      <th>AirTime</th>\n",
       "      <th>ArrDelay</th>\n",
       "      <th>DepDelay</th>\n",
       "      <th>CarrierDelay</th>\n",
       "      <th>WeatherDelay</th>\n",
       "      <th>NASDelay</th>\n",
       "      <th>SecurityDelay</th>\n",
       "      <th>LateAircraftDelay</th>\n",
       "    </tr>\n",
       "  </thead>\n",
       "  <tbody>\n",
       "    <tr>\n",
       "      <th>12194387</th>\n",
       "      <td>2203.0</td>\n",
       "      <td>1930</td>\n",
       "      <td>2500.0</td>\n",
       "      <td>2135</td>\n",
       "      <td>177.0</td>\n",
       "      <td>125.0</td>\n",
       "      <td>105.0</td>\n",
       "      <td>205.0</td>\n",
       "      <td>153.0</td>\n",
       "      <td>153</td>\n",
       "      <td>0</td>\n",
       "      <td>52</td>\n",
       "      <td>0</td>\n",
       "      <td>0</td>\n",
       "    </tr>\n",
       "    <tr>\n",
       "      <th>12196682</th>\n",
       "      <td>2030.0</td>\n",
       "      <td>1737</td>\n",
       "      <td>2513.0</td>\n",
       "      <td>2049</td>\n",
       "      <td>223.0</td>\n",
       "      <td>132.0</td>\n",
       "      <td>135.0</td>\n",
       "      <td>264.0</td>\n",
       "      <td>173.0</td>\n",
       "      <td>0</td>\n",
       "      <td>173</td>\n",
       "      <td>91</td>\n",
       "      <td>0</td>\n",
       "      <td>0</td>\n",
       "    </tr>\n",
       "  </tbody>\n",
       "</table>\n",
       "</div>"
      ],
      "text/plain": [
       "          DepTime  CRSDepTime  ArrTime  CRSArrTime  ActualElapsedTime  \\\n",
       "12194387   2203.0        1930   2500.0        2135              177.0   \n",
       "12196682   2030.0        1737   2513.0        2049              223.0   \n",
       "\n",
       "          CRSElapsedTime  AirTime  ArrDelay  DepDelay  CarrierDelay  \\\n",
       "12194387           125.0    105.0     205.0     153.0           153   \n",
       "12196682           132.0    135.0     264.0     173.0             0   \n",
       "\n",
       "          WeatherDelay  NASDelay  SecurityDelay  LateAircraftDelay  \n",
       "12194387             0        52              0                  0  \n",
       "12196682           173        91              0                  0  "
      ]
     },
     "execution_count": 42,
     "metadata": {},
     "output_type": "execute_result"
    }
   ],
   "source": [
    "dfc.query('(DepTime >= @max_hour) | (CRSDepTime >= @max_hour) | (ArrTime >= @max_hour) | (CRSArrTime >= @max_hour)')[time_cols]"
   ]
  },
  {
   "cell_type": "markdown",
   "metadata": {},
   "source": [
    "#### Define\n",
    "I will manually correct time values for above two records.  \n",
    "For records with time between 2400 and 2500 I will assume the correctness of the data (in any case it's only a further 0.05% of the original dataset) and set the values to 00mm.\n",
    "#### Code"
   ]
  },
  {
   "cell_type": "code",
   "execution_count": 43,
   "metadata": {},
   "outputs": [],
   "source": [
    "# values of > 2500\n",
    "dfc.loc[dfc.index == 12194387, 'ArrTime'] = 100\n",
    "dfc.loc[dfc.index == 12196682, 'ArrTime'] = 113\n",
    "dfc.loc[dfc.index == 12196682, 'ActualElapsedTime'] = 283"
   ]
  },
  {
   "cell_type": "code",
   "execution_count": 44,
   "metadata": {},
   "outputs": [],
   "source": [
    "# values of 2400 to 2500\n",
    "max_hour = 2400\n",
    "check_cols = ['DepTime', 'ArrTime', 'CRSDepTime', 'CRSArrTime']\n",
    "\n",
    "for col in check_cols :\n",
    "    dfc.loc[dfc[col] >= max_hour, col] = dfc[col] - 2400"
   ]
  },
  {
   "cell_type": "markdown",
   "metadata": {},
   "source": [
    "#### Test"
   ]
  },
  {
   "cell_type": "code",
   "execution_count": 45,
   "metadata": {},
   "outputs": [
    {
     "data": {
      "text/html": [
       "<div>\n",
       "<style scoped>\n",
       "    .dataframe tbody tr th:only-of-type {\n",
       "        vertical-align: middle;\n",
       "    }\n",
       "\n",
       "    .dataframe tbody tr th {\n",
       "        vertical-align: top;\n",
       "    }\n",
       "\n",
       "    .dataframe thead th {\n",
       "        text-align: right;\n",
       "    }\n",
       "</style>\n",
       "<table border=\"1\" class=\"dataframe\">\n",
       "  <thead>\n",
       "    <tr style=\"text-align: right;\">\n",
       "      <th></th>\n",
       "      <th>DepTime</th>\n",
       "      <th>CRSDepTime</th>\n",
       "      <th>ArrTime</th>\n",
       "      <th>CRSArrTime</th>\n",
       "      <th>ActualElapsedTime</th>\n",
       "      <th>CRSElapsedTime</th>\n",
       "      <th>AirTime</th>\n",
       "      <th>ArrDelay</th>\n",
       "      <th>DepDelay</th>\n",
       "      <th>CarrierDelay</th>\n",
       "      <th>WeatherDelay</th>\n",
       "      <th>NASDelay</th>\n",
       "      <th>SecurityDelay</th>\n",
       "      <th>LateAircraftDelay</th>\n",
       "    </tr>\n",
       "  </thead>\n",
       "  <tbody>\n",
       "    <tr>\n",
       "      <th>12194387</th>\n",
       "      <td>2203.0</td>\n",
       "      <td>1930</td>\n",
       "      <td>100.0</td>\n",
       "      <td>2135</td>\n",
       "      <td>177.0</td>\n",
       "      <td>125.0</td>\n",
       "      <td>105.0</td>\n",
       "      <td>205.0</td>\n",
       "      <td>153.0</td>\n",
       "      <td>153</td>\n",
       "      <td>0</td>\n",
       "      <td>52</td>\n",
       "      <td>0</td>\n",
       "      <td>0</td>\n",
       "    </tr>\n",
       "    <tr>\n",
       "      <th>12196682</th>\n",
       "      <td>2030.0</td>\n",
       "      <td>1737</td>\n",
       "      <td>113.0</td>\n",
       "      <td>2049</td>\n",
       "      <td>283.0</td>\n",
       "      <td>132.0</td>\n",
       "      <td>135.0</td>\n",
       "      <td>264.0</td>\n",
       "      <td>173.0</td>\n",
       "      <td>0</td>\n",
       "      <td>173</td>\n",
       "      <td>91</td>\n",
       "      <td>0</td>\n",
       "      <td>0</td>\n",
       "    </tr>\n",
       "  </tbody>\n",
       "</table>\n",
       "</div>"
      ],
      "text/plain": [
       "          DepTime  CRSDepTime  ArrTime  CRSArrTime  ActualElapsedTime  \\\n",
       "12194387   2203.0        1930    100.0        2135              177.0   \n",
       "12196682   2030.0        1737    113.0        2049              283.0   \n",
       "\n",
       "          CRSElapsedTime  AirTime  ArrDelay  DepDelay  CarrierDelay  \\\n",
       "12194387           125.0    105.0     205.0     153.0           153   \n",
       "12196682           132.0    135.0     264.0     173.0             0   \n",
       "\n",
       "          WeatherDelay  NASDelay  SecurityDelay  LateAircraftDelay  \n",
       "12194387             0        52              0                  0  \n",
       "12196682           173        91              0                  0  "
      ]
     },
     "execution_count": 45,
     "metadata": {},
     "output_type": "execute_result"
    }
   ],
   "source": [
    "# values of > 2500\n",
    "dfc[dfc.index.isin([12194387, 12196682])][time_cols]"
   ]
  },
  {
   "cell_type": "code",
   "execution_count": 46,
   "metadata": {},
   "outputs": [
    {
     "data": {
      "text/html": [
       "<div>\n",
       "<style scoped>\n",
       "    .dataframe tbody tr th:only-of-type {\n",
       "        vertical-align: middle;\n",
       "    }\n",
       "\n",
       "    .dataframe tbody tr th {\n",
       "        vertical-align: top;\n",
       "    }\n",
       "\n",
       "    .dataframe thead th {\n",
       "        text-align: right;\n",
       "    }\n",
       "</style>\n",
       "<table border=\"1\" class=\"dataframe\">\n",
       "  <thead>\n",
       "    <tr style=\"text-align: right;\">\n",
       "      <th></th>\n",
       "      <th>DepTime</th>\n",
       "      <th>CRSDepTime</th>\n",
       "      <th>ArrTime</th>\n",
       "      <th>CRSArrTime</th>\n",
       "      <th>ActualElapsedTime</th>\n",
       "      <th>CRSElapsedTime</th>\n",
       "      <th>AirTime</th>\n",
       "      <th>ArrDelay</th>\n",
       "      <th>DepDelay</th>\n",
       "      <th>CarrierDelay</th>\n",
       "      <th>WeatherDelay</th>\n",
       "      <th>NASDelay</th>\n",
       "      <th>SecurityDelay</th>\n",
       "      <th>LateAircraftDelay</th>\n",
       "    </tr>\n",
       "  </thead>\n",
       "  <tbody>\n",
       "    <tr>\n",
       "      <th>110</th>\n",
       "      <td>2102.0</td>\n",
       "      <td>2045</td>\n",
       "      <td>0.0</td>\n",
       "      <td>2359</td>\n",
       "      <td>118.0</td>\n",
       "      <td>134.0</td>\n",
       "      <td>102.0</td>\n",
       "      <td>1.0</td>\n",
       "      <td>17.0</td>\n",
       "      <td>0</td>\n",
       "      <td>0</td>\n",
       "      <td>0</td>\n",
       "      <td>0</td>\n",
       "      <td>0</td>\n",
       "    </tr>\n",
       "    <tr>\n",
       "      <th>3607</th>\n",
       "      <td>2100.0</td>\n",
       "      <td>1645</td>\n",
       "      <td>0.0</td>\n",
       "      <td>1822</td>\n",
       "      <td>240.0</td>\n",
       "      <td>157.0</td>\n",
       "      <td>126.0</td>\n",
       "      <td>338.0</td>\n",
       "      <td>255.0</td>\n",
       "      <td>0</td>\n",
       "      <td>0</td>\n",
       "      <td>318</td>\n",
       "      <td>0</td>\n",
       "      <td>20</td>\n",
       "    </tr>\n",
       "    <tr>\n",
       "      <th>6532</th>\n",
       "      <td>2222.0</td>\n",
       "      <td>2225</td>\n",
       "      <td>0.0</td>\n",
       "      <td>6</td>\n",
       "      <td>98.0</td>\n",
       "      <td>101.0</td>\n",
       "      <td>81.0</td>\n",
       "      <td>-6.0</td>\n",
       "      <td>-3.0</td>\n",
       "      <td>0</td>\n",
       "      <td>0</td>\n",
       "      <td>0</td>\n",
       "      <td>0</td>\n",
       "      <td>0</td>\n",
       "    </tr>\n",
       "    <tr>\n",
       "      <th>6561</th>\n",
       "      <td>2203.0</td>\n",
       "      <td>2115</td>\n",
       "      <td>0.0</td>\n",
       "      <td>2317</td>\n",
       "      <td>57.0</td>\n",
       "      <td>62.0</td>\n",
       "      <td>40.0</td>\n",
       "      <td>43.0</td>\n",
       "      <td>48.0</td>\n",
       "      <td>43</td>\n",
       "      <td>0</td>\n",
       "      <td>0</td>\n",
       "      <td>0</td>\n",
       "      <td>0</td>\n",
       "    </tr>\n",
       "    <tr>\n",
       "      <th>7120</th>\n",
       "      <td>2127.0</td>\n",
       "      <td>2105</td>\n",
       "      <td>0.0</td>\n",
       "      <td>2352</td>\n",
       "      <td>93.0</td>\n",
       "      <td>107.0</td>\n",
       "      <td>69.0</td>\n",
       "      <td>8.0</td>\n",
       "      <td>22.0</td>\n",
       "      <td>0</td>\n",
       "      <td>0</td>\n",
       "      <td>0</td>\n",
       "      <td>0</td>\n",
       "      <td>0</td>\n",
       "    </tr>\n",
       "  </tbody>\n",
       "</table>\n",
       "</div>"
      ],
      "text/plain": [
       "      DepTime  CRSDepTime  ArrTime  CRSArrTime  ActualElapsedTime  \\\n",
       "110    2102.0        2045      0.0        2359              118.0   \n",
       "3607   2100.0        1645      0.0        1822              240.0   \n",
       "6532   2222.0        2225      0.0           6               98.0   \n",
       "6561   2203.0        2115      0.0        2317               57.0   \n",
       "7120   2127.0        2105      0.0        2352               93.0   \n",
       "\n",
       "      CRSElapsedTime  AirTime  ArrDelay  DepDelay  CarrierDelay  WeatherDelay  \\\n",
       "110            134.0    102.0       1.0      17.0             0             0   \n",
       "3607           157.0    126.0     338.0     255.0             0             0   \n",
       "6532           101.0     81.0      -6.0      -3.0             0             0   \n",
       "6561            62.0     40.0      43.0      48.0            43             0   \n",
       "7120           107.0     69.0       8.0      22.0             0             0   \n",
       "\n",
       "      NASDelay  SecurityDelay  LateAircraftDelay  \n",
       "110          0              0                  0  \n",
       "3607       318              0                 20  \n",
       "6532         0              0                  0  \n",
       "6561         0              0                  0  \n",
       "7120         0              0                  0  "
      ]
     },
     "execution_count": 46,
     "metadata": {},
     "output_type": "execute_result"
    }
   ],
   "source": [
    "# values of 2400 to 2500\n",
    "dfc[dfc.index.isin(bad_midnight)][time_cols].head()"
   ]
  },
  {
   "cell_type": "markdown",
   "metadata": {},
   "source": [
    "### Some columns are float64 due to NaN's: `DepTime`, `ArrTime`, `ActualElapsedTime`, `CRSElapsedTime`, `AirTime`, `ArrDelay`, `DepDelay`\n",
    "### Some time columns are numeric where they could be date/time: `DepTime`, `CRSDepTime`, `ArrTime`, `CRSArrTime`  \n",
    "#### Define\n",
    "All flights with NaN values in actual flight time data were either cancelled or diverted - conclusion: no data is missing.  \n",
    "I will convert hh:mm columns to time and duration columns to Int64 to allow for NaNs.\n",
    "hh:mm columns will be seen as string/object because time only values cannot be converted to date/time format."
   ]
  },
  {
   "cell_type": "code",
   "execution_count": 47,
   "metadata": {},
   "outputs": [
    {
     "name": "stdout",
     "output_type": "stream",
     "text": [
      "<class 'pandas.core.frame.DataFrame'>\n",
      "Int64Index: 21725860 entries, 0 to 21735732\n",
      "Data columns (total 29 columns):\n",
      " #   Column             Dtype  \n",
      "---  ------             -----  \n",
      " 0   Year               int64  \n",
      " 1   Month              int64  \n",
      " 2   DayofMonth         int64  \n",
      " 3   DayOfWeek          int64  \n",
      " 4   DepTime            float64\n",
      " 5   CRSDepTime         int64  \n",
      " 6   ArrTime            float64\n",
      " 7   CRSArrTime         int64  \n",
      " 8   UniqueCarrier      object \n",
      " 9   FlightNum          int64  \n",
      " 10  TailNum            object \n",
      " 11  ActualElapsedTime  float64\n",
      " 12  CRSElapsedTime     float64\n",
      " 13  AirTime            float64\n",
      " 14  ArrDelay           float64\n",
      " 15  DepDelay           float64\n",
      " 16  Origin             object \n",
      " 17  Dest               object \n",
      " 18  Distance           int64  \n",
      " 19  TaxiIn             int64  \n",
      " 20  TaxiOut            int64  \n",
      " 21  Cancelled          int64  \n",
      " 22  CancellationCode   object \n",
      " 23  Diverted           int64  \n",
      " 24  CarrierDelay       int64  \n",
      " 25  WeatherDelay       int64  \n",
      " 26  NASDelay           int64  \n",
      " 27  SecurityDelay      int64  \n",
      " 28  LateAircraftDelay  int64  \n",
      "dtypes: float64(7), int64(17), object(5)\n",
      "memory usage: 5.4+ GB\n"
     ]
    }
   ],
   "source": [
    "dfc.info()"
   ]
  },
  {
   "cell_type": "markdown",
   "metadata": {},
   "source": [
    "#### Code"
   ]
  },
  {
   "cell_type": "code",
   "execution_count": 48,
   "metadata": {},
   "outputs": [],
   "source": [
    "# Convert not-NaN times to string and format to hh:mm:ss\n",
    "for col in time_cols[:4] :\n",
    "    dfc.loc[dfc[col].notna(), col] = dfc[col].apply(lambda x: str(x).split('.')[0]).str.zfill(4).apply(lambda x: x[:2]+':'+x[2:]+':00')"
   ]
  },
  {
   "cell_type": "code",
   "execution_count": 49,
   "metadata": {},
   "outputs": [],
   "source": [
    "# Convert not-NaN strings to time\n",
    "for col in time_cols[:4] :\n",
    "    dfc.loc[dfc[col].notna(), col] = pd.to_datetime(dfc[col], format=\"%H:%M:%S\").dt.time"
   ]
  },
  {
   "cell_type": "code",
   "execution_count": 50,
   "metadata": {},
   "outputs": [],
   "source": [
    "# Convert appropriate float64 columns with NaNs to Int64\n",
    "for col in time_cols[4:9] :\n",
    "    dfc = dfc.astype({col:'Int64'})"
   ]
  },
  {
   "cell_type": "markdown",
   "metadata": {},
   "source": [
    "#### Test"
   ]
  },
  {
   "cell_type": "code",
   "execution_count": 51,
   "metadata": {
    "scrolled": false
   },
   "outputs": [
    {
     "name": "stdout",
     "output_type": "stream",
     "text": [
      "<class 'pandas.core.frame.DataFrame'>\n",
      "Int64Index: 21725860 entries, 0 to 21735732\n",
      "Data columns (total 29 columns):\n",
      " #   Column             Non-Null Count     Dtype \n",
      "---  ------             --------------     ----- \n",
      " 0   Year               21725860 non-null  int64 \n",
      " 1   Month              21725860 non-null  int64 \n",
      " 2   DayofMonth         21725860 non-null  int64 \n",
      " 3   DayOfWeek          21725860 non-null  int64 \n",
      " 4   DepTime            21309451 non-null  object\n",
      " 5   CRSDepTime         21725860 non-null  object\n",
      " 6   ArrTime            21262093 non-null  object\n",
      " 7   CRSArrTime         21725860 non-null  object\n",
      " 8   UniqueCarrier      21725860 non-null  object\n",
      " 9   FlightNum          21725860 non-null  int64 \n",
      " 10  TailNum            21725838 non-null  object\n",
      " 11  ActualElapsedTime  21262093 non-null  Int64 \n",
      " 12  CRSElapsedTime     21724862 non-null  Int64 \n",
      " 13  AirTime            21262093 non-null  Int64 \n",
      " 14  ArrDelay           21262093 non-null  Int64 \n",
      " 15  DepDelay           21309451 non-null  Int64 \n",
      " 16  Origin             21725860 non-null  object\n",
      " 17  Dest               21725860 non-null  object\n",
      " 18  Distance           21725860 non-null  int64 \n",
      " 19  TaxiIn             21725860 non-null  int64 \n",
      " 20  TaxiOut            21725860 non-null  int64 \n",
      " 21  Cancelled          21725860 non-null  int64 \n",
      " 22  CancellationCode   416410 non-null    object\n",
      " 23  Diverted           21725860 non-null  int64 \n",
      " 24  CarrierDelay       21725860 non-null  int64 \n",
      " 25  WeatherDelay       21725860 non-null  int64 \n",
      " 26  NASDelay           21725860 non-null  int64 \n",
      " 27  SecurityDelay      21725860 non-null  int64 \n",
      " 28  LateAircraftDelay  21725860 non-null  int64 \n",
      "dtypes: Int64(5), int64(15), object(9)\n",
      "memory usage: 5.5+ GB\n"
     ]
    }
   ],
   "source": [
    "dfc.info(show_counts=True)"
   ]
  },
  {
   "cell_type": "code",
   "execution_count": 52,
   "metadata": {
    "scrolled": true
   },
   "outputs": [
    {
     "data": {
      "text/html": [
       "<div>\n",
       "<style scoped>\n",
       "    .dataframe tbody tr th:only-of-type {\n",
       "        vertical-align: middle;\n",
       "    }\n",
       "\n",
       "    .dataframe tbody tr th {\n",
       "        vertical-align: top;\n",
       "    }\n",
       "\n",
       "    .dataframe thead th {\n",
       "        text-align: right;\n",
       "    }\n",
       "</style>\n",
       "<table border=\"1\" class=\"dataframe\">\n",
       "  <thead>\n",
       "    <tr style=\"text-align: right;\">\n",
       "      <th></th>\n",
       "      <th>DepTime</th>\n",
       "      <th>CRSDepTime</th>\n",
       "      <th>ArrTime</th>\n",
       "      <th>CRSArrTime</th>\n",
       "      <th>ActualElapsedTime</th>\n",
       "      <th>CRSElapsedTime</th>\n",
       "      <th>AirTime</th>\n",
       "      <th>ArrDelay</th>\n",
       "      <th>DepDelay</th>\n",
       "      <th>CarrierDelay</th>\n",
       "      <th>WeatherDelay</th>\n",
       "      <th>NASDelay</th>\n",
       "      <th>SecurityDelay</th>\n",
       "      <th>LateAircraftDelay</th>\n",
       "    </tr>\n",
       "  </thead>\n",
       "  <tbody>\n",
       "    <tr>\n",
       "      <th>0</th>\n",
       "      <td>16:03:00</td>\n",
       "      <td>16:05:00</td>\n",
       "      <td>17:41:00</td>\n",
       "      <td>17:59:00</td>\n",
       "      <td>158</td>\n",
       "      <td>174</td>\n",
       "      <td>131</td>\n",
       "      <td>-18</td>\n",
       "      <td>-2</td>\n",
       "      <td>0</td>\n",
       "      <td>0</td>\n",
       "      <td>0</td>\n",
       "      <td>0</td>\n",
       "      <td>0</td>\n",
       "    </tr>\n",
       "    <tr>\n",
       "      <th>1</th>\n",
       "      <td>15:59:00</td>\n",
       "      <td>16:05:00</td>\n",
       "      <td>17:36:00</td>\n",
       "      <td>17:59:00</td>\n",
       "      <td>157</td>\n",
       "      <td>174</td>\n",
       "      <td>136</td>\n",
       "      <td>-23</td>\n",
       "      <td>-6</td>\n",
       "      <td>0</td>\n",
       "      <td>0</td>\n",
       "      <td>0</td>\n",
       "      <td>0</td>\n",
       "      <td>0</td>\n",
       "    </tr>\n",
       "    <tr>\n",
       "      <th>2</th>\n",
       "      <td>16:03:00</td>\n",
       "      <td>16:10:00</td>\n",
       "      <td>17:41:00</td>\n",
       "      <td>18:05:00</td>\n",
       "      <td>158</td>\n",
       "      <td>175</td>\n",
       "      <td>131</td>\n",
       "      <td>-24</td>\n",
       "      <td>-7</td>\n",
       "      <td>0</td>\n",
       "      <td>0</td>\n",
       "      <td>0</td>\n",
       "      <td>0</td>\n",
       "      <td>0</td>\n",
       "    </tr>\n",
       "    <tr>\n",
       "      <th>3</th>\n",
       "      <td>15:56:00</td>\n",
       "      <td>16:05:00</td>\n",
       "      <td>17:26:00</td>\n",
       "      <td>17:59:00</td>\n",
       "      <td>150</td>\n",
       "      <td>174</td>\n",
       "      <td>129</td>\n",
       "      <td>-33</td>\n",
       "      <td>-9</td>\n",
       "      <td>0</td>\n",
       "      <td>0</td>\n",
       "      <td>0</td>\n",
       "      <td>0</td>\n",
       "      <td>0</td>\n",
       "    </tr>\n",
       "    <tr>\n",
       "      <th>4</th>\n",
       "      <td>19:34:00</td>\n",
       "      <td>19:00:00</td>\n",
       "      <td>22:35:00</td>\n",
       "      <td>22:32:00</td>\n",
       "      <td>121</td>\n",
       "      <td>152</td>\n",
       "      <td>106</td>\n",
       "      <td>3</td>\n",
       "      <td>34</td>\n",
       "      <td>0</td>\n",
       "      <td>0</td>\n",
       "      <td>0</td>\n",
       "      <td>0</td>\n",
       "      <td>0</td>\n",
       "    </tr>\n",
       "  </tbody>\n",
       "</table>\n",
       "</div>"
      ],
      "text/plain": [
       "    DepTime CRSDepTime   ArrTime CRSArrTime  ActualElapsedTime  \\\n",
       "0  16:03:00   16:05:00  17:41:00   17:59:00                158   \n",
       "1  15:59:00   16:05:00  17:36:00   17:59:00                157   \n",
       "2  16:03:00   16:10:00  17:41:00   18:05:00                158   \n",
       "3  15:56:00   16:05:00  17:26:00   17:59:00                150   \n",
       "4  19:34:00   19:00:00  22:35:00   22:32:00                121   \n",
       "\n",
       "   CRSElapsedTime  AirTime  ArrDelay  DepDelay  CarrierDelay  WeatherDelay  \\\n",
       "0             174      131       -18        -2             0             0   \n",
       "1             174      136       -23        -6             0             0   \n",
       "2             175      131       -24        -7             0             0   \n",
       "3             174      129       -33        -9             0             0   \n",
       "4             152      106         3        34             0             0   \n",
       "\n",
       "   NASDelay  SecurityDelay  LateAircraftDelay  \n",
       "0         0              0                  0  \n",
       "1         0              0                  0  \n",
       "2         0              0                  0  \n",
       "3         0              0                  0  \n",
       "4         0              0                  0  "
      ]
     },
     "execution_count": 52,
     "metadata": {},
     "output_type": "execute_result"
    }
   ],
   "source": [
    "dfc[time_cols].head()"
   ]
  },
  {
   "cell_type": "markdown",
   "metadata": {},
   "source": [
    "### `UniqueCarrier` could safely be categorical - only 23 different carriers\n",
    "#### Define\n",
    "I will convert `UniqueCarrier` column to category sorted descending by counts.\n",
    "#### Code"
   ]
  },
  {
   "cell_type": "code",
   "execution_count": 53,
   "metadata": {},
   "outputs": [
    {
     "data": {
      "text/plain": [
       "Index(['WN', 'AA', 'OO', 'DL', 'MQ', 'UA', 'US', 'NW', 'XE', 'CO', 'OH', 'EV',\n",
       "       'FL', 'YV', 'AS', 'B6', '9E', 'F9', 'HP', 'HA', 'DH', 'AQ', 'TZ'],\n",
       "      dtype='object')"
      ]
     },
     "execution_count": 53,
     "metadata": {},
     "output_type": "execute_result"
    }
   ],
   "source": [
    "carr_counts = dfc['UniqueCarrier'].value_counts()\n",
    "carr_counts.index"
   ]
  },
  {
   "cell_type": "code",
   "execution_count": 54,
   "metadata": {},
   "outputs": [],
   "source": [
    "carr_cat = pd.api.types.CategoricalDtype(carr_counts.index, ordered=True)"
   ]
  },
  {
   "cell_type": "code",
   "execution_count": 55,
   "metadata": {},
   "outputs": [],
   "source": [
    "dfc['UniqueCarrier'] = dfc['UniqueCarrier'].astype(carr_cat)"
   ]
  },
  {
   "cell_type": "markdown",
   "metadata": {},
   "source": [
    "#### Test"
   ]
  },
  {
   "cell_type": "code",
   "execution_count": 56,
   "metadata": {},
   "outputs": [
    {
     "data": {
      "text/plain": [
       "CategoricalDtype(categories=['WN', 'AA', 'OO', 'DL', 'MQ', 'UA', 'US', 'NW', 'XE', 'CO',\n",
       "                  'OH', 'EV', 'FL', 'YV', 'AS', 'B6', '9E', 'F9', 'HP', 'HA',\n",
       "                  'DH', 'AQ', 'TZ'],\n",
       ", ordered=True)"
      ]
     },
     "execution_count": 56,
     "metadata": {},
     "output_type": "execute_result"
    }
   ],
   "source": [
    "dfc['UniqueCarrier'].dtype"
   ]
  },
  {
   "cell_type": "markdown",
   "metadata": {},
   "source": [
    "### In two records `CancellationCode` was provided, but `Cancelled` was set to 0\n",
    "#### Define\n",
    "Check manually the reason of inconsistency.\n",
    "#### Code"
   ]
  },
  {
   "cell_type": "code",
   "execution_count": 57,
   "metadata": {},
   "outputs": [
    {
     "data": {
      "text/html": [
       "<div>\n",
       "<style scoped>\n",
       "    .dataframe tbody tr th:only-of-type {\n",
       "        vertical-align: middle;\n",
       "    }\n",
       "\n",
       "    .dataframe tbody tr th {\n",
       "        vertical-align: top;\n",
       "    }\n",
       "\n",
       "    .dataframe thead th {\n",
       "        text-align: right;\n",
       "    }\n",
       "</style>\n",
       "<table border=\"1\" class=\"dataframe\">\n",
       "  <thead>\n",
       "    <tr style=\"text-align: right;\">\n",
       "      <th></th>\n",
       "      <th>Year</th>\n",
       "      <th>Month</th>\n",
       "      <th>DayofMonth</th>\n",
       "      <th>DayOfWeek</th>\n",
       "      <th>DepTime</th>\n",
       "      <th>CRSDepTime</th>\n",
       "      <th>ArrTime</th>\n",
       "      <th>CRSArrTime</th>\n",
       "      <th>UniqueCarrier</th>\n",
       "      <th>FlightNum</th>\n",
       "      <th>...</th>\n",
       "      <th>TaxiIn</th>\n",
       "      <th>TaxiOut</th>\n",
       "      <th>Cancelled</th>\n",
       "      <th>CancellationCode</th>\n",
       "      <th>Diverted</th>\n",
       "      <th>CarrierDelay</th>\n",
       "      <th>WeatherDelay</th>\n",
       "      <th>NASDelay</th>\n",
       "      <th>SecurityDelay</th>\n",
       "      <th>LateAircraftDelay</th>\n",
       "    </tr>\n",
       "  </thead>\n",
       "  <tbody>\n",
       "    <tr>\n",
       "      <th>21681210</th>\n",
       "      <td>2007</td>\n",
       "      <td>12</td>\n",
       "      <td>16</td>\n",
       "      <td>7</td>\n",
       "      <td>15:02:00</td>\n",
       "      <td>14:35:00</td>\n",
       "      <td>16:16:00</td>\n",
       "      <td>15:53:00</td>\n",
       "      <td>B6</td>\n",
       "      <td>74</td>\n",
       "      <td>...</td>\n",
       "      <td>3</td>\n",
       "      <td>29</td>\n",
       "      <td>0</td>\n",
       "      <td>B</td>\n",
       "      <td>0</td>\n",
       "      <td>0</td>\n",
       "      <td>8</td>\n",
       "      <td>0</td>\n",
       "      <td>0</td>\n",
       "      <td>15</td>\n",
       "    </tr>\n",
       "  </tbody>\n",
       "</table>\n",
       "<p>1 rows × 29 columns</p>\n",
       "</div>"
      ],
      "text/plain": [
       "          Year  Month  DayofMonth  DayOfWeek   DepTime CRSDepTime   ArrTime  \\\n",
       "21681210  2007     12          16          7  15:02:00   14:35:00  16:16:00   \n",
       "\n",
       "         CRSArrTime UniqueCarrier  FlightNum  ... TaxiIn  TaxiOut  Cancelled  \\\n",
       "21681210   15:53:00            B6         74  ...      3       29          0   \n",
       "\n",
       "          CancellationCode  Diverted  CarrierDelay WeatherDelay NASDelay  \\\n",
       "21681210                 B         0             0            8        0   \n",
       "\n",
       "          SecurityDelay  LateAircraftDelay  \n",
       "21681210              0                 15  \n",
       "\n",
       "[1 rows x 29 columns]"
      ]
     },
     "execution_count": 57,
     "metadata": {},
     "output_type": "execute_result"
    }
   ],
   "source": [
    "dfc[(dfc['CancellationCode'].notna()) & (dfc['Cancelled'] == 0)]"
   ]
  },
  {
   "cell_type": "code",
   "execution_count": 58,
   "metadata": {},
   "outputs": [],
   "source": [
    "# The record has ArrTime in place -> the flight has arrived at destination, hence CancellationCode is not needed\n",
    "dfc.loc[dfc.index == 21681210, 'CancellationCode'] = np.nan"
   ]
  },
  {
   "cell_type": "markdown",
   "metadata": {},
   "source": [
    "#### Test"
   ]
  },
  {
   "cell_type": "code",
   "execution_count": 59,
   "metadata": {},
   "outputs": [
    {
     "data": {
      "text/html": [
       "<div>\n",
       "<style scoped>\n",
       "    .dataframe tbody tr th:only-of-type {\n",
       "        vertical-align: middle;\n",
       "    }\n",
       "\n",
       "    .dataframe tbody tr th {\n",
       "        vertical-align: top;\n",
       "    }\n",
       "\n",
       "    .dataframe thead th {\n",
       "        text-align: right;\n",
       "    }\n",
       "</style>\n",
       "<table border=\"1\" class=\"dataframe\">\n",
       "  <thead>\n",
       "    <tr style=\"text-align: right;\">\n",
       "      <th></th>\n",
       "      <th>Year</th>\n",
       "      <th>Month</th>\n",
       "      <th>DayofMonth</th>\n",
       "      <th>DayOfWeek</th>\n",
       "      <th>DepTime</th>\n",
       "      <th>CRSDepTime</th>\n",
       "      <th>ArrTime</th>\n",
       "      <th>CRSArrTime</th>\n",
       "      <th>UniqueCarrier</th>\n",
       "      <th>FlightNum</th>\n",
       "      <th>...</th>\n",
       "      <th>TaxiIn</th>\n",
       "      <th>TaxiOut</th>\n",
       "      <th>Cancelled</th>\n",
       "      <th>CancellationCode</th>\n",
       "      <th>Diverted</th>\n",
       "      <th>CarrierDelay</th>\n",
       "      <th>WeatherDelay</th>\n",
       "      <th>NASDelay</th>\n",
       "      <th>SecurityDelay</th>\n",
       "      <th>LateAircraftDelay</th>\n",
       "    </tr>\n",
       "  </thead>\n",
       "  <tbody>\n",
       "    <tr>\n",
       "      <th>21681210</th>\n",
       "      <td>2007</td>\n",
       "      <td>12</td>\n",
       "      <td>16</td>\n",
       "      <td>7</td>\n",
       "      <td>15:02:00</td>\n",
       "      <td>14:35:00</td>\n",
       "      <td>16:16:00</td>\n",
       "      <td>15:53:00</td>\n",
       "      <td>B6</td>\n",
       "      <td>74</td>\n",
       "      <td>...</td>\n",
       "      <td>3</td>\n",
       "      <td>29</td>\n",
       "      <td>0</td>\n",
       "      <td>NaN</td>\n",
       "      <td>0</td>\n",
       "      <td>0</td>\n",
       "      <td>8</td>\n",
       "      <td>0</td>\n",
       "      <td>0</td>\n",
       "      <td>15</td>\n",
       "    </tr>\n",
       "  </tbody>\n",
       "</table>\n",
       "<p>1 rows × 29 columns</p>\n",
       "</div>"
      ],
      "text/plain": [
       "          Year  Month  DayofMonth  DayOfWeek   DepTime CRSDepTime   ArrTime  \\\n",
       "21681210  2007     12          16          7  15:02:00   14:35:00  16:16:00   \n",
       "\n",
       "         CRSArrTime UniqueCarrier  FlightNum  ... TaxiIn  TaxiOut  Cancelled  \\\n",
       "21681210   15:53:00            B6         74  ...      3       29          0   \n",
       "\n",
       "          CancellationCode  Diverted  CarrierDelay WeatherDelay NASDelay  \\\n",
       "21681210               NaN         0             0            8        0   \n",
       "\n",
       "          SecurityDelay  LateAircraftDelay  \n",
       "21681210              0                 15  \n",
       "\n",
       "[1 rows x 29 columns]"
      ]
     },
     "execution_count": 59,
     "metadata": {},
     "output_type": "execute_result"
    }
   ],
   "source": [
    "dfc[dfc.index == 21681210]"
   ]
  },
  {
   "cell_type": "markdown",
   "metadata": {},
   "source": [
    "## Relations potentially worth exploring\n",
    "The dataset is now of better quality.  \n",
    "Below I will consider which features are worth exploring.  \n",
    "In the end I will strip and split the data so that only useful part remains.  \n",
    "- Actual vs Planned flight time\n",
    "- Distance vs Arrival Delay\n",
    "- Arrival Delay vs Departure Delay\n",
    "- Arrival Delay vs Unique Carrier\n",
    "- Delay by category by year by month or even day/day of week\n",
    "- Delays by Origin and Destination\n",
    "- Diverting by Origin and Destination\n",
    "- Cancellation by category"
   ]
  },
  {
   "cell_type": "markdown",
   "metadata": {},
   "source": [
    "## Output\n",
    "Eport data wrangled so far for possible future exploration.  \n",
    "Prepare smaller chunks of data for analyses."
   ]
  },
  {
   "cell_type": "markdown",
   "metadata": {},
   "source": [
    "#### Export clean data to csv"
   ]
  },
  {
   "cell_type": "code",
   "execution_count": 60,
   "metadata": {},
   "outputs": [],
   "source": [
    "dfc.to_csv('./data/flights_clean.csv', index=False)"
   ]
  },
  {
   "cell_type": "markdown",
   "metadata": {},
   "source": [
    "#### Get rid of columns that won't be used at all\n",
    "Namely: `FlightNum`, `TailNum`, `AirTime`, `TaxiIn`, `TaxiOut`."
   ]
  },
  {
   "cell_type": "code",
   "execution_count": 61,
   "metadata": {},
   "outputs": [],
   "source": [
    "dfc.drop(columns=['FlightNum', 'TailNum', 'AirTime', 'TaxiIn', 'TaxiOut'], inplace=True)"
   ]
  },
  {
   "cell_type": "markdown",
   "metadata": {},
   "source": [
    "#### Have separate dataframes / files: one for diverted or cancelled flights and the second for all other flights\n",
    "This will allow for dropping NaN columns from each set and ease up on future analysis."
   ]
  },
  {
   "cell_type": "code",
   "execution_count": 62,
   "metadata": {},
   "outputs": [],
   "source": [
    "df_cancelled = dfc[(dfc['Cancelled'] == 1) | (dfc['Diverted'] == 1)].copy()"
   ]
  },
  {
   "cell_type": "code",
   "execution_count": 63,
   "metadata": {},
   "outputs": [
    {
     "name": "stdout",
     "output_type": "stream",
     "text": [
      "<class 'pandas.core.frame.DataFrame'>\n",
      "Int64Index: 463767 entries, 7 to 21735717\n",
      "Data columns (total 24 columns):\n",
      " #   Column             Non-Null Count   Dtype   \n",
      "---  ------             --------------   -----   \n",
      " 0   Year               463767 non-null  int64   \n",
      " 1   Month              463767 non-null  int64   \n",
      " 2   DayofMonth         463767 non-null  int64   \n",
      " 3   DayOfWeek          463767 non-null  int64   \n",
      " 4   DepTime            47358 non-null   object  \n",
      " 5   CRSDepTime         463767 non-null  object  \n",
      " 6   ArrTime            0 non-null       object  \n",
      " 7   CRSArrTime         463767 non-null  object  \n",
      " 8   UniqueCarrier      463767 non-null  category\n",
      " 9   ActualElapsedTime  0 non-null       Int64   \n",
      " 10  CRSElapsedTime     462769 non-null  Int64   \n",
      " 11  ArrDelay           0 non-null       Int64   \n",
      " 12  DepDelay           47358 non-null   Int64   \n",
      " 13  Origin             463767 non-null  object  \n",
      " 14  Dest               463767 non-null  object  \n",
      " 15  Distance           463767 non-null  int64   \n",
      " 16  Cancelled          463767 non-null  int64   \n",
      " 17  CancellationCode   416409 non-null  object  \n",
      " 18  Diverted           463767 non-null  int64   \n",
      " 19  CarrierDelay       463767 non-null  int64   \n",
      " 20  WeatherDelay       463767 non-null  int64   \n",
      " 21  NASDelay           463767 non-null  int64   \n",
      " 22  SecurityDelay      463767 non-null  int64   \n",
      " 23  LateAircraftDelay  463767 non-null  int64   \n",
      "dtypes: Int64(4), category(1), int64(12), object(7)\n",
      "memory usage: 87.1+ MB\n"
     ]
    }
   ],
   "source": [
    "df_cancelled.info()"
   ]
  },
  {
   "cell_type": "code",
   "execution_count": 64,
   "metadata": {},
   "outputs": [],
   "source": [
    "# Dropping wholly NaN columns\n",
    "df_cancelled.drop(columns=['ArrTime', 'ActualElapsedTime', 'ArrDelay'], inplace=True)"
   ]
  },
  {
   "cell_type": "code",
   "execution_count": 65,
   "metadata": {},
   "outputs": [],
   "source": [
    "df_normal = dfc[(dfc['Cancelled'] == 0) & (dfc['Diverted'] == 0)]"
   ]
  },
  {
   "cell_type": "code",
   "execution_count": 66,
   "metadata": {},
   "outputs": [
    {
     "name": "stdout",
     "output_type": "stream",
     "text": [
      "<class 'pandas.core.frame.DataFrame'>\n",
      "Int64Index: 21262093 entries, 0 to 21735732\n",
      "Data columns (total 24 columns):\n",
      " #   Column             Non-Null Count     Dtype   \n",
      "---  ------             --------------     -----   \n",
      " 0   Year               21262093 non-null  int64   \n",
      " 1   Month              21262093 non-null  int64   \n",
      " 2   DayofMonth         21262093 non-null  int64   \n",
      " 3   DayOfWeek          21262093 non-null  int64   \n",
      " 4   DepTime            21262093 non-null  object  \n",
      " 5   CRSDepTime         21262093 non-null  object  \n",
      " 6   ArrTime            21262093 non-null  object  \n",
      " 7   CRSArrTime         21262093 non-null  object  \n",
      " 8   UniqueCarrier      21262093 non-null  category\n",
      " 9   ActualElapsedTime  21262093 non-null  Int64   \n",
      " 10  CRSElapsedTime     21262093 non-null  Int64   \n",
      " 11  ArrDelay           21262093 non-null  Int64   \n",
      " 12  DepDelay           21262093 non-null  Int64   \n",
      " 13  Origin             21262093 non-null  object  \n",
      " 14  Dest               21262093 non-null  object  \n",
      " 15  Distance           21262093 non-null  int64   \n",
      " 16  Cancelled          21262093 non-null  int64   \n",
      " 17  CancellationCode   0 non-null         object  \n",
      " 18  Diverted           21262093 non-null  int64   \n",
      " 19  CarrierDelay       21262093 non-null  int64   \n",
      " 20  WeatherDelay       21262093 non-null  int64   \n",
      " 21  NASDelay           21262093 non-null  int64   \n",
      " 22  SecurityDelay      21262093 non-null  int64   \n",
      " 23  LateAircraftDelay  21262093 non-null  int64   \n",
      "dtypes: Int64(4), category(1), int64(12), object(7)\n",
      "memory usage: 3.9+ GB\n"
     ]
    }
   ],
   "source": [
    "df_normal.info(show_counts=True)"
   ]
  },
  {
   "cell_type": "code",
   "execution_count": 67,
   "metadata": {},
   "outputs": [],
   "source": [
    "df_normal = df_normal.drop(columns=['Cancelled', 'CancellationCode', 'Diverted'])"
   ]
  },
  {
   "cell_type": "code",
   "execution_count": 68,
   "metadata": {},
   "outputs": [
    {
     "name": "stdout",
     "output_type": "stream",
     "text": [
      "<class 'pandas.core.frame.DataFrame'>\n",
      "Int64Index: 21262093 entries, 0 to 21735732\n",
      "Data columns (total 21 columns):\n",
      " #   Column             Non-Null Count     Dtype   \n",
      "---  ------             --------------     -----   \n",
      " 0   Year               21262093 non-null  int64   \n",
      " 1   Month              21262093 non-null  int64   \n",
      " 2   DayofMonth         21262093 non-null  int64   \n",
      " 3   DayOfWeek          21262093 non-null  int64   \n",
      " 4   DepTime            21262093 non-null  object  \n",
      " 5   CRSDepTime         21262093 non-null  object  \n",
      " 6   ArrTime            21262093 non-null  object  \n",
      " 7   CRSArrTime         21262093 non-null  object  \n",
      " 8   UniqueCarrier      21262093 non-null  category\n",
      " 9   ActualElapsedTime  21262093 non-null  Int64   \n",
      " 10  CRSElapsedTime     21262093 non-null  Int64   \n",
      " 11  ArrDelay           21262093 non-null  Int64   \n",
      " 12  DepDelay           21262093 non-null  Int64   \n",
      " 13  Origin             21262093 non-null  object  \n",
      " 14  Dest               21262093 non-null  object  \n",
      " 15  Distance           21262093 non-null  int64   \n",
      " 16  CarrierDelay       21262093 non-null  int64   \n",
      " 17  WeatherDelay       21262093 non-null  int64   \n",
      " 18  NASDelay           21262093 non-null  int64   \n",
      " 19  SecurityDelay      21262093 non-null  int64   \n",
      " 20  LateAircraftDelay  21262093 non-null  int64   \n",
      "dtypes: Int64(4), category(1), int64(10), object(6)\n",
      "memory usage: 3.4+ GB\n"
     ]
    }
   ],
   "source": [
    "df_normal.info(show_counts=True)"
   ]
  },
  {
   "cell_type": "markdown",
   "metadata": {},
   "source": [
    "#### Export split data to csv's"
   ]
  },
  {
   "cell_type": "code",
   "execution_count": 69,
   "metadata": {},
   "outputs": [],
   "source": [
    "df_cancelled.to_csv('./data/flights_cancelled.csv', index=False)\n",
    "df_normal.to_csv('./data/flights_normal.csv', index=False)"
   ]
  }
 ],
 "metadata": {
  "kernelspec": {
   "display_name": "Python 3",
   "language": "python",
   "name": "python3"
  },
  "language_info": {
   "codemirror_mode": {
    "name": "ipython",
    "version": 3
   },
   "file_extension": ".py",
   "mimetype": "text/x-python",
   "name": "python",
   "nbconvert_exporter": "python",
   "pygments_lexer": "ipython3",
   "version": "3.8.5"
  }
 },
 "nbformat": 4,
 "nbformat_minor": 2
}
